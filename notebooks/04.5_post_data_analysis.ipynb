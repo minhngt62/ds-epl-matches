{
 "cells": [
  {
   "cell_type": "code",
   "execution_count": 1,
   "id": "545e95c1",
   "metadata": {},
   "outputs": [],
   "source": [
    "# Python ≥3.5 is required\n",
    "import sys\n",
    "assert sys.version_info >= (3, 5)\n",
    "\n",
    "# Disable warnings\n",
    "import warnings\n",
    "warnings.filterwarnings('ignore')\n",
    "\n",
    "# Scikit-Learn ≥0.20 is required\n",
    "import sklearn\n",
    "assert sklearn.__version__ >= \"0.20\"\n",
    "\n",
    "# Common imports\n",
    "import joblib\n",
    "import copy\n",
    "import pandas as pd\n",
    "import numpy as np\n",
    "import os\n",
    "PRJ_ROOT_DIR = os.path.dirname(os.path.abspath(''))\n",
    "\n",
    "# to make this notebook's output stable across runs\n",
    "np.random.seed(42)\n",
    "\n",
    "# To plot pretty figures\n",
    "%matplotlib inline\n",
    "import matplotlib as mpl\n",
    "import matplotlib.pyplot as plt\n",
    "mpl.rc('axes', labelsize=14)\n",
    "mpl.rc('xtick', labelsize=12)\n",
    "mpl.rc('ytick', labelsize=12)"
   ]
  },
  {
   "cell_type": "code",
   "execution_count": 2,
   "id": "8f191761",
   "metadata": {},
   "outputs": [],
   "source": [
    "# Where to save the figures\n",
    "NOTE_ROOT_DIR = os.path.abspath('')\n",
    "CHAPTER_ID = \"04_modelling\"\n",
    "IMAGES_PATH = os.path.join(NOTE_ROOT_DIR, \"images\", CHAPTER_ID)\n",
    "os.makedirs(IMAGES_PATH, exist_ok=True)\n",
    "\n",
    "def save_fig(fig_id, tight_layout=True, fig_extension=\"png\", resolution=300):\n",
    "    path = os.path.join(IMAGES_PATH, fig_id + \".\" + fig_extension)\n",
    "    print(\"Saving figure\", fig_id)\n",
    "    if tight_layout:\n",
    "        plt.tight_layout()\n",
    "    plt.savefig(path, format=fig_extension, dpi=resolution)"
   ]
  },
  {
   "cell_type": "markdown",
   "id": "51f6a330",
   "metadata": {},
   "source": [
    "## 1 - Load the Data"
   ]
  },
  {
   "cell_type": "code",
   "execution_count": 3,
   "id": "e5238ce6",
   "metadata": {},
   "outputs": [
    {
     "data": {
      "text/html": [
       "<div>\n",
       "<style scoped>\n",
       "    .dataframe tbody tr th:only-of-type {\n",
       "        vertical-align: middle;\n",
       "    }\n",
       "\n",
       "    .dataframe tbody tr th {\n",
       "        vertical-align: top;\n",
       "    }\n",
       "\n",
       "    .dataframe thead th {\n",
       "        text-align: right;\n",
       "    }\n",
       "</style>\n",
       "<table border=\"1\" class=\"dataframe\">\n",
       "  <thead>\n",
       "    <tr style=\"text-align: right;\">\n",
       "      <th></th>\n",
       "      <th>home_result</th>\n",
       "      <th>defence/clean_sheets_0</th>\n",
       "      <th>defence/goals_conceded_0</th>\n",
       "      <th>defence/tackles_0</th>\n",
       "      <th>defence/tackle_success_%_0</th>\n",
       "      <th>defence/last_man_tackles_0</th>\n",
       "      <th>defence/blocked_shots_0</th>\n",
       "      <th>defence/interceptions_0</th>\n",
       "      <th>defence/clearances_0</th>\n",
       "      <th>defence/headed_clearance_0</th>\n",
       "      <th>...</th>\n",
       "      <th>goalkeeping/catches_26</th>\n",
       "      <th>goalkeeping/sweeper_clearances_26</th>\n",
       "      <th>goalkeeping/throw_outs_26</th>\n",
       "      <th>goalkeeping/goal_kicks_26</th>\n",
       "      <th>defence/recoveries_26</th>\n",
       "      <th>defence/duels_won_26</th>\n",
       "      <th>defence/duels_lost_26</th>\n",
       "      <th>teamplay/passes_26</th>\n",
       "      <th>teamplay/crosses_26</th>\n",
       "      <th>teamplay/accurate_long_balls_26</th>\n",
       "    </tr>\n",
       "  </thead>\n",
       "  <tbody>\n",
       "    <tr>\n",
       "      <th>0</th>\n",
       "      <td>lose</td>\n",
       "      <td>5.0</td>\n",
       "      <td>34.0</td>\n",
       "      <td>0.0</td>\n",
       "      <td>0.0</td>\n",
       "      <td>0.0</td>\n",
       "      <td>0.0</td>\n",
       "      <td>0.0</td>\n",
       "      <td>0.0</td>\n",
       "      <td>0.0</td>\n",
       "      <td>...</td>\n",
       "      <td>0.0</td>\n",
       "      <td>0.0</td>\n",
       "      <td>0.0</td>\n",
       "      <td>0.0</td>\n",
       "      <td>0.0</td>\n",
       "      <td>0.0</td>\n",
       "      <td>0.0</td>\n",
       "      <td>1097.0</td>\n",
       "      <td>88.0</td>\n",
       "      <td>0.0</td>\n",
       "    </tr>\n",
       "    <tr>\n",
       "      <th>1</th>\n",
       "      <td>win</td>\n",
       "      <td>6.0</td>\n",
       "      <td>21.0</td>\n",
       "      <td>0.0</td>\n",
       "      <td>0.0</td>\n",
       "      <td>0.0</td>\n",
       "      <td>0.0</td>\n",
       "      <td>0.0</td>\n",
       "      <td>0.0</td>\n",
       "      <td>0.0</td>\n",
       "      <td>...</td>\n",
       "      <td>0.0</td>\n",
       "      <td>0.0</td>\n",
       "      <td>0.0</td>\n",
       "      <td>0.0</td>\n",
       "      <td>0.0</td>\n",
       "      <td>0.0</td>\n",
       "      <td>0.0</td>\n",
       "      <td>0.0</td>\n",
       "      <td>0.0</td>\n",
       "      <td>0.0</td>\n",
       "    </tr>\n",
       "    <tr>\n",
       "      <th>2</th>\n",
       "      <td>win</td>\n",
       "      <td>13.0</td>\n",
       "      <td>23.0</td>\n",
       "      <td>0.0</td>\n",
       "      <td>0.0</td>\n",
       "      <td>0.0</td>\n",
       "      <td>0.0</td>\n",
       "      <td>0.0</td>\n",
       "      <td>0.0</td>\n",
       "      <td>0.0</td>\n",
       "      <td>...</td>\n",
       "      <td>0.0</td>\n",
       "      <td>0.0</td>\n",
       "      <td>0.0</td>\n",
       "      <td>0.0</td>\n",
       "      <td>0.0</td>\n",
       "      <td>0.0</td>\n",
       "      <td>0.0</td>\n",
       "      <td>0.0</td>\n",
       "      <td>0.0</td>\n",
       "      <td>0.0</td>\n",
       "    </tr>\n",
       "    <tr>\n",
       "      <th>3</th>\n",
       "      <td>win</td>\n",
       "      <td>11.0</td>\n",
       "      <td>37.0</td>\n",
       "      <td>0.0</td>\n",
       "      <td>0.0</td>\n",
       "      <td>0.0</td>\n",
       "      <td>0.0</td>\n",
       "      <td>0.0</td>\n",
       "      <td>0.0</td>\n",
       "      <td>0.0</td>\n",
       "      <td>...</td>\n",
       "      <td>0.0</td>\n",
       "      <td>0.0</td>\n",
       "      <td>0.0</td>\n",
       "      <td>0.0</td>\n",
       "      <td>0.0</td>\n",
       "      <td>0.0</td>\n",
       "      <td>0.0</td>\n",
       "      <td>248.0</td>\n",
       "      <td>13.0</td>\n",
       "      <td>0.0</td>\n",
       "    </tr>\n",
       "    <tr>\n",
       "      <th>4</th>\n",
       "      <td>win</td>\n",
       "      <td>13.0</td>\n",
       "      <td>36.0</td>\n",
       "      <td>0.0</td>\n",
       "      <td>0.0</td>\n",
       "      <td>0.0</td>\n",
       "      <td>0.0</td>\n",
       "      <td>0.0</td>\n",
       "      <td>0.0</td>\n",
       "      <td>0.0</td>\n",
       "      <td>...</td>\n",
       "      <td>0.0</td>\n",
       "      <td>0.0</td>\n",
       "      <td>0.0</td>\n",
       "      <td>0.0</td>\n",
       "      <td>0.0</td>\n",
       "      <td>0.0</td>\n",
       "      <td>0.0</td>\n",
       "      <td>0.0</td>\n",
       "      <td>0.0</td>\n",
       "      <td>0.0</td>\n",
       "    </tr>\n",
       "  </tbody>\n",
       "</table>\n",
       "<p>5 rows × 1351 columns</p>\n",
       "</div>"
      ],
      "text/plain": [
       "  home_result  defence/clean_sheets_0  defence/goals_conceded_0  \\\n",
       "0        lose                     5.0                      34.0   \n",
       "1         win                     6.0                      21.0   \n",
       "2         win                    13.0                      23.0   \n",
       "3         win                    11.0                      37.0   \n",
       "4         win                    13.0                      36.0   \n",
       "\n",
       "   defence/tackles_0  defence/tackle_success_%_0  defence/last_man_tackles_0  \\\n",
       "0                0.0                         0.0                         0.0   \n",
       "1                0.0                         0.0                         0.0   \n",
       "2                0.0                         0.0                         0.0   \n",
       "3                0.0                         0.0                         0.0   \n",
       "4                0.0                         0.0                         0.0   \n",
       "\n",
       "   defence/blocked_shots_0  defence/interceptions_0  defence/clearances_0  \\\n",
       "0                      0.0                      0.0                   0.0   \n",
       "1                      0.0                      0.0                   0.0   \n",
       "2                      0.0                      0.0                   0.0   \n",
       "3                      0.0                      0.0                   0.0   \n",
       "4                      0.0                      0.0                   0.0   \n",
       "\n",
       "   defence/headed_clearance_0  ...  goalkeeping/catches_26  \\\n",
       "0                         0.0  ...                     0.0   \n",
       "1                         0.0  ...                     0.0   \n",
       "2                         0.0  ...                     0.0   \n",
       "3                         0.0  ...                     0.0   \n",
       "4                         0.0  ...                     0.0   \n",
       "\n",
       "   goalkeeping/sweeper_clearances_26  goalkeeping/throw_outs_26  \\\n",
       "0                                0.0                        0.0   \n",
       "1                                0.0                        0.0   \n",
       "2                                0.0                        0.0   \n",
       "3                                0.0                        0.0   \n",
       "4                                0.0                        0.0   \n",
       "\n",
       "   goalkeeping/goal_kicks_26  defence/recoveries_26  defence/duels_won_26  \\\n",
       "0                        0.0                    0.0                   0.0   \n",
       "1                        0.0                    0.0                   0.0   \n",
       "2                        0.0                    0.0                   0.0   \n",
       "3                        0.0                    0.0                   0.0   \n",
       "4                        0.0                    0.0                   0.0   \n",
       "\n",
       "   defence/duels_lost_26  teamplay/passes_26  teamplay/crosses_26  \\\n",
       "0                    0.0              1097.0                 88.0   \n",
       "1                    0.0                 0.0                  0.0   \n",
       "2                    0.0                 0.0                  0.0   \n",
       "3                    0.0               248.0                 13.0   \n",
       "4                    0.0                 0.0                  0.0   \n",
       "\n",
       "   teamplay/accurate_long_balls_26  \n",
       "0                              0.0  \n",
       "1                              0.0  \n",
       "2                              0.0  \n",
       "3                              0.0  \n",
       "4                              0.0  \n",
       "\n",
       "[5 rows x 1351 columns]"
      ]
     },
     "execution_count": 3,
     "metadata": {},
     "output_type": "execute_result"
    }
   ],
   "source": [
    "# Load the integrated data\n",
    "df_match = pd.read_csv(os.path.join(PRJ_ROOT_DIR, \"data\", \"tabular\", \"integrate\", \"matches.csv\"))\n",
    "df_match.drop(['season'], axis=1, inplace=True)\n",
    "df_match = df_match.replace(-100, 0)\n",
    "df_match.head()"
   ]
  },
  {
   "cell_type": "markdown",
   "id": "24744974",
   "metadata": {},
   "source": [
    "### 1.1 - Recover the Test Set"
   ]
  },
  {
   "cell_type": "code",
   "execution_count": 4,
   "id": "acb7f39c",
   "metadata": {},
   "outputs": [
    {
     "data": {
      "text/html": [
       "<div>\n",
       "<style scoped>\n",
       "    .dataframe tbody tr th:only-of-type {\n",
       "        vertical-align: middle;\n",
       "    }\n",
       "\n",
       "    .dataframe tbody tr th {\n",
       "        vertical-align: top;\n",
       "    }\n",
       "\n",
       "    .dataframe thead th {\n",
       "        text-align: right;\n",
       "    }\n",
       "</style>\n",
       "<table border=\"1\" class=\"dataframe\">\n",
       "  <thead>\n",
       "    <tr style=\"text-align: right;\">\n",
       "      <th></th>\n",
       "      <th>defence/clean_sheets_0</th>\n",
       "      <th>defence/goals_conceded_0</th>\n",
       "      <th>defence/tackles_0</th>\n",
       "      <th>defence/tackle_success_%_0</th>\n",
       "      <th>defence/last_man_tackles_0</th>\n",
       "      <th>defence/blocked_shots_0</th>\n",
       "      <th>defence/interceptions_0</th>\n",
       "      <th>defence/clearances_0</th>\n",
       "      <th>defence/headed_clearance_0</th>\n",
       "      <th>defence/clearances_off_line_0</th>\n",
       "      <th>...</th>\n",
       "      <th>goalkeeping/catches_26</th>\n",
       "      <th>goalkeeping/sweeper_clearances_26</th>\n",
       "      <th>goalkeeping/throw_outs_26</th>\n",
       "      <th>goalkeeping/goal_kicks_26</th>\n",
       "      <th>defence/recoveries_26</th>\n",
       "      <th>defence/duels_won_26</th>\n",
       "      <th>defence/duels_lost_26</th>\n",
       "      <th>teamplay/passes_26</th>\n",
       "      <th>teamplay/crosses_26</th>\n",
       "      <th>teamplay/accurate_long_balls_26</th>\n",
       "    </tr>\n",
       "  </thead>\n",
       "  <tbody>\n",
       "    <tr>\n",
       "      <th>872</th>\n",
       "      <td>8.0</td>\n",
       "      <td>50.0</td>\n",
       "      <td>0.0</td>\n",
       "      <td>0.0</td>\n",
       "      <td>0.0</td>\n",
       "      <td>0.0</td>\n",
       "      <td>0.0</td>\n",
       "      <td>0.0</td>\n",
       "      <td>0.0</td>\n",
       "      <td>0.0</td>\n",
       "      <td>...</td>\n",
       "      <td>0.0</td>\n",
       "      <td>0.0</td>\n",
       "      <td>0.0</td>\n",
       "      <td>0.0</td>\n",
       "      <td>0.0</td>\n",
       "      <td>0.0</td>\n",
       "      <td>0.0</td>\n",
       "      <td>0.0</td>\n",
       "      <td>0.0</td>\n",
       "      <td>0.0</td>\n",
       "    </tr>\n",
       "    <tr>\n",
       "      <th>626</th>\n",
       "      <td>10.0</td>\n",
       "      <td>51.0</td>\n",
       "      <td>0.0</td>\n",
       "      <td>0.0</td>\n",
       "      <td>0.0</td>\n",
       "      <td>0.0</td>\n",
       "      <td>0.0</td>\n",
       "      <td>0.0</td>\n",
       "      <td>0.0</td>\n",
       "      <td>0.0</td>\n",
       "      <td>...</td>\n",
       "      <td>0.0</td>\n",
       "      <td>0.0</td>\n",
       "      <td>0.0</td>\n",
       "      <td>0.0</td>\n",
       "      <td>0.0</td>\n",
       "      <td>0.0</td>\n",
       "      <td>0.0</td>\n",
       "      <td>0.0</td>\n",
       "      <td>0.0</td>\n",
       "      <td>0.0</td>\n",
       "    </tr>\n",
       "    <tr>\n",
       "      <th>617</th>\n",
       "      <td>9.0</td>\n",
       "      <td>48.0</td>\n",
       "      <td>0.0</td>\n",
       "      <td>0.0</td>\n",
       "      <td>0.0</td>\n",
       "      <td>0.0</td>\n",
       "      <td>0.0</td>\n",
       "      <td>0.0</td>\n",
       "      <td>0.0</td>\n",
       "      <td>0.0</td>\n",
       "      <td>...</td>\n",
       "      <td>0.0</td>\n",
       "      <td>0.0</td>\n",
       "      <td>0.0</td>\n",
       "      <td>0.0</td>\n",
       "      <td>0.0</td>\n",
       "      <td>0.0</td>\n",
       "      <td>0.0</td>\n",
       "      <td>0.0</td>\n",
       "      <td>0.0</td>\n",
       "      <td>0.0</td>\n",
       "    </tr>\n",
       "    <tr>\n",
       "      <th>409</th>\n",
       "      <td>11.0</td>\n",
       "      <td>37.0</td>\n",
       "      <td>0.0</td>\n",
       "      <td>0.0</td>\n",
       "      <td>0.0</td>\n",
       "      <td>0.0</td>\n",
       "      <td>0.0</td>\n",
       "      <td>0.0</td>\n",
       "      <td>0.0</td>\n",
       "      <td>0.0</td>\n",
       "      <td>...</td>\n",
       "      <td>0.0</td>\n",
       "      <td>0.0</td>\n",
       "      <td>0.0</td>\n",
       "      <td>0.0</td>\n",
       "      <td>0.0</td>\n",
       "      <td>0.0</td>\n",
       "      <td>0.0</td>\n",
       "      <td>0.0</td>\n",
       "      <td>0.0</td>\n",
       "      <td>0.0</td>\n",
       "    </tr>\n",
       "    <tr>\n",
       "      <th>589</th>\n",
       "      <td>9.0</td>\n",
       "      <td>48.0</td>\n",
       "      <td>0.0</td>\n",
       "      <td>0.0</td>\n",
       "      <td>0.0</td>\n",
       "      <td>0.0</td>\n",
       "      <td>0.0</td>\n",
       "      <td>0.0</td>\n",
       "      <td>0.0</td>\n",
       "      <td>0.0</td>\n",
       "      <td>...</td>\n",
       "      <td>0.0</td>\n",
       "      <td>0.0</td>\n",
       "      <td>0.0</td>\n",
       "      <td>0.0</td>\n",
       "      <td>0.0</td>\n",
       "      <td>0.0</td>\n",
       "      <td>0.0</td>\n",
       "      <td>0.0</td>\n",
       "      <td>0.0</td>\n",
       "      <td>0.0</td>\n",
       "    </tr>\n",
       "  </tbody>\n",
       "</table>\n",
       "<p>5 rows × 1350 columns</p>\n",
       "</div>"
      ],
      "text/plain": [
       "     defence/clean_sheets_0  defence/goals_conceded_0  defence/tackles_0  \\\n",
       "872                     8.0                      50.0                0.0   \n",
       "626                    10.0                      51.0                0.0   \n",
       "617                     9.0                      48.0                0.0   \n",
       "409                    11.0                      37.0                0.0   \n",
       "589                     9.0                      48.0                0.0   \n",
       "\n",
       "     defence/tackle_success_%_0  defence/last_man_tackles_0  \\\n",
       "872                         0.0                         0.0   \n",
       "626                         0.0                         0.0   \n",
       "617                         0.0                         0.0   \n",
       "409                         0.0                         0.0   \n",
       "589                         0.0                         0.0   \n",
       "\n",
       "     defence/blocked_shots_0  defence/interceptions_0  defence/clearances_0  \\\n",
       "872                      0.0                      0.0                   0.0   \n",
       "626                      0.0                      0.0                   0.0   \n",
       "617                      0.0                      0.0                   0.0   \n",
       "409                      0.0                      0.0                   0.0   \n",
       "589                      0.0                      0.0                   0.0   \n",
       "\n",
       "     defence/headed_clearance_0  defence/clearances_off_line_0  ...  \\\n",
       "872                         0.0                            0.0  ...   \n",
       "626                         0.0                            0.0  ...   \n",
       "617                         0.0                            0.0  ...   \n",
       "409                         0.0                            0.0  ...   \n",
       "589                         0.0                            0.0  ...   \n",
       "\n",
       "     goalkeeping/catches_26  goalkeeping/sweeper_clearances_26  \\\n",
       "872                     0.0                                0.0   \n",
       "626                     0.0                                0.0   \n",
       "617                     0.0                                0.0   \n",
       "409                     0.0                                0.0   \n",
       "589                     0.0                                0.0   \n",
       "\n",
       "     goalkeeping/throw_outs_26  goalkeeping/goal_kicks_26  \\\n",
       "872                        0.0                        0.0   \n",
       "626                        0.0                        0.0   \n",
       "617                        0.0                        0.0   \n",
       "409                        0.0                        0.0   \n",
       "589                        0.0                        0.0   \n",
       "\n",
       "     defence/recoveries_26  defence/duels_won_26  defence/duels_lost_26  \\\n",
       "872                    0.0                   0.0                    0.0   \n",
       "626                    0.0                   0.0                    0.0   \n",
       "617                    0.0                   0.0                    0.0   \n",
       "409                    0.0                   0.0                    0.0   \n",
       "589                    0.0                   0.0                    0.0   \n",
       "\n",
       "     teamplay/passes_26  teamplay/crosses_26  teamplay/accurate_long_balls_26  \n",
       "872                 0.0                  0.0                              0.0  \n",
       "626                 0.0                  0.0                              0.0  \n",
       "617                 0.0                  0.0                              0.0  \n",
       "409                 0.0                  0.0                              0.0  \n",
       "589                 0.0                  0.0                              0.0  \n",
       "\n",
       "[5 rows x 1350 columns]"
      ]
     },
     "execution_count": 4,
     "metadata": {},
     "output_type": "execute_result"
    }
   ],
   "source": [
    "# Split train-test\n",
    "from sklearn.model_selection import train_test_split\n",
    "test_size = 0.2\n",
    "X_train, X_test, y_train, y_test = train_test_split(df_match.iloc[:, 1:], df_match[\"home_result\"], test_size=test_size, random_state=42)\n",
    "X_train.head()"
   ]
  },
  {
   "cell_type": "markdown",
   "id": "3e33ec01",
   "metadata": {},
   "source": [
    "### 1.2 - Preprocessing"
   ]
  },
  {
   "cell_type": "code",
   "execution_count": 7,
   "id": "7a2c80a9",
   "metadata": {},
   "outputs": [],
   "source": [
    "# Setup the pipeline of preprocessing (from 04_modelling)\n",
    "from sklearn.preprocessing import StandardScaler\n",
    "from sklearn.preprocessing import OrdinalEncoder\n",
    "from sklearn.pipeline import Pipeline\n",
    "\n",
    "pipe_predictor_preprocess = Pipeline([\n",
    "    (\"scaler\", StandardScaler())\n",
    "])\n",
    "pipe_label_preprocess = Pipeline([\n",
    "    (\"encoder\", OrdinalEncoder())\n",
    "])"
   ]
  },
  {
   "cell_type": "code",
   "execution_count": 8,
   "id": "8f5789b5",
   "metadata": {},
   "outputs": [
    {
     "data": {
      "text/plain": [
       "[array(['draw', 'lose', 'win'], dtype=object)]"
      ]
     },
     "execution_count": 8,
     "metadata": {},
     "output_type": "execute_result"
    }
   ],
   "source": [
    "# Fit & transform the training data\n",
    "X_prep = pipe_predictor_preprocess.fit_transform(X_train)\n",
    "y_prep = pipe_label_preprocess.fit_transform(y_train.values.reshape(-1, 1))\n",
    "pipe_label_preprocess[\"encoder\"].categories_"
   ]
  },
  {
   "cell_type": "code",
   "execution_count": 9,
   "id": "f9541d1a",
   "metadata": {},
   "outputs": [
    {
     "data": {
      "text/plain": [
       "[array(['draw', 'lose', 'win'], dtype=object)]"
      ]
     },
     "execution_count": 9,
     "metadata": {},
     "output_type": "execute_result"
    }
   ],
   "source": [
    "# Transform the test data\n",
    "X_prep_test = pipe_predictor_preprocess.transform(X_test)\n",
    "y_prep_test = pipe_label_preprocess.transform(y_test.values.reshape(-1, 1))\n",
    "pipe_label_preprocess[\"encoder\"].categories_"
   ]
  },
  {
   "cell_type": "markdown",
   "id": "ee4a34d0",
   "metadata": {},
   "source": [
    "## 2 - Evaluate the Models"
   ]
  },
  {
   "cell_type": "code",
   "execution_count": 55,
   "id": "02de7df3",
   "metadata": {},
   "outputs": [],
   "source": [
    "# Import models\n",
    "from sklearn.linear_model import LogisticRegression\n",
    "from sklearn.svm import LinearSVC, SVC\n",
    "from sklearn.tree import DecisionTreeClassifier\n",
    "from sklearn.ensemble import RandomForestClassifier, AdaBoostClassifier, GradientBoostingClassifier\n",
    "\n",
    "# Import metrics\n",
    "from sklearn.metrics import accuracy_score, f1_score, balanced_accuracy_score\n",
    "\n",
    "# Import cross-validation tools\n",
    "from sklearn.model_selection import cross_val_predict\n",
    "\n",
    "# Setup to save/load the model\n",
    "def save_model(model, id_):\n",
    "    print(\"Saving model\", id_)\n",
    "    joblib.dump(model, os.path.join(NOTE_ROOT_DIR, \"models\", CHAPTER_ID, id_ + \".pkl\"))\n",
    "def load_model(id_):\n",
    "    print(\"Loading model\", id_)\n",
    "    return joblib.load(os.path.join(NOTE_ROOT_DIR, \"models\", CHAPTER_ID, id_ + \".pkl\"))\n",
    "\n",
    "# Setup display\n",
    "def report(y_true, y_pred):\n",
    "    print(\"======\")\n",
    "    print(\"Accuracy:\", accuracy_score(y_true, y_pred))\n",
    "    print(\"F1      :\", f1_score(y_true, y_pred))\n",
    "    print(\"======\")"
   ]
  },
  {
   "cell_type": "markdown",
   "id": "7504d026",
   "metadata": {},
   "source": [
    "### 2.1 - Overfitting"
   ]
  },
  {
   "cell_type": "code",
   "execution_count": 17,
   "id": "33b8723b",
   "metadata": {},
   "outputs": [],
   "source": [
    "# Setup to compare train & test performance\n",
    "def train_vs_test(model, X_train=X_prep, y_train=y_prep, X_test=X_prep_test, y_test=y_prep_test, score_fn=accuracy_score):\n",
    "    train_score = score_fn(y_train, model.predict(X_train))\n",
    "    test_score = score_fn(y_test, model.predict(X_test))\n",
    "    print(\"======\")\n",
    "    print(\"Train score:\", train_score)\n",
    "    print(\"Test score :\", test_score)\n",
    "    print(\"======\")\n",
    "    return train_score, test_score"
   ]
  },
  {
   "cell_type": "markdown",
   "id": "8caddf8a",
   "metadata": {},
   "source": [
    "#### Random Forest"
   ]
  },
  {
   "cell_type": "code",
   "execution_count": 53,
   "id": "be7b2031",
   "metadata": {},
   "outputs": [
    {
     "name": "stdout",
     "output_type": "stream",
     "text": [
      "Loading model forest_bayes_search\n",
      "======\n",
      "Train score: 0.7546511627906977\n",
      "Test score : 0.5601851851851852\n",
      "======\n"
     ]
    }
   ],
   "source": [
    "# Compare model on train & test\n",
    "forest_bayes_search = load_model(\"forest_bayes_search\")\n",
    "_, _ = train_vs_test(forest_bayes_search)"
   ]
  },
  {
   "cell_type": "code",
   "execution_count": 23,
   "id": "1f5611cc",
   "metadata": {},
   "outputs": [
    {
     "data": {
      "text/plain": [
       "883"
      ]
     },
     "execution_count": 23,
     "metadata": {},
     "output_type": "execute_result"
    }
   ],
   "source": [
    "# Features that have impact\n",
    "feat_inds = np.where(forest_bayes_search.feature_importances_ > 0.0)[0]\n",
    "len(feat_inds)"
   ]
  },
  {
   "cell_type": "code",
   "execution_count": 52,
   "id": "54937fad",
   "metadata": {},
   "outputs": [
    {
     "name": "stdout",
     "output_type": "stream",
     "text": [
      "Loading model reduced_forest_bayes_search\n",
      "======\n",
      "Train score: 0.9267441860465117\n",
      "Test score : 0.5601851851851852\n",
      "======\n"
     ]
    }
   ],
   "source": [
    "# Compare the reduced model on train & test\n",
    "reduced_forest_bayes_search = load_model(\"reduced_forest_bayes_search\")\n",
    "_, _ = train_vs_test(reduced_forest_bayes_search, X_train=X_prep[:, feat_inds], X_test=X_prep_test[:, feat_inds])"
   ]
  },
  {
   "cell_type": "markdown",
   "id": "7c6dda82",
   "metadata": {},
   "source": [
    "**CAUTION:** The models are overfitting."
   ]
  },
  {
   "cell_type": "markdown",
   "id": "201e2079",
   "metadata": {},
   "source": [
    "#### Gradient Boosting"
   ]
  },
  {
   "cell_type": "code",
   "execution_count": 51,
   "id": "ce8a4f83",
   "metadata": {},
   "outputs": [
    {
     "name": "stdout",
     "output_type": "stream",
     "text": [
      "Loading model grad_bayes_search\n",
      "======\n",
      "Train score: 0.6488372093023256\n",
      "Test score : 0.5509259259259259\n",
      "======\n"
     ]
    }
   ],
   "source": [
    "# Compare model on train & test\n",
    "grad_bayes_search = load_model(\"grad_bayes_search\")\n",
    "_, _ = train_vs_test(grad_bayes_search)"
   ]
  },
  {
   "cell_type": "code",
   "execution_count": 50,
   "id": "2410a387",
   "metadata": {},
   "outputs": [
    {
     "name": "stdout",
     "output_type": "stream",
     "text": [
      "Loading model reduced_grad_bayes_search\n",
      "======\n",
      "Train score: 0.8162790697674419\n",
      "Test score : 0.49074074074074076\n",
      "======\n"
     ]
    }
   ],
   "source": [
    "# Compare the reduced model on train & test\n",
    "reduced_grad_bayes_search = load_model(\"reduced_grad_bayes_search\")\n",
    "_, _ = train_vs_test(reduced_grad_bayes_search, X_train=X_prep[:, feat_inds], X_test=X_prep_test[:, feat_inds])"
   ]
  },
  {
   "cell_type": "markdown",
   "id": "4c418246",
   "metadata": {},
   "source": [
    "#### AdaBoost"
   ]
  },
  {
   "cell_type": "code",
   "execution_count": 49,
   "id": "05208a43",
   "metadata": {},
   "outputs": [
    {
     "name": "stdout",
     "output_type": "stream",
     "text": [
      "Loading model ada_bayes_search\n",
      "======\n",
      "Train score: 0.5476744186046512\n",
      "Test score : 0.42592592592592593\n",
      "======\n"
     ]
    }
   ],
   "source": [
    "# Compare model on train & test\n",
    "ada_bayes_search = load_model(\"ada_bayes_search\")\n",
    "_, _ = train_vs_test(ada_bayes_search)"
   ]
  },
  {
   "cell_type": "code",
   "execution_count": 48,
   "id": "63519ef8",
   "metadata": {},
   "outputs": [
    {
     "name": "stdout",
     "output_type": "stream",
     "text": [
      "Loading model reduced_ada_bayes_search\n",
      "======\n",
      "Train score: 0.5081395348837209\n",
      "Test score : 0.44907407407407407\n",
      "======\n"
     ]
    }
   ],
   "source": [
    "# Compare the reduced model on train & test\n",
    "reduced_ada_bayes_search = load_model(\"reduced_ada_bayes_search\")\n",
    "_, _ = train_vs_test(reduced_ada_bayes_search, X_train=X_prep[:, feat_inds], X_test=X_prep_test[:, feat_inds])"
   ]
  },
  {
   "cell_type": "markdown",
   "id": "4dd5ba7d",
   "metadata": {},
   "source": [
    "#### SVC"
   ]
  },
  {
   "cell_type": "code",
   "execution_count": 47,
   "id": "a26464f0",
   "metadata": {},
   "outputs": [
    {
     "name": "stdout",
     "output_type": "stream",
     "text": [
      "Loading model svc_bayes_search\n",
      "======\n",
      "Train score: 0.9209302325581395\n",
      "Test score : 0.49537037037037035\n",
      "======\n"
     ]
    }
   ],
   "source": [
    "# Compare model on train & test\n",
    "svc_bayes_search = load_model(\"svc_bayes_search\")\n",
    "_, _ = train_vs_test(svc_bayes_search)"
   ]
  },
  {
   "cell_type": "code",
   "execution_count": 46,
   "id": "1b855c4b",
   "metadata": {},
   "outputs": [
    {
     "name": "stdout",
     "output_type": "stream",
     "text": [
      "Loading model reduced_svc_bayes_search\n",
      "======\n",
      "Train score: 0.7872093023255814\n",
      "Test score : 0.5462962962962963\n",
      "======\n"
     ]
    }
   ],
   "source": [
    "# Compare the reduced model on train & test\n",
    "reduced_svc_bayes_search = load_model(\"reduced_svc_bayes_search\")\n",
    "_, _ = train_vs_test(reduced_svc_bayes_search, X_train=X_prep[:, feat_inds], X_test=X_prep_test[:, feat_inds])"
   ]
  },
  {
   "cell_type": "markdown",
   "id": "36c7f3df",
   "metadata": {},
   "source": [
    "### 2.2 - Thresholding"
   ]
  },
  {
   "cell_type": "code",
   "execution_count": 61,
   "id": "ace5c136",
   "metadata": {},
   "outputs": [
    {
     "data": {
      "text/plain": [
       "array([[-0.93233172, -0.803085  , -0.69596384],\n",
       "       [-1.0398113 , -1.22365062, -0.87866568],\n",
       "       [-1.62555336, -0.96394598, -1.11778243],\n",
       "       ...,\n",
       "       [-1.44034896, -1.05677425, -0.74509738],\n",
       "       [-1.37463204, -1.56512657, -0.47541028],\n",
       "       [-1.27821555, -1.08044925, -1.11938415]])"
      ]
     },
     "execution_count": 61,
     "metadata": {},
     "output_type": "execute_result"
    }
   ],
   "source": [
    "y_scores_grad = cross_val_predict(grad_bayes_search, X_prep, y_prep.squeeze(), cv=3, method='decision_function')\n",
    "y_scores_grad"
   ]
  }
 ],
 "metadata": {
  "kernelspec": {
   "display_name": "Python 3 (ipykernel)",
   "language": "python",
   "name": "python3"
  },
  "language_info": {
   "codemirror_mode": {
    "name": "ipython",
    "version": 3
   },
   "file_extension": ".py",
   "mimetype": "text/x-python",
   "name": "python",
   "nbconvert_exporter": "python",
   "pygments_lexer": "ipython3",
   "version": "3.10.8"
  }
 },
 "nbformat": 4,
 "nbformat_minor": 5
}
