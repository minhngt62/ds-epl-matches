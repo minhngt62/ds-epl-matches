{
 "cells": [
  {
   "cell_type": "markdown",
   "id": "e8a56217",
   "metadata": {},
   "source": [
    "# MODELLING\n",
    "A notebook to model the problem"
   ]
  },
  {
   "cell_type": "code",
   "execution_count": 1,
   "id": "ce52cb88",
   "metadata": {},
   "outputs": [],
   "source": [
    "# Python ≥3.5 is required\n",
    "import sys\n",
    "assert sys.version_info >= (3, 5)\n",
    "\n",
    "# Disable warnings\n",
    "import warnings\n",
    "warnings.filterwarnings('ignore')\n",
    "\n",
    "# Scikit-Learn ≥0.20 is required\n",
    "import sklearn\n",
    "assert sklearn.__version__ >= \"0.20\"\n",
    "\n",
    "# Common imports\n",
    "import copy\n",
    "import pandas as pd\n",
    "import numpy as np\n",
    "import os\n",
    "PRJ_ROOT_DIR = os.path.dirname(os.path.abspath(''))\n",
    "\n",
    "# to make this notebook's output stable across runs\n",
    "np.random.seed(42)\n",
    "\n",
    "# To plot pretty figures\n",
    "%matplotlib inline\n",
    "import matplotlib as mpl\n",
    "import matplotlib.pyplot as plt\n",
    "mpl.rc('axes', labelsize=14)\n",
    "mpl.rc('xtick', labelsize=12)\n",
    "mpl.rc('ytick', labelsize=12)\n",
    "import seaborn as sns"
   ]
  },
  {
   "cell_type": "code",
   "execution_count": 2,
   "id": "73a3eba5",
   "metadata": {},
   "outputs": [],
   "source": [
    "# Where to save the figures\n",
    "NOTE_ROOT_DIR = os.path.abspath('')\n",
    "CHAPTER_ID = \"04_modelling\"\n",
    "IMAGES_PATH = os.path.join(NOTE_ROOT_DIR, \"images\", CHAPTER_ID)\n",
    "os.makedirs(IMAGES_PATH, exist_ok=True)\n",
    "\n",
    "def save_fig(fig_id, tight_layout=True, fig_extension=\"png\", resolution=300):\n",
    "    path = os.path.join(IMAGES_PATH, fig_id + \".\" + fig_extension)\n",
    "    print(\"Saving figure\", fig_id)\n",
    "    if tight_layout:\n",
    "        plt.tight_layout()\n",
    "    plt.savefig(path, format=fig_extension, dpi=resolution)"
   ]
  },
  {
   "cell_type": "markdown",
   "id": "430628f8",
   "metadata": {},
   "source": [
    "## 1 - Load the Data"
   ]
  },
  {
   "cell_type": "code",
   "execution_count": 3,
   "id": "8789b96b",
   "metadata": {},
   "outputs": [
    {
     "data": {
      "text/html": [
       "<div>\n",
       "<style scoped>\n",
       "    .dataframe tbody tr th:only-of-type {\n",
       "        vertical-align: middle;\n",
       "    }\n",
       "\n",
       "    .dataframe tbody tr th {\n",
       "        vertical-align: top;\n",
       "    }\n",
       "\n",
       "    .dataframe thead th {\n",
       "        text-align: right;\n",
       "    }\n",
       "</style>\n",
       "<table border=\"1\" class=\"dataframe\">\n",
       "  <thead>\n",
       "    <tr style=\"text-align: right;\">\n",
       "      <th></th>\n",
       "      <th>home_result</th>\n",
       "      <th>defence/clean_sheets_0</th>\n",
       "      <th>defence/goals_conceded_0</th>\n",
       "      <th>defence/tackles_0</th>\n",
       "      <th>defence/tackle_success_%_0</th>\n",
       "      <th>defence/last_man_tackles_0</th>\n",
       "      <th>defence/blocked_shots_0</th>\n",
       "      <th>defence/interceptions_0</th>\n",
       "      <th>defence/clearances_0</th>\n",
       "      <th>defence/headed_clearance_0</th>\n",
       "      <th>...</th>\n",
       "      <th>goalkeeping/catches_26</th>\n",
       "      <th>goalkeeping/sweeper_clearances_26</th>\n",
       "      <th>goalkeeping/throw_outs_26</th>\n",
       "      <th>goalkeeping/goal_kicks_26</th>\n",
       "      <th>defence/recoveries_26</th>\n",
       "      <th>defence/duels_won_26</th>\n",
       "      <th>defence/duels_lost_26</th>\n",
       "      <th>teamplay/passes_26</th>\n",
       "      <th>teamplay/crosses_26</th>\n",
       "      <th>teamplay/accurate_long_balls_26</th>\n",
       "    </tr>\n",
       "  </thead>\n",
       "  <tbody>\n",
       "    <tr>\n",
       "      <th>0</th>\n",
       "      <td>lose</td>\n",
       "      <td>5.0</td>\n",
       "      <td>34.0</td>\n",
       "      <td>0.0</td>\n",
       "      <td>0.0</td>\n",
       "      <td>0.0</td>\n",
       "      <td>0.0</td>\n",
       "      <td>0.0</td>\n",
       "      <td>0.0</td>\n",
       "      <td>0.0</td>\n",
       "      <td>...</td>\n",
       "      <td>0.0</td>\n",
       "      <td>0.0</td>\n",
       "      <td>0.0</td>\n",
       "      <td>0.0</td>\n",
       "      <td>0.0</td>\n",
       "      <td>0.0</td>\n",
       "      <td>0.0</td>\n",
       "      <td>1097.0</td>\n",
       "      <td>88.0</td>\n",
       "      <td>0.0</td>\n",
       "    </tr>\n",
       "    <tr>\n",
       "      <th>1</th>\n",
       "      <td>win</td>\n",
       "      <td>6.0</td>\n",
       "      <td>21.0</td>\n",
       "      <td>0.0</td>\n",
       "      <td>0.0</td>\n",
       "      <td>0.0</td>\n",
       "      <td>0.0</td>\n",
       "      <td>0.0</td>\n",
       "      <td>0.0</td>\n",
       "      <td>0.0</td>\n",
       "      <td>...</td>\n",
       "      <td>-100.0</td>\n",
       "      <td>-100.0</td>\n",
       "      <td>-100.0</td>\n",
       "      <td>-100.0</td>\n",
       "      <td>-100.0</td>\n",
       "      <td>-100.0</td>\n",
       "      <td>-100.0</td>\n",
       "      <td>-100.0</td>\n",
       "      <td>-100.0</td>\n",
       "      <td>-100.0</td>\n",
       "    </tr>\n",
       "    <tr>\n",
       "      <th>2</th>\n",
       "      <td>win</td>\n",
       "      <td>13.0</td>\n",
       "      <td>23.0</td>\n",
       "      <td>0.0</td>\n",
       "      <td>0.0</td>\n",
       "      <td>0.0</td>\n",
       "      <td>0.0</td>\n",
       "      <td>0.0</td>\n",
       "      <td>0.0</td>\n",
       "      <td>0.0</td>\n",
       "      <td>...</td>\n",
       "      <td>-100.0</td>\n",
       "      <td>-100.0</td>\n",
       "      <td>-100.0</td>\n",
       "      <td>-100.0</td>\n",
       "      <td>-100.0</td>\n",
       "      <td>-100.0</td>\n",
       "      <td>-100.0</td>\n",
       "      <td>-100.0</td>\n",
       "      <td>-100.0</td>\n",
       "      <td>-100.0</td>\n",
       "    </tr>\n",
       "    <tr>\n",
       "      <th>3</th>\n",
       "      <td>win</td>\n",
       "      <td>11.0</td>\n",
       "      <td>37.0</td>\n",
       "      <td>0.0</td>\n",
       "      <td>0.0</td>\n",
       "      <td>0.0</td>\n",
       "      <td>0.0</td>\n",
       "      <td>0.0</td>\n",
       "      <td>0.0</td>\n",
       "      <td>0.0</td>\n",
       "      <td>...</td>\n",
       "      <td>0.0</td>\n",
       "      <td>0.0</td>\n",
       "      <td>0.0</td>\n",
       "      <td>0.0</td>\n",
       "      <td>0.0</td>\n",
       "      <td>0.0</td>\n",
       "      <td>0.0</td>\n",
       "      <td>248.0</td>\n",
       "      <td>13.0</td>\n",
       "      <td>0.0</td>\n",
       "    </tr>\n",
       "    <tr>\n",
       "      <th>4</th>\n",
       "      <td>win</td>\n",
       "      <td>13.0</td>\n",
       "      <td>36.0</td>\n",
       "      <td>0.0</td>\n",
       "      <td>0.0</td>\n",
       "      <td>0.0</td>\n",
       "      <td>0.0</td>\n",
       "      <td>0.0</td>\n",
       "      <td>0.0</td>\n",
       "      <td>0.0</td>\n",
       "      <td>...</td>\n",
       "      <td>-100.0</td>\n",
       "      <td>-100.0</td>\n",
       "      <td>-100.0</td>\n",
       "      <td>-100.0</td>\n",
       "      <td>-100.0</td>\n",
       "      <td>-100.0</td>\n",
       "      <td>-100.0</td>\n",
       "      <td>-100.0</td>\n",
       "      <td>-100.0</td>\n",
       "      <td>-100.0</td>\n",
       "    </tr>\n",
       "  </tbody>\n",
       "</table>\n",
       "<p>5 rows × 1351 columns</p>\n",
       "</div>"
      ],
      "text/plain": [
       "  home_result  defence/clean_sheets_0  defence/goals_conceded_0  \\\n",
       "0        lose                     5.0                      34.0   \n",
       "1         win                     6.0                      21.0   \n",
       "2         win                    13.0                      23.0   \n",
       "3         win                    11.0                      37.0   \n",
       "4         win                    13.0                      36.0   \n",
       "\n",
       "   defence/tackles_0  defence/tackle_success_%_0  defence/last_man_tackles_0  \\\n",
       "0                0.0                         0.0                         0.0   \n",
       "1                0.0                         0.0                         0.0   \n",
       "2                0.0                         0.0                         0.0   \n",
       "3                0.0                         0.0                         0.0   \n",
       "4                0.0                         0.0                         0.0   \n",
       "\n",
       "   defence/blocked_shots_0  defence/interceptions_0  defence/clearances_0  \\\n",
       "0                      0.0                      0.0                   0.0   \n",
       "1                      0.0                      0.0                   0.0   \n",
       "2                      0.0                      0.0                   0.0   \n",
       "3                      0.0                      0.0                   0.0   \n",
       "4                      0.0                      0.0                   0.0   \n",
       "\n",
       "   defence/headed_clearance_0  ...  goalkeeping/catches_26  \\\n",
       "0                         0.0  ...                     0.0   \n",
       "1                         0.0  ...                  -100.0   \n",
       "2                         0.0  ...                  -100.0   \n",
       "3                         0.0  ...                     0.0   \n",
       "4                         0.0  ...                  -100.0   \n",
       "\n",
       "   goalkeeping/sweeper_clearances_26  goalkeeping/throw_outs_26  \\\n",
       "0                                0.0                        0.0   \n",
       "1                             -100.0                     -100.0   \n",
       "2                             -100.0                     -100.0   \n",
       "3                                0.0                        0.0   \n",
       "4                             -100.0                     -100.0   \n",
       "\n",
       "   goalkeeping/goal_kicks_26  defence/recoveries_26  defence/duels_won_26  \\\n",
       "0                        0.0                    0.0                   0.0   \n",
       "1                     -100.0                 -100.0                -100.0   \n",
       "2                     -100.0                 -100.0                -100.0   \n",
       "3                        0.0                    0.0                   0.0   \n",
       "4                     -100.0                 -100.0                -100.0   \n",
       "\n",
       "   defence/duels_lost_26  teamplay/passes_26  teamplay/crosses_26  \\\n",
       "0                    0.0              1097.0                 88.0   \n",
       "1                 -100.0              -100.0               -100.0   \n",
       "2                 -100.0              -100.0               -100.0   \n",
       "3                    0.0               248.0                 13.0   \n",
       "4                 -100.0              -100.0               -100.0   \n",
       "\n",
       "   teamplay/accurate_long_balls_26  \n",
       "0                              0.0  \n",
       "1                           -100.0  \n",
       "2                           -100.0  \n",
       "3                              0.0  \n",
       "4                           -100.0  \n",
       "\n",
       "[5 rows x 1351 columns]"
      ]
     },
     "execution_count": 3,
     "metadata": {},
     "output_type": "execute_result"
    }
   ],
   "source": [
    "# Load the integrated data\n",
    "df_match = pd.read_csv(os.path.join(PRJ_ROOT_DIR, \"data\", \"tabular\", \"integrate\", \"matches.csv\"))\n",
    "df_match.drop(['season'], axis=1, inplace=True)\n",
    "df_match.head()"
   ]
  },
  {
   "cell_type": "markdown",
   "id": "b063ce47",
   "metadata": {},
   "source": [
    "### 1.1. Manage Empty Positions' Statistics"
   ]
  },
  {
   "cell_type": "code",
   "execution_count": 4,
   "id": "60bf316e",
   "metadata": {},
   "outputs": [
    {
     "data": {
      "text/html": [
       "<div>\n",
       "<style scoped>\n",
       "    .dataframe tbody tr th:only-of-type {\n",
       "        vertical-align: middle;\n",
       "    }\n",
       "\n",
       "    .dataframe tbody tr th {\n",
       "        vertical-align: top;\n",
       "    }\n",
       "\n",
       "    .dataframe thead th {\n",
       "        text-align: right;\n",
       "    }\n",
       "</style>\n",
       "<table border=\"1\" class=\"dataframe\">\n",
       "  <thead>\n",
       "    <tr style=\"text-align: right;\">\n",
       "      <th></th>\n",
       "      <th>home_result</th>\n",
       "      <th>defence/clean_sheets_0</th>\n",
       "      <th>defence/goals_conceded_0</th>\n",
       "      <th>defence/tackles_0</th>\n",
       "      <th>defence/tackle_success_%_0</th>\n",
       "      <th>defence/last_man_tackles_0</th>\n",
       "      <th>defence/blocked_shots_0</th>\n",
       "      <th>defence/interceptions_0</th>\n",
       "      <th>defence/clearances_0</th>\n",
       "      <th>defence/headed_clearance_0</th>\n",
       "      <th>...</th>\n",
       "      <th>goalkeeping/catches_26</th>\n",
       "      <th>goalkeeping/sweeper_clearances_26</th>\n",
       "      <th>goalkeeping/throw_outs_26</th>\n",
       "      <th>goalkeeping/goal_kicks_26</th>\n",
       "      <th>defence/recoveries_26</th>\n",
       "      <th>defence/duels_won_26</th>\n",
       "      <th>defence/duels_lost_26</th>\n",
       "      <th>teamplay/passes_26</th>\n",
       "      <th>teamplay/crosses_26</th>\n",
       "      <th>teamplay/accurate_long_balls_26</th>\n",
       "    </tr>\n",
       "  </thead>\n",
       "  <tbody>\n",
       "    <tr>\n",
       "      <th>0</th>\n",
       "      <td>lose</td>\n",
       "      <td>5.0</td>\n",
       "      <td>34.0</td>\n",
       "      <td>0.0</td>\n",
       "      <td>0.0</td>\n",
       "      <td>0.0</td>\n",
       "      <td>0.0</td>\n",
       "      <td>0.0</td>\n",
       "      <td>0.0</td>\n",
       "      <td>0.0</td>\n",
       "      <td>...</td>\n",
       "      <td>0.0</td>\n",
       "      <td>0.0</td>\n",
       "      <td>0.0</td>\n",
       "      <td>0.0</td>\n",
       "      <td>0.0</td>\n",
       "      <td>0.0</td>\n",
       "      <td>0.0</td>\n",
       "      <td>1097.0</td>\n",
       "      <td>88.0</td>\n",
       "      <td>0.0</td>\n",
       "    </tr>\n",
       "    <tr>\n",
       "      <th>1</th>\n",
       "      <td>win</td>\n",
       "      <td>6.0</td>\n",
       "      <td>21.0</td>\n",
       "      <td>0.0</td>\n",
       "      <td>0.0</td>\n",
       "      <td>0.0</td>\n",
       "      <td>0.0</td>\n",
       "      <td>0.0</td>\n",
       "      <td>0.0</td>\n",
       "      <td>0.0</td>\n",
       "      <td>...</td>\n",
       "      <td>0.0</td>\n",
       "      <td>0.0</td>\n",
       "      <td>0.0</td>\n",
       "      <td>0.0</td>\n",
       "      <td>0.0</td>\n",
       "      <td>0.0</td>\n",
       "      <td>0.0</td>\n",
       "      <td>0.0</td>\n",
       "      <td>0.0</td>\n",
       "      <td>0.0</td>\n",
       "    </tr>\n",
       "    <tr>\n",
       "      <th>2</th>\n",
       "      <td>win</td>\n",
       "      <td>13.0</td>\n",
       "      <td>23.0</td>\n",
       "      <td>0.0</td>\n",
       "      <td>0.0</td>\n",
       "      <td>0.0</td>\n",
       "      <td>0.0</td>\n",
       "      <td>0.0</td>\n",
       "      <td>0.0</td>\n",
       "      <td>0.0</td>\n",
       "      <td>...</td>\n",
       "      <td>0.0</td>\n",
       "      <td>0.0</td>\n",
       "      <td>0.0</td>\n",
       "      <td>0.0</td>\n",
       "      <td>0.0</td>\n",
       "      <td>0.0</td>\n",
       "      <td>0.0</td>\n",
       "      <td>0.0</td>\n",
       "      <td>0.0</td>\n",
       "      <td>0.0</td>\n",
       "    </tr>\n",
       "    <tr>\n",
       "      <th>3</th>\n",
       "      <td>win</td>\n",
       "      <td>11.0</td>\n",
       "      <td>37.0</td>\n",
       "      <td>0.0</td>\n",
       "      <td>0.0</td>\n",
       "      <td>0.0</td>\n",
       "      <td>0.0</td>\n",
       "      <td>0.0</td>\n",
       "      <td>0.0</td>\n",
       "      <td>0.0</td>\n",
       "      <td>...</td>\n",
       "      <td>0.0</td>\n",
       "      <td>0.0</td>\n",
       "      <td>0.0</td>\n",
       "      <td>0.0</td>\n",
       "      <td>0.0</td>\n",
       "      <td>0.0</td>\n",
       "      <td>0.0</td>\n",
       "      <td>248.0</td>\n",
       "      <td>13.0</td>\n",
       "      <td>0.0</td>\n",
       "    </tr>\n",
       "    <tr>\n",
       "      <th>4</th>\n",
       "      <td>win</td>\n",
       "      <td>13.0</td>\n",
       "      <td>36.0</td>\n",
       "      <td>0.0</td>\n",
       "      <td>0.0</td>\n",
       "      <td>0.0</td>\n",
       "      <td>0.0</td>\n",
       "      <td>0.0</td>\n",
       "      <td>0.0</td>\n",
       "      <td>0.0</td>\n",
       "      <td>...</td>\n",
       "      <td>0.0</td>\n",
       "      <td>0.0</td>\n",
       "      <td>0.0</td>\n",
       "      <td>0.0</td>\n",
       "      <td>0.0</td>\n",
       "      <td>0.0</td>\n",
       "      <td>0.0</td>\n",
       "      <td>0.0</td>\n",
       "      <td>0.0</td>\n",
       "      <td>0.0</td>\n",
       "    </tr>\n",
       "  </tbody>\n",
       "</table>\n",
       "<p>5 rows × 1351 columns</p>\n",
       "</div>"
      ],
      "text/plain": [
       "  home_result  defence/clean_sheets_0  defence/goals_conceded_0  \\\n",
       "0        lose                     5.0                      34.0   \n",
       "1         win                     6.0                      21.0   \n",
       "2         win                    13.0                      23.0   \n",
       "3         win                    11.0                      37.0   \n",
       "4         win                    13.0                      36.0   \n",
       "\n",
       "   defence/tackles_0  defence/tackle_success_%_0  defence/last_man_tackles_0  \\\n",
       "0                0.0                         0.0                         0.0   \n",
       "1                0.0                         0.0                         0.0   \n",
       "2                0.0                         0.0                         0.0   \n",
       "3                0.0                         0.0                         0.0   \n",
       "4                0.0                         0.0                         0.0   \n",
       "\n",
       "   defence/blocked_shots_0  defence/interceptions_0  defence/clearances_0  \\\n",
       "0                      0.0                      0.0                   0.0   \n",
       "1                      0.0                      0.0                   0.0   \n",
       "2                      0.0                      0.0                   0.0   \n",
       "3                      0.0                      0.0                   0.0   \n",
       "4                      0.0                      0.0                   0.0   \n",
       "\n",
       "   defence/headed_clearance_0  ...  goalkeeping/catches_26  \\\n",
       "0                         0.0  ...                     0.0   \n",
       "1                         0.0  ...                     0.0   \n",
       "2                         0.0  ...                     0.0   \n",
       "3                         0.0  ...                     0.0   \n",
       "4                         0.0  ...                     0.0   \n",
       "\n",
       "   goalkeeping/sweeper_clearances_26  goalkeeping/throw_outs_26  \\\n",
       "0                                0.0                        0.0   \n",
       "1                                0.0                        0.0   \n",
       "2                                0.0                        0.0   \n",
       "3                                0.0                        0.0   \n",
       "4                                0.0                        0.0   \n",
       "\n",
       "   goalkeeping/goal_kicks_26  defence/recoveries_26  defence/duels_won_26  \\\n",
       "0                        0.0                    0.0                   0.0   \n",
       "1                        0.0                    0.0                   0.0   \n",
       "2                        0.0                    0.0                   0.0   \n",
       "3                        0.0                    0.0                   0.0   \n",
       "4                        0.0                    0.0                   0.0   \n",
       "\n",
       "   defence/duels_lost_26  teamplay/passes_26  teamplay/crosses_26  \\\n",
       "0                    0.0              1097.0                 88.0   \n",
       "1                    0.0                 0.0                  0.0   \n",
       "2                    0.0                 0.0                  0.0   \n",
       "3                    0.0               248.0                 13.0   \n",
       "4                    0.0                 0.0                  0.0   \n",
       "\n",
       "   teamplay/accurate_long_balls_26  \n",
       "0                              0.0  \n",
       "1                              0.0  \n",
       "2                              0.0  \n",
       "3                              0.0  \n",
       "4                              0.0  \n",
       "\n",
       "[5 rows x 1351 columns]"
      ]
     },
     "execution_count": 4,
     "metadata": {},
     "output_type": "execute_result"
    }
   ],
   "source": [
    "# Replace -100 with 0 (statistics' value of empty positions)\n",
    "df_match = df_match.replace(-100, 0)\n",
    "df_match.head()"
   ]
  },
  {
   "cell_type": "markdown",
   "id": "3a80a411",
   "metadata": {},
   "source": [
    "### 1.2 Create a Test Set"
   ]
  },
  {
   "cell_type": "code",
   "execution_count": 5,
   "id": "29fac767",
   "metadata": {},
   "outputs": [
    {
     "data": {
      "text/html": [
       "<div>\n",
       "<style scoped>\n",
       "    .dataframe tbody tr th:only-of-type {\n",
       "        vertical-align: middle;\n",
       "    }\n",
       "\n",
       "    .dataframe tbody tr th {\n",
       "        vertical-align: top;\n",
       "    }\n",
       "\n",
       "    .dataframe thead th {\n",
       "        text-align: right;\n",
       "    }\n",
       "</style>\n",
       "<table border=\"1\" class=\"dataframe\">\n",
       "  <thead>\n",
       "    <tr style=\"text-align: right;\">\n",
       "      <th></th>\n",
       "      <th>defence/clean_sheets_0</th>\n",
       "      <th>defence/goals_conceded_0</th>\n",
       "      <th>defence/tackles_0</th>\n",
       "      <th>defence/tackle_success_%_0</th>\n",
       "      <th>defence/last_man_tackles_0</th>\n",
       "      <th>defence/blocked_shots_0</th>\n",
       "      <th>defence/interceptions_0</th>\n",
       "      <th>defence/clearances_0</th>\n",
       "      <th>defence/headed_clearance_0</th>\n",
       "      <th>defence/clearances_off_line_0</th>\n",
       "      <th>...</th>\n",
       "      <th>goalkeeping/catches_26</th>\n",
       "      <th>goalkeeping/sweeper_clearances_26</th>\n",
       "      <th>goalkeeping/throw_outs_26</th>\n",
       "      <th>goalkeeping/goal_kicks_26</th>\n",
       "      <th>defence/recoveries_26</th>\n",
       "      <th>defence/duels_won_26</th>\n",
       "      <th>defence/duels_lost_26</th>\n",
       "      <th>teamplay/passes_26</th>\n",
       "      <th>teamplay/crosses_26</th>\n",
       "      <th>teamplay/accurate_long_balls_26</th>\n",
       "    </tr>\n",
       "  </thead>\n",
       "  <tbody>\n",
       "    <tr>\n",
       "      <th>872</th>\n",
       "      <td>8.0</td>\n",
       "      <td>50.0</td>\n",
       "      <td>0.0</td>\n",
       "      <td>0.0</td>\n",
       "      <td>0.0</td>\n",
       "      <td>0.0</td>\n",
       "      <td>0.0</td>\n",
       "      <td>0.0</td>\n",
       "      <td>0.0</td>\n",
       "      <td>0.0</td>\n",
       "      <td>...</td>\n",
       "      <td>0.0</td>\n",
       "      <td>0.0</td>\n",
       "      <td>0.0</td>\n",
       "      <td>0.0</td>\n",
       "      <td>0.0</td>\n",
       "      <td>0.0</td>\n",
       "      <td>0.0</td>\n",
       "      <td>0.0</td>\n",
       "      <td>0.0</td>\n",
       "      <td>0.0</td>\n",
       "    </tr>\n",
       "    <tr>\n",
       "      <th>626</th>\n",
       "      <td>10.0</td>\n",
       "      <td>51.0</td>\n",
       "      <td>0.0</td>\n",
       "      <td>0.0</td>\n",
       "      <td>0.0</td>\n",
       "      <td>0.0</td>\n",
       "      <td>0.0</td>\n",
       "      <td>0.0</td>\n",
       "      <td>0.0</td>\n",
       "      <td>0.0</td>\n",
       "      <td>...</td>\n",
       "      <td>0.0</td>\n",
       "      <td>0.0</td>\n",
       "      <td>0.0</td>\n",
       "      <td>0.0</td>\n",
       "      <td>0.0</td>\n",
       "      <td>0.0</td>\n",
       "      <td>0.0</td>\n",
       "      <td>0.0</td>\n",
       "      <td>0.0</td>\n",
       "      <td>0.0</td>\n",
       "    </tr>\n",
       "    <tr>\n",
       "      <th>617</th>\n",
       "      <td>9.0</td>\n",
       "      <td>48.0</td>\n",
       "      <td>0.0</td>\n",
       "      <td>0.0</td>\n",
       "      <td>0.0</td>\n",
       "      <td>0.0</td>\n",
       "      <td>0.0</td>\n",
       "      <td>0.0</td>\n",
       "      <td>0.0</td>\n",
       "      <td>0.0</td>\n",
       "      <td>...</td>\n",
       "      <td>0.0</td>\n",
       "      <td>0.0</td>\n",
       "      <td>0.0</td>\n",
       "      <td>0.0</td>\n",
       "      <td>0.0</td>\n",
       "      <td>0.0</td>\n",
       "      <td>0.0</td>\n",
       "      <td>0.0</td>\n",
       "      <td>0.0</td>\n",
       "      <td>0.0</td>\n",
       "    </tr>\n",
       "    <tr>\n",
       "      <th>409</th>\n",
       "      <td>11.0</td>\n",
       "      <td>37.0</td>\n",
       "      <td>0.0</td>\n",
       "      <td>0.0</td>\n",
       "      <td>0.0</td>\n",
       "      <td>0.0</td>\n",
       "      <td>0.0</td>\n",
       "      <td>0.0</td>\n",
       "      <td>0.0</td>\n",
       "      <td>0.0</td>\n",
       "      <td>...</td>\n",
       "      <td>0.0</td>\n",
       "      <td>0.0</td>\n",
       "      <td>0.0</td>\n",
       "      <td>0.0</td>\n",
       "      <td>0.0</td>\n",
       "      <td>0.0</td>\n",
       "      <td>0.0</td>\n",
       "      <td>0.0</td>\n",
       "      <td>0.0</td>\n",
       "      <td>0.0</td>\n",
       "    </tr>\n",
       "    <tr>\n",
       "      <th>589</th>\n",
       "      <td>9.0</td>\n",
       "      <td>48.0</td>\n",
       "      <td>0.0</td>\n",
       "      <td>0.0</td>\n",
       "      <td>0.0</td>\n",
       "      <td>0.0</td>\n",
       "      <td>0.0</td>\n",
       "      <td>0.0</td>\n",
       "      <td>0.0</td>\n",
       "      <td>0.0</td>\n",
       "      <td>...</td>\n",
       "      <td>0.0</td>\n",
       "      <td>0.0</td>\n",
       "      <td>0.0</td>\n",
       "      <td>0.0</td>\n",
       "      <td>0.0</td>\n",
       "      <td>0.0</td>\n",
       "      <td>0.0</td>\n",
       "      <td>0.0</td>\n",
       "      <td>0.0</td>\n",
       "      <td>0.0</td>\n",
       "    </tr>\n",
       "  </tbody>\n",
       "</table>\n",
       "<p>5 rows × 1350 columns</p>\n",
       "</div>"
      ],
      "text/plain": [
       "     defence/clean_sheets_0  defence/goals_conceded_0  defence/tackles_0  \\\n",
       "872                     8.0                      50.0                0.0   \n",
       "626                    10.0                      51.0                0.0   \n",
       "617                     9.0                      48.0                0.0   \n",
       "409                    11.0                      37.0                0.0   \n",
       "589                     9.0                      48.0                0.0   \n",
       "\n",
       "     defence/tackle_success_%_0  defence/last_man_tackles_0  \\\n",
       "872                         0.0                         0.0   \n",
       "626                         0.0                         0.0   \n",
       "617                         0.0                         0.0   \n",
       "409                         0.0                         0.0   \n",
       "589                         0.0                         0.0   \n",
       "\n",
       "     defence/blocked_shots_0  defence/interceptions_0  defence/clearances_0  \\\n",
       "872                      0.0                      0.0                   0.0   \n",
       "626                      0.0                      0.0                   0.0   \n",
       "617                      0.0                      0.0                   0.0   \n",
       "409                      0.0                      0.0                   0.0   \n",
       "589                      0.0                      0.0                   0.0   \n",
       "\n",
       "     defence/headed_clearance_0  defence/clearances_off_line_0  ...  \\\n",
       "872                         0.0                            0.0  ...   \n",
       "626                         0.0                            0.0  ...   \n",
       "617                         0.0                            0.0  ...   \n",
       "409                         0.0                            0.0  ...   \n",
       "589                         0.0                            0.0  ...   \n",
       "\n",
       "     goalkeeping/catches_26  goalkeeping/sweeper_clearances_26  \\\n",
       "872                     0.0                                0.0   \n",
       "626                     0.0                                0.0   \n",
       "617                     0.0                                0.0   \n",
       "409                     0.0                                0.0   \n",
       "589                     0.0                                0.0   \n",
       "\n",
       "     goalkeeping/throw_outs_26  goalkeeping/goal_kicks_26  \\\n",
       "872                        0.0                        0.0   \n",
       "626                        0.0                        0.0   \n",
       "617                        0.0                        0.0   \n",
       "409                        0.0                        0.0   \n",
       "589                        0.0                        0.0   \n",
       "\n",
       "     defence/recoveries_26  defence/duels_won_26  defence/duels_lost_26  \\\n",
       "872                    0.0                   0.0                    0.0   \n",
       "626                    0.0                   0.0                    0.0   \n",
       "617                    0.0                   0.0                    0.0   \n",
       "409                    0.0                   0.0                    0.0   \n",
       "589                    0.0                   0.0                    0.0   \n",
       "\n",
       "     teamplay/passes_26  teamplay/crosses_26  teamplay/accurate_long_balls_26  \n",
       "872                 0.0                  0.0                              0.0  \n",
       "626                 0.0                  0.0                              0.0  \n",
       "617                 0.0                  0.0                              0.0  \n",
       "409                 0.0                  0.0                              0.0  \n",
       "589                 0.0                  0.0                              0.0  \n",
       "\n",
       "[5 rows x 1350 columns]"
      ]
     },
     "execution_count": 5,
     "metadata": {},
     "output_type": "execute_result"
    }
   ],
   "source": [
    "# Split train-test\n",
    "from sklearn.model_selection import train_test_split\n",
    "test_size = 0.2\n",
    "X_train, X_test, y_train, y_test = train_test_split(df_match.iloc[:, 1:], df_match[\"home_result\"], test_size=test_size, random_state=42)\n",
    "X_train.head()"
   ]
  },
  {
   "cell_type": "markdown",
   "id": "66d2763a",
   "metadata": {},
   "source": [
    "### 1.3 - Preprocessing"
   ]
  },
  {
   "cell_type": "code",
   "execution_count": 6,
   "id": "d6d4bcf4",
   "metadata": {},
   "outputs": [],
   "source": [
    "# Setup the pipeline of preprocessing\n",
    "from sklearn.preprocessing import StandardScaler\n",
    "from sklearn.preprocessing import OrdinalEncoder\n",
    "from sklearn.pipeline import Pipeline\n",
    "\n",
    "pipe_predictor_preprocess = Pipeline([\n",
    "    (\"scaler\", StandardScaler())\n",
    "])\n",
    "pipe_label_preprocess = Pipeline([\n",
    "    (\"encoder\", OrdinalEncoder())\n",
    "])"
   ]
  },
  {
   "cell_type": "code",
   "execution_count": 7,
   "id": "be3030bb",
   "metadata": {},
   "outputs": [
    {
     "data": {
      "text/plain": [
       "[array(['draw', 'lose', 'win'], dtype=object)]"
      ]
     },
     "execution_count": 7,
     "metadata": {},
     "output_type": "execute_result"
    }
   ],
   "source": [
    "# Transform the training data\n",
    "X_prep = pipe_predictor_preprocess.fit_transform(X_train)\n",
    "y_prep = pipe_label_preprocess.fit_transform(y_train.values.reshape(-1, 1))\n",
    "pipe_label_preprocess[\"encoder\"].categories_"
   ]
  },
  {
   "cell_type": "markdown",
   "id": "40be08ec",
   "metadata": {},
   "source": [
    "## 2 - Modelling"
   ]
  },
  {
   "cell_type": "code",
   "execution_count": 73,
   "id": "3f3b43c3",
   "metadata": {},
   "outputs": [],
   "source": [
    "# Import models\n",
    "from sklearn.linear_model import LogisticRegression\n",
    "from sklearn.svm import LinearSVC\n",
    "from sklearn.tree import DecisionTreeClassifier\n",
    "from sklearn.ensemble import RandomForestClassifier, AdaBoostClassifier, GradientBoostingClassifier\n",
    "\n",
    "# Import metrics\n",
    "from sklearn.metrics import accuracy_score, f1_score\n",
    "\n",
    "# Import cross-validation tools\n",
    "from sklearn.model_selection import cross_val_score\n",
    "from sklearn.model_selection import RandomizedSearchCV\n",
    "from sklearn.model_selection import GridSearchCV\n",
    "from scipy.stats import randint, uniform\n",
    "\n",
    "# Setup display\n",
    "def report(y_true, y_pred):\n",
    "    print(\"======\")\n",
    "    print(\"Accuracy:\", accuracy_score(y_true, y_pred))\n",
    "    print(\"F1      :\", f1_score(y_true, y_pred, average=\"micro\"))\n",
    "    print(\"======\")\n",
    "\n",
    "# Setup cross-validation\n",
    "def cross_validate(model, X_prep, y_prep, scoring=\"accuracy\", cv=10):\n",
    "    return cross_val_score(model, X_prep, y_prep, scoring=scoring, cv=cv, verbose=1, n_jobs=3).mean()\n",
    "\n",
    "# Setup hyperparameter tuning\n",
    "def randomized_search(\n",
    "    model,\n",
    "    X,\n",
    "    y,\n",
    "    param_distributions,\n",
    "    n_iter=50,\n",
    "    cv=10,\n",
    "    scoring=\"accuracy\",\n",
    "    error_score=\"raise\",\n",
    "    random_state=42\n",
    "):\n",
    "    rnd_search = RandomizedSearchCV(model, param_distributions, \n",
    "                                    n_iter=n_iter, cv=cv, scoring=scoring, \n",
    "                                    error_score=\"raise\", random_state=42)\n",
    "    rnd_search.fit(X, y)\n",
    "    cvres = rnd_search.cv_results_\n",
    "    max_score = -np.inf\n",
    "    opt_params = None\n",
    "    for mean_score, params in zip(cvres[\"mean_test_score\"], cvres[\"params\"]):\n",
    "        if max_score < mean_score:\n",
    "            max_score = mean_score\n",
    "            opt_params = params\n",
    "    print(\"======\")\n",
    "    print(\"Best score :\", max_score)\n",
    "    print(\"Best params:\", opt_params)\n",
    "    print(\"======\")\n",
    "    return rnd_search"
   ]
  },
  {
   "cell_type": "markdown",
   "id": "7aeb54e8",
   "metadata": {},
   "source": [
    "### 2.1 - Train the Models"
   ]
  },
  {
   "cell_type": "markdown",
   "id": "018fff8e",
   "metadata": {},
   "source": [
    "#### Logistic Regression"
   ]
  },
  {
   "cell_type": "code",
   "execution_count": 9,
   "id": "d8684781",
   "metadata": {},
   "outputs": [
    {
     "data": {
      "text/plain": [
       "LogisticRegression(multi_class='multinomial')"
      ]
     },
     "execution_count": 9,
     "metadata": {},
     "output_type": "execute_result"
    }
   ],
   "source": [
    "# Train logistic regression\n",
    "log_reg = LogisticRegression(multi_class=\"multinomial\")\n",
    "log_reg.fit(X_prep, y_prep)"
   ]
  },
  {
   "cell_type": "code",
   "execution_count": 10,
   "id": "475882c1",
   "metadata": {},
   "outputs": [
    {
     "name": "stdout",
     "output_type": "stream",
     "text": [
      "======\n",
      "Accuracy: 1.0\n",
      "F1      : 1.0\n",
      "======\n"
     ]
    }
   ],
   "source": [
    "# Evaluate training\n",
    "report(y_prep, log_reg.predict(X_prep))"
   ]
  },
  {
   "cell_type": "code",
   "execution_count": 11,
   "id": "9e8f3d46",
   "metadata": {},
   "outputs": [
    {
     "name": "stderr",
     "output_type": "stream",
     "text": [
      "[Parallel(n_jobs=3)]: Using backend LokyBackend with 3 concurrent workers.\n",
      "[Parallel(n_jobs=3)]: Done  10 out of  10 | elapsed:    2.6s finished\n"
     ]
    },
    {
     "data": {
      "text/plain": [
       "0.4383720930232558"
      ]
     },
     "execution_count": 11,
     "metadata": {},
     "output_type": "execute_result"
    }
   ],
   "source": [
    "# K-fold cross validation on the model\n",
    "cross_validate(log_reg, X_prep, y_prep)"
   ]
  },
  {
   "cell_type": "markdown",
   "id": "9a12f1f8",
   "metadata": {},
   "source": [
    "#### Linear SVC"
   ]
  },
  {
   "cell_type": "code",
   "execution_count": 12,
   "id": "10b0f136",
   "metadata": {},
   "outputs": [
    {
     "data": {
      "text/plain": [
       "LinearSVC(C=0.001, loss='hinge', random_state=42)"
      ]
     },
     "execution_count": 12,
     "metadata": {},
     "output_type": "execute_result"
    }
   ],
   "source": [
    "# Train linear svm \n",
    "lin_svc = LinearSVC(loss=\"hinge\", C=0.001, random_state=42)\n",
    "lin_svc.fit(X_prep, y_prep)"
   ]
  },
  {
   "cell_type": "code",
   "execution_count": 13,
   "id": "8ca2b107",
   "metadata": {},
   "outputs": [
    {
     "name": "stdout",
     "output_type": "stream",
     "text": [
      "======\n",
      "Accuracy: 0.7604651162790698\n",
      "F1      : 0.7604651162790698\n",
      "======\n"
     ]
    }
   ],
   "source": [
    "# Evaluate training\n",
    "report(y_prep, lin_svc.predict(X_prep))"
   ]
  },
  {
   "cell_type": "code",
   "execution_count": 14,
   "id": "ebea0bee",
   "metadata": {},
   "outputs": [
    {
     "name": "stderr",
     "output_type": "stream",
     "text": [
      "[Parallel(n_jobs=3)]: Using backend LokyBackend with 3 concurrent workers.\n",
      "[Parallel(n_jobs=3)]: Done  10 out of  10 | elapsed:    0.5s finished\n"
     ]
    },
    {
     "data": {
      "text/plain": [
       "0.4965116279069767"
      ]
     },
     "execution_count": 14,
     "metadata": {},
     "output_type": "execute_result"
    }
   ],
   "source": [
    "# K-fold cross validation on the model\n",
    "cross_validate(lin_svc, X_prep, y_prep)"
   ]
  },
  {
   "cell_type": "markdown",
   "id": "569d070a",
   "metadata": {},
   "source": [
    "#### DecisionTree"
   ]
  },
  {
   "cell_type": "code",
   "execution_count": 15,
   "id": "d32b28d8",
   "metadata": {},
   "outputs": [
    {
     "data": {
      "text/plain": [
       "DecisionTreeClassifier(max_depth=10, random_state=42)"
      ]
     },
     "execution_count": 15,
     "metadata": {},
     "output_type": "execute_result"
    }
   ],
   "source": [
    "# Train decision tree\n",
    "tree_clf = DecisionTreeClassifier(max_depth=10, random_state=42)\n",
    "tree_clf.fit(X_prep, y_prep)"
   ]
  },
  {
   "cell_type": "code",
   "execution_count": 16,
   "id": "e9ac4215",
   "metadata": {},
   "outputs": [
    {
     "name": "stdout",
     "output_type": "stream",
     "text": [
      "======\n",
      "Accuracy: 0.9244186046511628\n",
      "F1      : 0.9244186046511627\n",
      "======\n"
     ]
    }
   ],
   "source": [
    "# Evaluate training\n",
    "report(y_prep, tree_clf.predict(X_prep))"
   ]
  },
  {
   "cell_type": "code",
   "execution_count": 17,
   "id": "c0d6c4c5",
   "metadata": {},
   "outputs": [
    {
     "name": "stderr",
     "output_type": "stream",
     "text": [
      "[Parallel(n_jobs=3)]: Using backend LokyBackend with 3 concurrent workers.\n",
      "[Parallel(n_jobs=3)]: Done  10 out of  10 | elapsed:    0.9s finished\n"
     ]
    },
    {
     "data": {
      "text/plain": [
       "0.43720930232558136"
      ]
     },
     "execution_count": 17,
     "metadata": {},
     "output_type": "execute_result"
    }
   ],
   "source": [
    "# K-fold cross validation on the model\n",
    "cross_validate(tree_clf, X_prep, y_prep)"
   ]
  },
  {
   "cell_type": "code",
   "execution_count": 18,
   "id": "3f783930",
   "metadata": {},
   "outputs": [
    {
     "data": {
      "text/plain": [
       "array([0.00925434, 0.00418649, 0.00293789, 0.03876008, 0.01403982,\n",
       "       0.02051275, 0.01127566, 0.01307069, 0.00899983, 0.00758954,\n",
       "       0.01221059, 0.00587577, 0.00433688, 0.01186234, 0.00220342,\n",
       "       0.0079323 , 0.00426912, 0.00763327, 0.0135074 , 0.00220342,\n",
       "       0.00837298, 0.00220342, 0.00963734, 0.00352546, 0.00220342,\n",
       "       0.00801242, 0.00352546, 0.01109928, 0.00724106, 0.01226957,\n",
       "       0.00896826, 0.0051413 , 0.00899828, 0.0145266 , 0.00330512,\n",
       "       0.00762726, 0.01008675, 0.00803855, 0.01214806, 0.00741149,\n",
       "       0.01285132, 0.01035929, 0.00587577, 0.00293789, 0.00855326,\n",
       "       0.01041901, 0.01694298, 0.00352546, 0.00792406, 0.00584067,\n",
       "       0.01459291, 0.00293789, 0.01008063, 0.01249826, 0.00781211,\n",
       "       0.00428442, 0.00330512, 0.00377728, 0.00396615, 0.0040396 ,\n",
       "       0.01982649, 0.0051413 , 0.00685507, 0.00396615, 0.01246766,\n",
       "       0.06220863, 0.00293789, 0.00979296, 0.00837236, 0.00769406,\n",
       "       0.00846803, 0.00396615, 0.02147712, 0.00396615, 0.00705093,\n",
       "       0.01189648, 0.01050483, 0.00220342, 0.00396615, 0.00818421,\n",
       "       0.00859332, 0.00440683, 0.00842194, 0.0103948 , 0.01138996,\n",
       "       0.00400621, 0.00791401, 0.00867807, 0.00620561, 0.01196478,\n",
       "       0.01079674, 0.00881366, 0.00826281, 0.00748667, 0.01352546,\n",
       "       0.01579584, 0.02256963, 0.00396615, 0.00929472, 0.00661025,\n",
       "       0.00807919, 0.01016961, 0.01057184, 0.00367236, 0.00881366,\n",
       "       0.00789235, 0.00352546, 0.0157152 , 0.0119891 ])"
      ]
     },
     "execution_count": 18,
     "metadata": {},
     "output_type": "execute_result"
    }
   ],
   "source": [
    "# Measure importance of features\n",
    "tree_clf.feature_importances_[np.where(tree_clf.feature_importances_ > 0.0)[0]] # 109 features"
   ]
  },
  {
   "cell_type": "code",
   "execution_count": 21,
   "id": "ae1462e2",
   "metadata": {},
   "outputs": [
    {
     "name": "stdout",
     "output_type": "stream",
     "text": [
      "======\n",
      "Accuracy: 0.6011627906976744\n",
      "F1      : 0.6011627906976744\n",
      "======\n"
     ]
    }
   ],
   "source": [
    "# Tran a linear SVC with tree-important features\n",
    "X_prep_signify = X_prep[:, np.where(tree_clf.feature_importances_ > 0.0)[0]]\n",
    "lin_svc_tree = LinearSVC(loss=\"hinge\", C=0.001, random_state=42)\n",
    "lin_svc_tree.fit(X_prep_signify, y_prep)\n",
    "report(y_prep, lin_svc_tree.predict(X_prep_signify))"
   ]
  },
  {
   "cell_type": "code",
   "execution_count": 22,
   "id": "9151f529",
   "metadata": {},
   "outputs": [
    {
     "name": "stderr",
     "output_type": "stream",
     "text": [
      "[Parallel(n_jobs=3)]: Using backend LokyBackend with 3 concurrent workers.\n",
      "[Parallel(n_jobs=3)]: Done  10 out of  10 | elapsed:    1.3s finished\n"
     ]
    },
    {
     "data": {
      "text/plain": [
       "0.5372093023255815"
      ]
     },
     "execution_count": 22,
     "metadata": {},
     "output_type": "execute_result"
    }
   ],
   "source": [
    "# Evaluate the model trained on tree-important features\n",
    "cross_validate(lin_svc_tree, X_prep_signify, y_prep)"
   ]
  },
  {
   "cell_type": "markdown",
   "id": "be17079c",
   "metadata": {},
   "source": [
    "#### Random Forest"
   ]
  },
  {
   "cell_type": "code",
   "execution_count": 47,
   "id": "d64f039b",
   "metadata": {},
   "outputs": [
    {
     "data": {
      "text/plain": [
       "RandomForestClassifier(random_state=42)"
      ]
     },
     "execution_count": 47,
     "metadata": {},
     "output_type": "execute_result"
    }
   ],
   "source": [
    "# Train random forest\n",
    "rand_forest = RandomForestClassifier(random_state=42)\n",
    "rand_forest.fit(X_prep, y_prep)"
   ]
  },
  {
   "cell_type": "code",
   "execution_count": 48,
   "id": "80d230f0",
   "metadata": {},
   "outputs": [
    {
     "name": "stdout",
     "output_type": "stream",
     "text": [
      "======\n",
      "Accuracy: 1.0\n",
      "F1      : 1.0\n",
      "======\n"
     ]
    }
   ],
   "source": [
    "# Evaluate training\n",
    "report(y_prep, rand_forest.predict(X_prep))"
   ]
  },
  {
   "cell_type": "code",
   "execution_count": 49,
   "id": "bc95f1cc",
   "metadata": {},
   "outputs": [
    {
     "name": "stderr",
     "output_type": "stream",
     "text": [
      "[Parallel(n_jobs=3)]: Using backend LokyBackend with 3 concurrent workers.\n",
      "[Parallel(n_jobs=3)]: Done  10 out of  10 | elapsed:    3.2s finished\n"
     ]
    },
    {
     "data": {
      "text/plain": [
       "0.5244186046511629"
      ]
     },
     "execution_count": 49,
     "metadata": {},
     "output_type": "execute_result"
    }
   ],
   "source": [
    "# Measure importance of features\n",
    "cross_validate(rand_forest, X_prep, y_prep)"
   ]
  },
  {
   "cell_type": "markdown",
   "id": "e7cbf5a2",
   "metadata": {},
   "source": [
    "#### AdaBoost"
   ]
  },
  {
   "cell_type": "code",
   "execution_count": 63,
   "id": "f138bc62",
   "metadata": {},
   "outputs": [
    {
     "data": {
      "text/plain": [
       "AdaBoostClassifier(learning_rate=0.7, n_estimators=100)"
      ]
     },
     "execution_count": 63,
     "metadata": {},
     "output_type": "execute_result"
    }
   ],
   "source": [
    "# Train ada boosting\n",
    "ada_clf = AdaBoostClassifier(learning_rate=0.7, n_estimators=100)\n",
    "ada_clf.fit(X_prep, y_prep)"
   ]
  },
  {
   "cell_type": "code",
   "execution_count": 64,
   "id": "26a09e4f",
   "metadata": {},
   "outputs": [
    {
     "name": "stdout",
     "output_type": "stream",
     "text": [
      "======\n",
      "Accuracy: 0.7523255813953489\n",
      "F1      : 0.7523255813953488\n",
      "======\n"
     ]
    }
   ],
   "source": [
    "# Evaluate training\n",
    "report(y_prep, ada_clf.predict(X_prep))"
   ]
  },
  {
   "cell_type": "code",
   "execution_count": 65,
   "id": "24fc281c",
   "metadata": {},
   "outputs": [
    {
     "name": "stderr",
     "output_type": "stream",
     "text": [
      "[Parallel(n_jobs=3)]: Using backend LokyBackend with 3 concurrent workers.\n",
      "[Parallel(n_jobs=3)]: Done  10 out of  10 | elapsed:   16.3s finished\n"
     ]
    },
    {
     "data": {
      "text/plain": [
       "0.48023255813953486"
      ]
     },
     "execution_count": 65,
     "metadata": {},
     "output_type": "execute_result"
    }
   ],
   "source": [
    "# K-fold cross validation on the model\n",
    "cross_validate(ada_clf, X_prep, y_prep)"
   ]
  },
  {
   "cell_type": "markdown",
   "id": "345d35b1",
   "metadata": {},
   "source": [
    "#### Gradient Boosting"
   ]
  },
  {
   "cell_type": "code",
   "execution_count": 67,
   "id": "d0860574",
   "metadata": {},
   "outputs": [
    {
     "data": {
      "text/plain": [
       "GradientBoostingClassifier(learning_rate=0.7, random_state=42)"
      ]
     },
     "execution_count": 67,
     "metadata": {},
     "output_type": "execute_result"
    }
   ],
   "source": [
    "# Train gradient boosting\n",
    "grad_clf = GradientBoostingClassifier(learning_rate=0.7, random_state=42)\n",
    "grad_clf.fit(X_prep, y_prep)"
   ]
  },
  {
   "cell_type": "code",
   "execution_count": 69,
   "id": "7266dedb",
   "metadata": {},
   "outputs": [
    {
     "name": "stdout",
     "output_type": "stream",
     "text": [
      "======\n",
      "Accuracy: 1.0\n",
      "F1      : 1.0\n",
      "======\n"
     ]
    }
   ],
   "source": [
    "# Evaluate training\n",
    "report(y_prep, grad_clf.predict(X_prep))"
   ]
  },
  {
   "cell_type": "code",
   "execution_count": 70,
   "id": "d340303c",
   "metadata": {},
   "outputs": [
    {
     "name": "stderr",
     "output_type": "stream",
     "text": [
      "[Parallel(n_jobs=3)]: Using backend LokyBackend with 3 concurrent workers.\n",
      "[Parallel(n_jobs=3)]: Done  10 out of  10 | elapsed:  2.2min finished\n"
     ]
    },
    {
     "data": {
      "text/plain": [
       "0.49302325581395345"
      ]
     },
     "execution_count": 70,
     "metadata": {},
     "output_type": "execute_result"
    }
   ],
   "source": [
    "# K-fold cross validation on the model\n",
    "cross_validate(grad_clf, X_prep, y_prep)"
   ]
  },
  {
   "cell_type": "markdown",
   "id": "a59ffbe0",
   "metadata": {},
   "source": [
    "### 2.2 - Fine-tune the Hyperparameters\n",
    "**NOTE:** Randomized Search is performed first to narrow down the search space, then Grid Search will be performed on that narrowed space. The result parameters could be optimal or not, but it is expected to construct a better model based on that parameters."
   ]
  },
  {
   "cell_type": "markdown",
   "id": "105a2639",
   "metadata": {},
   "source": [
    "#### Decision Tree"
   ]
  },
  {
   "cell_type": "code",
   "execution_count": 76,
   "id": "fb682ac2",
   "metadata": {},
   "outputs": [
    {
     "name": "stdout",
     "output_type": "stream",
     "text": [
      "======\n",
      "Best score : 0.4941860465116279\n",
      "Best params: {'max_depth': 3, 'max_features': None, 'max_leaf_nodes': 51, 'min_impurity_decrease': 0.02344823389560996, 'min_samples_split': 9, 'splitter': 'best'}\n",
      "======\n"
     ]
    }
   ],
   "source": [
    "# Perform randomized search\n",
    "tree_param_dist = {\n",
    "    \"max_depth\": randint(low=3, high=19), # 19 overfits the data\n",
    "    \"splitter\": [\"best\", \"random\"],\n",
    "    \"min_samples_split\": randint(low=2, high=20),\n",
    "    \"max_features\": [None, \"sqrt\", \"log2\"],\n",
    "    \"max_leaf_nodes\": randint(low=20, high=159),\n",
    "    \"min_impurity_decrease\": uniform(0.0, 0.5)\n",
    "}\n",
    "tree_rnd = randomized_search(DecisionTreeClassifier(random_state=42), X_prep, y_prep, \n",
    "                             tree_param_dist, n_iter=200)"
   ]
  },
  {
   "cell_type": "markdown",
   "id": "09a6cb31",
   "metadata": {},
   "source": [
    "#### Random Forest"
   ]
  },
  {
   "cell_type": "code",
   "execution_count": 80,
   "id": "e72b7e39",
   "metadata": {},
   "outputs": [
    {
     "name": "stdout",
     "output_type": "stream",
     "text": [
      "======\n",
      "Best score : 0.5058139534883721\n",
      "Best params: {'criterion': 'entropy', 'max_depth': 3, 'max_features': None, 'max_leaf_nodes': 102, 'max_samples': 0.6424202471887338, 'min_impurity_decrease': 0.018443473677266398, 'min_samples_split': 18, 'n_estimators': 11}\n",
      "======\n"
     ]
    }
   ],
   "source": [
    "# Perform randomized search\n",
    "forest_param_dist = {\n",
    "    \"n_estimators\": randint(low=10, high=200), \n",
    "    \"criterion\": [\"gini\", \"entropy\"],\n",
    "    \"max_depth\": randint(low=1, high=10), # 19 overfits the data\n",
    "    \"min_samples_split\": randint(low=2, high=20),\n",
    "    \"max_features\": [None, \"sqrt\", \"log2\"],\n",
    "    \"max_leaf_nodes\": randint(low=2, high=159),\n",
    "    \"min_impurity_decrease\": uniform(0.0, 0.5),\n",
    "    \"max_samples\": uniform(0.5, 0.5) # [loc, loc+scale]\n",
    "}\n",
    "forest_rnd = randomized_search(RandomForestClassifier(random_state=42), X_prep, y_prep, \n",
    "                               forest_param_dist)"
   ]
  }
 ],
 "metadata": {
  "kernelspec": {
   "display_name": "Python 3 (ipykernel)",
   "language": "python",
   "name": "python3"
  },
  "language_info": {
   "codemirror_mode": {
    "name": "ipython",
    "version": 3
   },
   "file_extension": ".py",
   "mimetype": "text/x-python",
   "name": "python",
   "nbconvert_exporter": "python",
   "pygments_lexer": "ipython3",
   "version": "3.9.13"
  }
 },
 "nbformat": 4,
 "nbformat_minor": 5
}
