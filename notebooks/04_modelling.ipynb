{
 "cells": [
  {
   "cell_type": "markdown",
   "id": "e8a56217",
   "metadata": {},
   "source": [
    "# MODELLING\n",
    "A notebook to model the problem"
   ]
  },
  {
   "cell_type": "code",
   "execution_count": 1,
   "id": "ce52cb88",
   "metadata": {},
   "outputs": [],
   "source": [
    "# Python ≥3.5 is required\n",
    "import sys\n",
    "assert sys.version_info >= (3, 5)\n",
    "\n",
    "# Disable warnings\n",
    "import warnings\n",
    "warnings.filterwarnings('ignore')\n",
    "\n",
    "# Scikit-Learn ≥0.20 is required\n",
    "import sklearn\n",
    "assert sklearn.__version__ >= \"0.20\"\n",
    "\n",
    "# Common imports\n",
    "import joblib\n",
    "import copy\n",
    "import pandas as pd\n",
    "import numpy as np\n",
    "import os\n",
    "PRJ_ROOT_DIR = os.path.dirname(os.path.abspath(''))\n",
    "\n",
    "# to make this notebook's output stable across runs\n",
    "np.random.seed(42)\n",
    "\n",
    "# To plot pretty figures\n",
    "%matplotlib inline\n",
    "import matplotlib as mpl\n",
    "import matplotlib.pyplot as plt\n",
    "mpl.rc('axes', labelsize=14)\n",
    "mpl.rc('xtick', labelsize=12)\n",
    "mpl.rc('ytick', labelsize=12)"
   ]
  },
  {
   "cell_type": "code",
   "execution_count": 2,
   "id": "73a3eba5",
   "metadata": {},
   "outputs": [],
   "source": [
    "# Where to save the figures\n",
    "NOTE_ROOT_DIR = os.path.abspath('')\n",
    "CHAPTER_ID = \"04_modelling\"\n",
    "IMAGES_PATH = os.path.join(NOTE_ROOT_DIR, \"images\", CHAPTER_ID)\n",
    "os.makedirs(IMAGES_PATH, exist_ok=True)\n",
    "\n",
    "def save_fig(fig_id, tight_layout=True, fig_extension=\"png\", resolution=300):\n",
    "    path = os.path.join(IMAGES_PATH, fig_id + \".\" + fig_extension)\n",
    "    print(\"Saving figure\", fig_id)\n",
    "    if tight_layout:\n",
    "        plt.tight_layout()\n",
    "    plt.savefig(path, format=fig_extension, dpi=resolution)"
   ]
  },
  {
   "cell_type": "markdown",
   "id": "430628f8",
   "metadata": {},
   "source": [
    "## 1 - Load the Data"
   ]
  },
  {
   "cell_type": "code",
   "execution_count": 3,
   "id": "8789b96b",
   "metadata": {},
   "outputs": [
    {
     "data": {
      "text/html": [
       "<div>\n",
       "<style scoped>\n",
       "    .dataframe tbody tr th:only-of-type {\n",
       "        vertical-align: middle;\n",
       "    }\n",
       "\n",
       "    .dataframe tbody tr th {\n",
       "        vertical-align: top;\n",
       "    }\n",
       "\n",
       "    .dataframe thead th {\n",
       "        text-align: right;\n",
       "    }\n",
       "</style>\n",
       "<table border=\"1\" class=\"dataframe\">\n",
       "  <thead>\n",
       "    <tr style=\"text-align: right;\">\n",
       "      <th></th>\n",
       "      <th>home_result</th>\n",
       "      <th>defence/clean_sheets_0</th>\n",
       "      <th>defence/goals_conceded_0</th>\n",
       "      <th>defence/tackles_0</th>\n",
       "      <th>defence/tackle_success_%_0</th>\n",
       "      <th>defence/last_man_tackles_0</th>\n",
       "      <th>defence/blocked_shots_0</th>\n",
       "      <th>defence/interceptions_0</th>\n",
       "      <th>defence/clearances_0</th>\n",
       "      <th>defence/headed_clearance_0</th>\n",
       "      <th>...</th>\n",
       "      <th>goalkeeping/catches_26</th>\n",
       "      <th>goalkeeping/sweeper_clearances_26</th>\n",
       "      <th>goalkeeping/throw_outs_26</th>\n",
       "      <th>goalkeeping/goal_kicks_26</th>\n",
       "      <th>defence/recoveries_26</th>\n",
       "      <th>defence/duels_won_26</th>\n",
       "      <th>defence/duels_lost_26</th>\n",
       "      <th>teamplay/passes_26</th>\n",
       "      <th>teamplay/crosses_26</th>\n",
       "      <th>teamplay/accurate_long_balls_26</th>\n",
       "    </tr>\n",
       "  </thead>\n",
       "  <tbody>\n",
       "    <tr>\n",
       "      <th>0</th>\n",
       "      <td>lose</td>\n",
       "      <td>5.0</td>\n",
       "      <td>34.0</td>\n",
       "      <td>0.0</td>\n",
       "      <td>0.0</td>\n",
       "      <td>0.0</td>\n",
       "      <td>0.0</td>\n",
       "      <td>0.0</td>\n",
       "      <td>0.0</td>\n",
       "      <td>0.0</td>\n",
       "      <td>...</td>\n",
       "      <td>0.0</td>\n",
       "      <td>0.0</td>\n",
       "      <td>0.0</td>\n",
       "      <td>0.0</td>\n",
       "      <td>0.0</td>\n",
       "      <td>0.0</td>\n",
       "      <td>0.0</td>\n",
       "      <td>1097.0</td>\n",
       "      <td>88.0</td>\n",
       "      <td>0.0</td>\n",
       "    </tr>\n",
       "    <tr>\n",
       "      <th>1</th>\n",
       "      <td>win</td>\n",
       "      <td>6.0</td>\n",
       "      <td>21.0</td>\n",
       "      <td>0.0</td>\n",
       "      <td>0.0</td>\n",
       "      <td>0.0</td>\n",
       "      <td>0.0</td>\n",
       "      <td>0.0</td>\n",
       "      <td>0.0</td>\n",
       "      <td>0.0</td>\n",
       "      <td>...</td>\n",
       "      <td>-100.0</td>\n",
       "      <td>-100.0</td>\n",
       "      <td>-100.0</td>\n",
       "      <td>-100.0</td>\n",
       "      <td>-100.0</td>\n",
       "      <td>-100.0</td>\n",
       "      <td>-100.0</td>\n",
       "      <td>-100.0</td>\n",
       "      <td>-100.0</td>\n",
       "      <td>-100.0</td>\n",
       "    </tr>\n",
       "    <tr>\n",
       "      <th>2</th>\n",
       "      <td>win</td>\n",
       "      <td>13.0</td>\n",
       "      <td>23.0</td>\n",
       "      <td>0.0</td>\n",
       "      <td>0.0</td>\n",
       "      <td>0.0</td>\n",
       "      <td>0.0</td>\n",
       "      <td>0.0</td>\n",
       "      <td>0.0</td>\n",
       "      <td>0.0</td>\n",
       "      <td>...</td>\n",
       "      <td>-100.0</td>\n",
       "      <td>-100.0</td>\n",
       "      <td>-100.0</td>\n",
       "      <td>-100.0</td>\n",
       "      <td>-100.0</td>\n",
       "      <td>-100.0</td>\n",
       "      <td>-100.0</td>\n",
       "      <td>-100.0</td>\n",
       "      <td>-100.0</td>\n",
       "      <td>-100.0</td>\n",
       "    </tr>\n",
       "    <tr>\n",
       "      <th>3</th>\n",
       "      <td>win</td>\n",
       "      <td>11.0</td>\n",
       "      <td>37.0</td>\n",
       "      <td>0.0</td>\n",
       "      <td>0.0</td>\n",
       "      <td>0.0</td>\n",
       "      <td>0.0</td>\n",
       "      <td>0.0</td>\n",
       "      <td>0.0</td>\n",
       "      <td>0.0</td>\n",
       "      <td>...</td>\n",
       "      <td>0.0</td>\n",
       "      <td>0.0</td>\n",
       "      <td>0.0</td>\n",
       "      <td>0.0</td>\n",
       "      <td>0.0</td>\n",
       "      <td>0.0</td>\n",
       "      <td>0.0</td>\n",
       "      <td>248.0</td>\n",
       "      <td>13.0</td>\n",
       "      <td>0.0</td>\n",
       "    </tr>\n",
       "    <tr>\n",
       "      <th>4</th>\n",
       "      <td>win</td>\n",
       "      <td>13.0</td>\n",
       "      <td>36.0</td>\n",
       "      <td>0.0</td>\n",
       "      <td>0.0</td>\n",
       "      <td>0.0</td>\n",
       "      <td>0.0</td>\n",
       "      <td>0.0</td>\n",
       "      <td>0.0</td>\n",
       "      <td>0.0</td>\n",
       "      <td>...</td>\n",
       "      <td>-100.0</td>\n",
       "      <td>-100.0</td>\n",
       "      <td>-100.0</td>\n",
       "      <td>-100.0</td>\n",
       "      <td>-100.0</td>\n",
       "      <td>-100.0</td>\n",
       "      <td>-100.0</td>\n",
       "      <td>-100.0</td>\n",
       "      <td>-100.0</td>\n",
       "      <td>-100.0</td>\n",
       "    </tr>\n",
       "  </tbody>\n",
       "</table>\n",
       "<p>5 rows × 1351 columns</p>\n",
       "</div>"
      ],
      "text/plain": [
       "  home_result  defence/clean_sheets_0  defence/goals_conceded_0  \\\n",
       "0        lose                     5.0                      34.0   \n",
       "1         win                     6.0                      21.0   \n",
       "2         win                    13.0                      23.0   \n",
       "3         win                    11.0                      37.0   \n",
       "4         win                    13.0                      36.0   \n",
       "\n",
       "   defence/tackles_0  defence/tackle_success_%_0  defence/last_man_tackles_0  \\\n",
       "0                0.0                         0.0                         0.0   \n",
       "1                0.0                         0.0                         0.0   \n",
       "2                0.0                         0.0                         0.0   \n",
       "3                0.0                         0.0                         0.0   \n",
       "4                0.0                         0.0                         0.0   \n",
       "\n",
       "   defence/blocked_shots_0  defence/interceptions_0  defence/clearances_0  \\\n",
       "0                      0.0                      0.0                   0.0   \n",
       "1                      0.0                      0.0                   0.0   \n",
       "2                      0.0                      0.0                   0.0   \n",
       "3                      0.0                      0.0                   0.0   \n",
       "4                      0.0                      0.0                   0.0   \n",
       "\n",
       "   defence/headed_clearance_0  ...  goalkeeping/catches_26  \\\n",
       "0                         0.0  ...                     0.0   \n",
       "1                         0.0  ...                  -100.0   \n",
       "2                         0.0  ...                  -100.0   \n",
       "3                         0.0  ...                     0.0   \n",
       "4                         0.0  ...                  -100.0   \n",
       "\n",
       "   goalkeeping/sweeper_clearances_26  goalkeeping/throw_outs_26  \\\n",
       "0                                0.0                        0.0   \n",
       "1                             -100.0                     -100.0   \n",
       "2                             -100.0                     -100.0   \n",
       "3                                0.0                        0.0   \n",
       "4                             -100.0                     -100.0   \n",
       "\n",
       "   goalkeeping/goal_kicks_26  defence/recoveries_26  defence/duels_won_26  \\\n",
       "0                        0.0                    0.0                   0.0   \n",
       "1                     -100.0                 -100.0                -100.0   \n",
       "2                     -100.0                 -100.0                -100.0   \n",
       "3                        0.0                    0.0                   0.0   \n",
       "4                     -100.0                 -100.0                -100.0   \n",
       "\n",
       "   defence/duels_lost_26  teamplay/passes_26  teamplay/crosses_26  \\\n",
       "0                    0.0              1097.0                 88.0   \n",
       "1                 -100.0              -100.0               -100.0   \n",
       "2                 -100.0              -100.0               -100.0   \n",
       "3                    0.0               248.0                 13.0   \n",
       "4                 -100.0              -100.0               -100.0   \n",
       "\n",
       "   teamplay/accurate_long_balls_26  \n",
       "0                              0.0  \n",
       "1                           -100.0  \n",
       "2                           -100.0  \n",
       "3                              0.0  \n",
       "4                           -100.0  \n",
       "\n",
       "[5 rows x 1351 columns]"
      ]
     },
     "execution_count": 3,
     "metadata": {},
     "output_type": "execute_result"
    }
   ],
   "source": [
    "# Load the integrated data\n",
    "df_match = pd.read_csv(os.path.join(PRJ_ROOT_DIR, \"data\", \"tabular\", \"integrate\", \"matches.csv\"))\n",
    "df_match.drop(['season'], axis=1, inplace=True)\n",
    "df_match.head()"
   ]
  },
  {
   "cell_type": "markdown",
   "id": "b063ce47",
   "metadata": {},
   "source": [
    "### 1.1. Manage Empty Positions' Statistics"
   ]
  },
  {
   "cell_type": "code",
   "execution_count": 4,
   "id": "60bf316e",
   "metadata": {},
   "outputs": [
    {
     "data": {
      "text/html": [
       "<div>\n",
       "<style scoped>\n",
       "    .dataframe tbody tr th:only-of-type {\n",
       "        vertical-align: middle;\n",
       "    }\n",
       "\n",
       "    .dataframe tbody tr th {\n",
       "        vertical-align: top;\n",
       "    }\n",
       "\n",
       "    .dataframe thead th {\n",
       "        text-align: right;\n",
       "    }\n",
       "</style>\n",
       "<table border=\"1\" class=\"dataframe\">\n",
       "  <thead>\n",
       "    <tr style=\"text-align: right;\">\n",
       "      <th></th>\n",
       "      <th>home_result</th>\n",
       "      <th>defence/clean_sheets_0</th>\n",
       "      <th>defence/goals_conceded_0</th>\n",
       "      <th>defence/tackles_0</th>\n",
       "      <th>defence/tackle_success_%_0</th>\n",
       "      <th>defence/last_man_tackles_0</th>\n",
       "      <th>defence/blocked_shots_0</th>\n",
       "      <th>defence/interceptions_0</th>\n",
       "      <th>defence/clearances_0</th>\n",
       "      <th>defence/headed_clearance_0</th>\n",
       "      <th>...</th>\n",
       "      <th>goalkeeping/catches_26</th>\n",
       "      <th>goalkeeping/sweeper_clearances_26</th>\n",
       "      <th>goalkeeping/throw_outs_26</th>\n",
       "      <th>goalkeeping/goal_kicks_26</th>\n",
       "      <th>defence/recoveries_26</th>\n",
       "      <th>defence/duels_won_26</th>\n",
       "      <th>defence/duels_lost_26</th>\n",
       "      <th>teamplay/passes_26</th>\n",
       "      <th>teamplay/crosses_26</th>\n",
       "      <th>teamplay/accurate_long_balls_26</th>\n",
       "    </tr>\n",
       "  </thead>\n",
       "  <tbody>\n",
       "    <tr>\n",
       "      <th>0</th>\n",
       "      <td>lose</td>\n",
       "      <td>5.0</td>\n",
       "      <td>34.0</td>\n",
       "      <td>0.0</td>\n",
       "      <td>0.0</td>\n",
       "      <td>0.0</td>\n",
       "      <td>0.0</td>\n",
       "      <td>0.0</td>\n",
       "      <td>0.0</td>\n",
       "      <td>0.0</td>\n",
       "      <td>...</td>\n",
       "      <td>0.0</td>\n",
       "      <td>0.0</td>\n",
       "      <td>0.0</td>\n",
       "      <td>0.0</td>\n",
       "      <td>0.0</td>\n",
       "      <td>0.0</td>\n",
       "      <td>0.0</td>\n",
       "      <td>1097.0</td>\n",
       "      <td>88.0</td>\n",
       "      <td>0.0</td>\n",
       "    </tr>\n",
       "    <tr>\n",
       "      <th>1</th>\n",
       "      <td>win</td>\n",
       "      <td>6.0</td>\n",
       "      <td>21.0</td>\n",
       "      <td>0.0</td>\n",
       "      <td>0.0</td>\n",
       "      <td>0.0</td>\n",
       "      <td>0.0</td>\n",
       "      <td>0.0</td>\n",
       "      <td>0.0</td>\n",
       "      <td>0.0</td>\n",
       "      <td>...</td>\n",
       "      <td>0.0</td>\n",
       "      <td>0.0</td>\n",
       "      <td>0.0</td>\n",
       "      <td>0.0</td>\n",
       "      <td>0.0</td>\n",
       "      <td>0.0</td>\n",
       "      <td>0.0</td>\n",
       "      <td>0.0</td>\n",
       "      <td>0.0</td>\n",
       "      <td>0.0</td>\n",
       "    </tr>\n",
       "    <tr>\n",
       "      <th>2</th>\n",
       "      <td>win</td>\n",
       "      <td>13.0</td>\n",
       "      <td>23.0</td>\n",
       "      <td>0.0</td>\n",
       "      <td>0.0</td>\n",
       "      <td>0.0</td>\n",
       "      <td>0.0</td>\n",
       "      <td>0.0</td>\n",
       "      <td>0.0</td>\n",
       "      <td>0.0</td>\n",
       "      <td>...</td>\n",
       "      <td>0.0</td>\n",
       "      <td>0.0</td>\n",
       "      <td>0.0</td>\n",
       "      <td>0.0</td>\n",
       "      <td>0.0</td>\n",
       "      <td>0.0</td>\n",
       "      <td>0.0</td>\n",
       "      <td>0.0</td>\n",
       "      <td>0.0</td>\n",
       "      <td>0.0</td>\n",
       "    </tr>\n",
       "    <tr>\n",
       "      <th>3</th>\n",
       "      <td>win</td>\n",
       "      <td>11.0</td>\n",
       "      <td>37.0</td>\n",
       "      <td>0.0</td>\n",
       "      <td>0.0</td>\n",
       "      <td>0.0</td>\n",
       "      <td>0.0</td>\n",
       "      <td>0.0</td>\n",
       "      <td>0.0</td>\n",
       "      <td>0.0</td>\n",
       "      <td>...</td>\n",
       "      <td>0.0</td>\n",
       "      <td>0.0</td>\n",
       "      <td>0.0</td>\n",
       "      <td>0.0</td>\n",
       "      <td>0.0</td>\n",
       "      <td>0.0</td>\n",
       "      <td>0.0</td>\n",
       "      <td>248.0</td>\n",
       "      <td>13.0</td>\n",
       "      <td>0.0</td>\n",
       "    </tr>\n",
       "    <tr>\n",
       "      <th>4</th>\n",
       "      <td>win</td>\n",
       "      <td>13.0</td>\n",
       "      <td>36.0</td>\n",
       "      <td>0.0</td>\n",
       "      <td>0.0</td>\n",
       "      <td>0.0</td>\n",
       "      <td>0.0</td>\n",
       "      <td>0.0</td>\n",
       "      <td>0.0</td>\n",
       "      <td>0.0</td>\n",
       "      <td>...</td>\n",
       "      <td>0.0</td>\n",
       "      <td>0.0</td>\n",
       "      <td>0.0</td>\n",
       "      <td>0.0</td>\n",
       "      <td>0.0</td>\n",
       "      <td>0.0</td>\n",
       "      <td>0.0</td>\n",
       "      <td>0.0</td>\n",
       "      <td>0.0</td>\n",
       "      <td>0.0</td>\n",
       "    </tr>\n",
       "  </tbody>\n",
       "</table>\n",
       "<p>5 rows × 1351 columns</p>\n",
       "</div>"
      ],
      "text/plain": [
       "  home_result  defence/clean_sheets_0  defence/goals_conceded_0  \\\n",
       "0        lose                     5.0                      34.0   \n",
       "1         win                     6.0                      21.0   \n",
       "2         win                    13.0                      23.0   \n",
       "3         win                    11.0                      37.0   \n",
       "4         win                    13.0                      36.0   \n",
       "\n",
       "   defence/tackles_0  defence/tackle_success_%_0  defence/last_man_tackles_0  \\\n",
       "0                0.0                         0.0                         0.0   \n",
       "1                0.0                         0.0                         0.0   \n",
       "2                0.0                         0.0                         0.0   \n",
       "3                0.0                         0.0                         0.0   \n",
       "4                0.0                         0.0                         0.0   \n",
       "\n",
       "   defence/blocked_shots_0  defence/interceptions_0  defence/clearances_0  \\\n",
       "0                      0.0                      0.0                   0.0   \n",
       "1                      0.0                      0.0                   0.0   \n",
       "2                      0.0                      0.0                   0.0   \n",
       "3                      0.0                      0.0                   0.0   \n",
       "4                      0.0                      0.0                   0.0   \n",
       "\n",
       "   defence/headed_clearance_0  ...  goalkeeping/catches_26  \\\n",
       "0                         0.0  ...                     0.0   \n",
       "1                         0.0  ...                     0.0   \n",
       "2                         0.0  ...                     0.0   \n",
       "3                         0.0  ...                     0.0   \n",
       "4                         0.0  ...                     0.0   \n",
       "\n",
       "   goalkeeping/sweeper_clearances_26  goalkeeping/throw_outs_26  \\\n",
       "0                                0.0                        0.0   \n",
       "1                                0.0                        0.0   \n",
       "2                                0.0                        0.0   \n",
       "3                                0.0                        0.0   \n",
       "4                                0.0                        0.0   \n",
       "\n",
       "   goalkeeping/goal_kicks_26  defence/recoveries_26  defence/duels_won_26  \\\n",
       "0                        0.0                    0.0                   0.0   \n",
       "1                        0.0                    0.0                   0.0   \n",
       "2                        0.0                    0.0                   0.0   \n",
       "3                        0.0                    0.0                   0.0   \n",
       "4                        0.0                    0.0                   0.0   \n",
       "\n",
       "   defence/duels_lost_26  teamplay/passes_26  teamplay/crosses_26  \\\n",
       "0                    0.0              1097.0                 88.0   \n",
       "1                    0.0                 0.0                  0.0   \n",
       "2                    0.0                 0.0                  0.0   \n",
       "3                    0.0               248.0                 13.0   \n",
       "4                    0.0                 0.0                  0.0   \n",
       "\n",
       "   teamplay/accurate_long_balls_26  \n",
       "0                              0.0  \n",
       "1                              0.0  \n",
       "2                              0.0  \n",
       "3                              0.0  \n",
       "4                              0.0  \n",
       "\n",
       "[5 rows x 1351 columns]"
      ]
     },
     "execution_count": 4,
     "metadata": {},
     "output_type": "execute_result"
    }
   ],
   "source": [
    "# Replace -100 with 0 (statistics' value of empty positions)\n",
    "df_match = df_match.replace(-100, 0)\n",
    "df_match.head()"
   ]
  },
  {
   "cell_type": "markdown",
   "id": "3a80a411",
   "metadata": {},
   "source": [
    "### 1.2 Create a Test Set"
   ]
  },
  {
   "cell_type": "code",
   "execution_count": 5,
   "id": "29fac767",
   "metadata": {},
   "outputs": [
    {
     "data": {
      "text/html": [
       "<div>\n",
       "<style scoped>\n",
       "    .dataframe tbody tr th:only-of-type {\n",
       "        vertical-align: middle;\n",
       "    }\n",
       "\n",
       "    .dataframe tbody tr th {\n",
       "        vertical-align: top;\n",
       "    }\n",
       "\n",
       "    .dataframe thead th {\n",
       "        text-align: right;\n",
       "    }\n",
       "</style>\n",
       "<table border=\"1\" class=\"dataframe\">\n",
       "  <thead>\n",
       "    <tr style=\"text-align: right;\">\n",
       "      <th></th>\n",
       "      <th>defence/clean_sheets_0</th>\n",
       "      <th>defence/goals_conceded_0</th>\n",
       "      <th>defence/tackles_0</th>\n",
       "      <th>defence/tackle_success_%_0</th>\n",
       "      <th>defence/last_man_tackles_0</th>\n",
       "      <th>defence/blocked_shots_0</th>\n",
       "      <th>defence/interceptions_0</th>\n",
       "      <th>defence/clearances_0</th>\n",
       "      <th>defence/headed_clearance_0</th>\n",
       "      <th>defence/clearances_off_line_0</th>\n",
       "      <th>...</th>\n",
       "      <th>goalkeeping/catches_26</th>\n",
       "      <th>goalkeeping/sweeper_clearances_26</th>\n",
       "      <th>goalkeeping/throw_outs_26</th>\n",
       "      <th>goalkeeping/goal_kicks_26</th>\n",
       "      <th>defence/recoveries_26</th>\n",
       "      <th>defence/duels_won_26</th>\n",
       "      <th>defence/duels_lost_26</th>\n",
       "      <th>teamplay/passes_26</th>\n",
       "      <th>teamplay/crosses_26</th>\n",
       "      <th>teamplay/accurate_long_balls_26</th>\n",
       "    </tr>\n",
       "  </thead>\n",
       "  <tbody>\n",
       "    <tr>\n",
       "      <th>872</th>\n",
       "      <td>8.0</td>\n",
       "      <td>50.0</td>\n",
       "      <td>0.0</td>\n",
       "      <td>0.0</td>\n",
       "      <td>0.0</td>\n",
       "      <td>0.0</td>\n",
       "      <td>0.0</td>\n",
       "      <td>0.0</td>\n",
       "      <td>0.0</td>\n",
       "      <td>0.0</td>\n",
       "      <td>...</td>\n",
       "      <td>0.0</td>\n",
       "      <td>0.0</td>\n",
       "      <td>0.0</td>\n",
       "      <td>0.0</td>\n",
       "      <td>0.0</td>\n",
       "      <td>0.0</td>\n",
       "      <td>0.0</td>\n",
       "      <td>0.0</td>\n",
       "      <td>0.0</td>\n",
       "      <td>0.0</td>\n",
       "    </tr>\n",
       "    <tr>\n",
       "      <th>626</th>\n",
       "      <td>10.0</td>\n",
       "      <td>51.0</td>\n",
       "      <td>0.0</td>\n",
       "      <td>0.0</td>\n",
       "      <td>0.0</td>\n",
       "      <td>0.0</td>\n",
       "      <td>0.0</td>\n",
       "      <td>0.0</td>\n",
       "      <td>0.0</td>\n",
       "      <td>0.0</td>\n",
       "      <td>...</td>\n",
       "      <td>0.0</td>\n",
       "      <td>0.0</td>\n",
       "      <td>0.0</td>\n",
       "      <td>0.0</td>\n",
       "      <td>0.0</td>\n",
       "      <td>0.0</td>\n",
       "      <td>0.0</td>\n",
       "      <td>0.0</td>\n",
       "      <td>0.0</td>\n",
       "      <td>0.0</td>\n",
       "    </tr>\n",
       "    <tr>\n",
       "      <th>617</th>\n",
       "      <td>9.0</td>\n",
       "      <td>48.0</td>\n",
       "      <td>0.0</td>\n",
       "      <td>0.0</td>\n",
       "      <td>0.0</td>\n",
       "      <td>0.0</td>\n",
       "      <td>0.0</td>\n",
       "      <td>0.0</td>\n",
       "      <td>0.0</td>\n",
       "      <td>0.0</td>\n",
       "      <td>...</td>\n",
       "      <td>0.0</td>\n",
       "      <td>0.0</td>\n",
       "      <td>0.0</td>\n",
       "      <td>0.0</td>\n",
       "      <td>0.0</td>\n",
       "      <td>0.0</td>\n",
       "      <td>0.0</td>\n",
       "      <td>0.0</td>\n",
       "      <td>0.0</td>\n",
       "      <td>0.0</td>\n",
       "    </tr>\n",
       "    <tr>\n",
       "      <th>409</th>\n",
       "      <td>11.0</td>\n",
       "      <td>37.0</td>\n",
       "      <td>0.0</td>\n",
       "      <td>0.0</td>\n",
       "      <td>0.0</td>\n",
       "      <td>0.0</td>\n",
       "      <td>0.0</td>\n",
       "      <td>0.0</td>\n",
       "      <td>0.0</td>\n",
       "      <td>0.0</td>\n",
       "      <td>...</td>\n",
       "      <td>0.0</td>\n",
       "      <td>0.0</td>\n",
       "      <td>0.0</td>\n",
       "      <td>0.0</td>\n",
       "      <td>0.0</td>\n",
       "      <td>0.0</td>\n",
       "      <td>0.0</td>\n",
       "      <td>0.0</td>\n",
       "      <td>0.0</td>\n",
       "      <td>0.0</td>\n",
       "    </tr>\n",
       "    <tr>\n",
       "      <th>589</th>\n",
       "      <td>9.0</td>\n",
       "      <td>48.0</td>\n",
       "      <td>0.0</td>\n",
       "      <td>0.0</td>\n",
       "      <td>0.0</td>\n",
       "      <td>0.0</td>\n",
       "      <td>0.0</td>\n",
       "      <td>0.0</td>\n",
       "      <td>0.0</td>\n",
       "      <td>0.0</td>\n",
       "      <td>...</td>\n",
       "      <td>0.0</td>\n",
       "      <td>0.0</td>\n",
       "      <td>0.0</td>\n",
       "      <td>0.0</td>\n",
       "      <td>0.0</td>\n",
       "      <td>0.0</td>\n",
       "      <td>0.0</td>\n",
       "      <td>0.0</td>\n",
       "      <td>0.0</td>\n",
       "      <td>0.0</td>\n",
       "    </tr>\n",
       "  </tbody>\n",
       "</table>\n",
       "<p>5 rows × 1350 columns</p>\n",
       "</div>"
      ],
      "text/plain": [
       "     defence/clean_sheets_0  defence/goals_conceded_0  defence/tackles_0  \\\n",
       "872                     8.0                      50.0                0.0   \n",
       "626                    10.0                      51.0                0.0   \n",
       "617                     9.0                      48.0                0.0   \n",
       "409                    11.0                      37.0                0.0   \n",
       "589                     9.0                      48.0                0.0   \n",
       "\n",
       "     defence/tackle_success_%_0  defence/last_man_tackles_0  \\\n",
       "872                         0.0                         0.0   \n",
       "626                         0.0                         0.0   \n",
       "617                         0.0                         0.0   \n",
       "409                         0.0                         0.0   \n",
       "589                         0.0                         0.0   \n",
       "\n",
       "     defence/blocked_shots_0  defence/interceptions_0  defence/clearances_0  \\\n",
       "872                      0.0                      0.0                   0.0   \n",
       "626                      0.0                      0.0                   0.0   \n",
       "617                      0.0                      0.0                   0.0   \n",
       "409                      0.0                      0.0                   0.0   \n",
       "589                      0.0                      0.0                   0.0   \n",
       "\n",
       "     defence/headed_clearance_0  defence/clearances_off_line_0  ...  \\\n",
       "872                         0.0                            0.0  ...   \n",
       "626                         0.0                            0.0  ...   \n",
       "617                         0.0                            0.0  ...   \n",
       "409                         0.0                            0.0  ...   \n",
       "589                         0.0                            0.0  ...   \n",
       "\n",
       "     goalkeeping/catches_26  goalkeeping/sweeper_clearances_26  \\\n",
       "872                     0.0                                0.0   \n",
       "626                     0.0                                0.0   \n",
       "617                     0.0                                0.0   \n",
       "409                     0.0                                0.0   \n",
       "589                     0.0                                0.0   \n",
       "\n",
       "     goalkeeping/throw_outs_26  goalkeeping/goal_kicks_26  \\\n",
       "872                        0.0                        0.0   \n",
       "626                        0.0                        0.0   \n",
       "617                        0.0                        0.0   \n",
       "409                        0.0                        0.0   \n",
       "589                        0.0                        0.0   \n",
       "\n",
       "     defence/recoveries_26  defence/duels_won_26  defence/duels_lost_26  \\\n",
       "872                    0.0                   0.0                    0.0   \n",
       "626                    0.0                   0.0                    0.0   \n",
       "617                    0.0                   0.0                    0.0   \n",
       "409                    0.0                   0.0                    0.0   \n",
       "589                    0.0                   0.0                    0.0   \n",
       "\n",
       "     teamplay/passes_26  teamplay/crosses_26  teamplay/accurate_long_balls_26  \n",
       "872                 0.0                  0.0                              0.0  \n",
       "626                 0.0                  0.0                              0.0  \n",
       "617                 0.0                  0.0                              0.0  \n",
       "409                 0.0                  0.0                              0.0  \n",
       "589                 0.0                  0.0                              0.0  \n",
       "\n",
       "[5 rows x 1350 columns]"
      ]
     },
     "execution_count": 5,
     "metadata": {},
     "output_type": "execute_result"
    }
   ],
   "source": [
    "# Split train-test\n",
    "from sklearn.model_selection import train_test_split\n",
    "test_size = 0.2\n",
    "X_train, X_test, y_train, y_test = train_test_split(df_match.iloc[:, 1:], df_match[\"home_result\"], test_size=test_size, random_state=42)\n",
    "X_train.head()"
   ]
  },
  {
   "cell_type": "markdown",
   "id": "66d2763a",
   "metadata": {},
   "source": [
    "### 1.3 - Preprocessing"
   ]
  },
  {
   "cell_type": "code",
   "execution_count": 6,
   "id": "d6d4bcf4",
   "metadata": {},
   "outputs": [],
   "source": [
    "# Setup the pipeline of preprocessing\n",
    "from sklearn.preprocessing import StandardScaler\n",
    "from sklearn.preprocessing import OrdinalEncoder\n",
    "from sklearn.pipeline import Pipeline\n",
    "\n",
    "pipe_predictor_preprocess = Pipeline([\n",
    "    (\"scaler\", StandardScaler())\n",
    "])\n",
    "pipe_label_preprocess = Pipeline([\n",
    "    (\"encoder\", OrdinalEncoder())\n",
    "])"
   ]
  },
  {
   "cell_type": "code",
   "execution_count": 7,
   "id": "3f07f05d",
   "metadata": {},
   "outputs": [
    {
     "data": {
      "text/plain": [
       "[array(['draw', 'lose', 'win'], dtype=object)]"
      ]
     },
     "execution_count": 7,
     "metadata": {},
     "output_type": "execute_result"
    }
   ],
   "source": [
    "# Transform the training data\n",
    "X_prep = pipe_predictor_preprocess.fit_transform(X_train)\n",
    "y_prep = pipe_label_preprocess.fit_transform(y_train.values.reshape(-1, 1))\n",
    "pipe_label_preprocess[\"encoder\"].categories_"
   ]
  },
  {
   "cell_type": "markdown",
   "id": "40be08ec",
   "metadata": {},
   "source": [
    "## 2 - Modelling"
   ]
  },
  {
   "cell_type": "code",
   "execution_count": 57,
   "id": "3f3b43c3",
   "metadata": {},
   "outputs": [],
   "source": [
    "# Import models\n",
    "from sklearn.linear_model import LogisticRegression\n",
    "from sklearn.svm import LinearSVC, SVC\n",
    "from sklearn.tree import DecisionTreeClassifier\n",
    "from sklearn.ensemble import RandomForestClassifier, AdaBoostClassifier, GradientBoostingClassifier\n",
    "\n",
    "# Import metrics\n",
    "from sklearn.metrics import accuracy_score, f1_score, roc_auc_score\n",
    "\n",
    "# Import cross-validation and tuning tools\n",
    "from sklearn.model_selection import cross_val_predict\n",
    "from sklearn.model_selection import cross_val_score\n",
    "from sklearn.model_selection import RandomizedSearchCV\n",
    "from sklearn.model_selection import GridSearchCV\n",
    "from scipy.stats import randint, uniform\n",
    "from skopt import BayesSearchCV\n",
    "from skopt.space import Real\n",
    "\n",
    "# Setup to save/load the model\n",
    "def save_model(model, id_):\n",
    "    print(\"Saving model\", id_)\n",
    "    joblib.dump(model, os.path.join(NOTE_ROOT_DIR, \"models\", id_ + \".pkl\"))\n",
    "def load_model(id_):\n",
    "    print(\"Loading model\", id_)\n",
    "    return joblib.load(os.path.join(NOTE_ROOT_DIR, \"models\", id_ + \".pkl\"))\n",
    "\n",
    "# Setup display\n",
    "def report(model, X_train=X_prep, y_train=y_prep.squeeze()):\n",
    "    print(\"======\")\n",
    "    print(\"Accuracy:\", accuracy_score(y_train, model.predict(X_train)))\n",
    "    print(\"ROC AUC :\", roc_auc_score(y_train, model.predict_proba(X_train), multi_class=\"ovo\", average=\"macro\"))\n",
    "    print(\"======\")\n",
    "\n",
    "# Setup cross-validation\n",
    "def cross_validate(model, X_train=X_prep, y_train=y_prep, scoring=\"roc_auc_ovo\", cv=5):\n",
    "    return cross_val_score(model, X_train, y_train.squeeze(), scoring=scoring, cv=cv, n_jobs=-1).mean()\n",
    "\n",
    "# Setup hyperparameter tuning\n",
    "def bayes_search(\n",
    "    model,\n",
    "    search_spaces,\n",
    "    X=X_prep,\n",
    "    y=y_prep,\n",
    "    n_iter=50,\n",
    "    cv=5,\n",
    "    scoring=\"roc_auc_ovo\",\n",
    "    random_state=42,\n",
    "    verbose=0\n",
    "):\n",
    "    search = BayesSearchCV(model, search_spaces, \n",
    "                           n_iter=n_iter, cv=cv, scoring=scoring, \n",
    "                           random_state=random_state, n_jobs=-1, verbose=verbose)\n",
    "    search.fit(X, y.squeeze())\n",
    "    print(\"======\")\n",
    "    print(\"Best score :\", search.best_score_)\n",
    "    print(\"Best params:\", search.best_params_)\n",
    "    print(\"======\")\n",
    "    return search"
   ]
  },
  {
   "cell_type": "markdown",
   "id": "7aeb54e8",
   "metadata": {},
   "source": [
    "### 2.1 - Train the Models"
   ]
  },
  {
   "cell_type": "markdown",
   "id": "018fff8e",
   "metadata": {},
   "source": [
    "#### Logistic Regression"
   ]
  },
  {
   "cell_type": "code",
   "execution_count": 21,
   "id": "d8684781",
   "metadata": {},
   "outputs": [
    {
     "data": {
      "text/html": [
       "<style>#sk-container-id-2 {color: black;background-color: white;}#sk-container-id-2 pre{padding: 0;}#sk-container-id-2 div.sk-toggleable {background-color: white;}#sk-container-id-2 label.sk-toggleable__label {cursor: pointer;display: block;width: 100%;margin-bottom: 0;padding: 0.3em;box-sizing: border-box;text-align: center;}#sk-container-id-2 label.sk-toggleable__label-arrow:before {content: \"▸\";float: left;margin-right: 0.25em;color: #696969;}#sk-container-id-2 label.sk-toggleable__label-arrow:hover:before {color: black;}#sk-container-id-2 div.sk-estimator:hover label.sk-toggleable__label-arrow:before {color: black;}#sk-container-id-2 div.sk-toggleable__content {max-height: 0;max-width: 0;overflow: hidden;text-align: left;background-color: #f0f8ff;}#sk-container-id-2 div.sk-toggleable__content pre {margin: 0.2em;color: black;border-radius: 0.25em;background-color: #f0f8ff;}#sk-container-id-2 input.sk-toggleable__control:checked~div.sk-toggleable__content {max-height: 200px;max-width: 100%;overflow: auto;}#sk-container-id-2 input.sk-toggleable__control:checked~label.sk-toggleable__label-arrow:before {content: \"▾\";}#sk-container-id-2 div.sk-estimator input.sk-toggleable__control:checked~label.sk-toggleable__label {background-color: #d4ebff;}#sk-container-id-2 div.sk-label input.sk-toggleable__control:checked~label.sk-toggleable__label {background-color: #d4ebff;}#sk-container-id-2 input.sk-hidden--visually {border: 0;clip: rect(1px 1px 1px 1px);clip: rect(1px, 1px, 1px, 1px);height: 1px;margin: -1px;overflow: hidden;padding: 0;position: absolute;width: 1px;}#sk-container-id-2 div.sk-estimator {font-family: monospace;background-color: #f0f8ff;border: 1px dotted black;border-radius: 0.25em;box-sizing: border-box;margin-bottom: 0.5em;}#sk-container-id-2 div.sk-estimator:hover {background-color: #d4ebff;}#sk-container-id-2 div.sk-parallel-item::after {content: \"\";width: 100%;border-bottom: 1px solid gray;flex-grow: 1;}#sk-container-id-2 div.sk-label:hover label.sk-toggleable__label {background-color: #d4ebff;}#sk-container-id-2 div.sk-serial::before {content: \"\";position: absolute;border-left: 1px solid gray;box-sizing: border-box;top: 0;bottom: 0;left: 50%;z-index: 0;}#sk-container-id-2 div.sk-serial {display: flex;flex-direction: column;align-items: center;background-color: white;padding-right: 0.2em;padding-left: 0.2em;position: relative;}#sk-container-id-2 div.sk-item {position: relative;z-index: 1;}#sk-container-id-2 div.sk-parallel {display: flex;align-items: stretch;justify-content: center;background-color: white;position: relative;}#sk-container-id-2 div.sk-item::before, #sk-container-id-2 div.sk-parallel-item::before {content: \"\";position: absolute;border-left: 1px solid gray;box-sizing: border-box;top: 0;bottom: 0;left: 50%;z-index: -1;}#sk-container-id-2 div.sk-parallel-item {display: flex;flex-direction: column;z-index: 1;position: relative;background-color: white;}#sk-container-id-2 div.sk-parallel-item:first-child::after {align-self: flex-end;width: 50%;}#sk-container-id-2 div.sk-parallel-item:last-child::after {align-self: flex-start;width: 50%;}#sk-container-id-2 div.sk-parallel-item:only-child::after {width: 0;}#sk-container-id-2 div.sk-dashed-wrapped {border: 1px dashed gray;margin: 0 0.4em 0.5em 0.4em;box-sizing: border-box;padding-bottom: 0.4em;background-color: white;}#sk-container-id-2 div.sk-label label {font-family: monospace;font-weight: bold;display: inline-block;line-height: 1.2em;}#sk-container-id-2 div.sk-label-container {text-align: center;}#sk-container-id-2 div.sk-container {/* jupyter's `normalize.less` sets `[hidden] { display: none; }` but bootstrap.min.css set `[hidden] { display: none !important; }` so we also need the `!important` here to be able to override the default hidden behavior on the sphinx rendered scikit-learn.org. See: https://github.com/scikit-learn/scikit-learn/issues/21755 */display: inline-block !important;position: relative;}#sk-container-id-2 div.sk-text-repr-fallback {display: none;}</style><div id=\"sk-container-id-2\" class=\"sk-top-container\"><div class=\"sk-text-repr-fallback\"><pre>LogisticRegression(multi_class=&#x27;multinomial&#x27;)</pre><b>In a Jupyter environment, please rerun this cell to show the HTML representation or trust the notebook. <br />On GitHub, the HTML representation is unable to render, please try loading this page with nbviewer.org.</b></div><div class=\"sk-container\" hidden><div class=\"sk-item\"><div class=\"sk-estimator sk-toggleable\"><input class=\"sk-toggleable__control sk-hidden--visually\" id=\"sk-estimator-id-2\" type=\"checkbox\" checked><label for=\"sk-estimator-id-2\" class=\"sk-toggleable__label sk-toggleable__label-arrow\">LogisticRegression</label><div class=\"sk-toggleable__content\"><pre>LogisticRegression(multi_class=&#x27;multinomial&#x27;)</pre></div></div></div></div></div>"
      ],
      "text/plain": [
       "LogisticRegression(multi_class='multinomial')"
      ]
     },
     "execution_count": 21,
     "metadata": {},
     "output_type": "execute_result"
    }
   ],
   "source": [
    "# Train logistic regression\n",
    "log_reg = LogisticRegression(multi_class=\"multinomial\")\n",
    "log_reg.fit(X_prep, y_prep)"
   ]
  },
  {
   "cell_type": "code",
   "execution_count": 27,
   "id": "475882c1",
   "metadata": {},
   "outputs": [
    {
     "name": "stdout",
     "output_type": "stream",
     "text": [
      "======\n",
      "Accuracy: 1.0\n",
      "ROC AUC : 1.0\n",
      "======\n"
     ]
    }
   ],
   "source": [
    "# Evaluate training\n",
    "report(log_reg)"
   ]
  },
  {
   "cell_type": "code",
   "execution_count": 31,
   "id": "9e8f3d46",
   "metadata": {},
   "outputs": [
    {
     "data": {
      "text/plain": [
       "0.5729353167359815"
      ]
     },
     "execution_count": 31,
     "metadata": {},
     "output_type": "execute_result"
    }
   ],
   "source": [
    "# K-fold cross validation on the model\n",
    "cross_validate(log_reg)"
   ]
  },
  {
   "cell_type": "markdown",
   "id": "1a6aeba1",
   "metadata": {},
   "source": [
    "#### SVC"
   ]
  },
  {
   "cell_type": "code",
   "execution_count": 35,
   "id": "cc8683b2",
   "metadata": {},
   "outputs": [
    {
     "data": {
      "text/html": [
       "<style>#sk-container-id-4 {color: black;background-color: white;}#sk-container-id-4 pre{padding: 0;}#sk-container-id-4 div.sk-toggleable {background-color: white;}#sk-container-id-4 label.sk-toggleable__label {cursor: pointer;display: block;width: 100%;margin-bottom: 0;padding: 0.3em;box-sizing: border-box;text-align: center;}#sk-container-id-4 label.sk-toggleable__label-arrow:before {content: \"▸\";float: left;margin-right: 0.25em;color: #696969;}#sk-container-id-4 label.sk-toggleable__label-arrow:hover:before {color: black;}#sk-container-id-4 div.sk-estimator:hover label.sk-toggleable__label-arrow:before {color: black;}#sk-container-id-4 div.sk-toggleable__content {max-height: 0;max-width: 0;overflow: hidden;text-align: left;background-color: #f0f8ff;}#sk-container-id-4 div.sk-toggleable__content pre {margin: 0.2em;color: black;border-radius: 0.25em;background-color: #f0f8ff;}#sk-container-id-4 input.sk-toggleable__control:checked~div.sk-toggleable__content {max-height: 200px;max-width: 100%;overflow: auto;}#sk-container-id-4 input.sk-toggleable__control:checked~label.sk-toggleable__label-arrow:before {content: \"▾\";}#sk-container-id-4 div.sk-estimator input.sk-toggleable__control:checked~label.sk-toggleable__label {background-color: #d4ebff;}#sk-container-id-4 div.sk-label input.sk-toggleable__control:checked~label.sk-toggleable__label {background-color: #d4ebff;}#sk-container-id-4 input.sk-hidden--visually {border: 0;clip: rect(1px 1px 1px 1px);clip: rect(1px, 1px, 1px, 1px);height: 1px;margin: -1px;overflow: hidden;padding: 0;position: absolute;width: 1px;}#sk-container-id-4 div.sk-estimator {font-family: monospace;background-color: #f0f8ff;border: 1px dotted black;border-radius: 0.25em;box-sizing: border-box;margin-bottom: 0.5em;}#sk-container-id-4 div.sk-estimator:hover {background-color: #d4ebff;}#sk-container-id-4 div.sk-parallel-item::after {content: \"\";width: 100%;border-bottom: 1px solid gray;flex-grow: 1;}#sk-container-id-4 div.sk-label:hover label.sk-toggleable__label {background-color: #d4ebff;}#sk-container-id-4 div.sk-serial::before {content: \"\";position: absolute;border-left: 1px solid gray;box-sizing: border-box;top: 0;bottom: 0;left: 50%;z-index: 0;}#sk-container-id-4 div.sk-serial {display: flex;flex-direction: column;align-items: center;background-color: white;padding-right: 0.2em;padding-left: 0.2em;position: relative;}#sk-container-id-4 div.sk-item {position: relative;z-index: 1;}#sk-container-id-4 div.sk-parallel {display: flex;align-items: stretch;justify-content: center;background-color: white;position: relative;}#sk-container-id-4 div.sk-item::before, #sk-container-id-4 div.sk-parallel-item::before {content: \"\";position: absolute;border-left: 1px solid gray;box-sizing: border-box;top: 0;bottom: 0;left: 50%;z-index: -1;}#sk-container-id-4 div.sk-parallel-item {display: flex;flex-direction: column;z-index: 1;position: relative;background-color: white;}#sk-container-id-4 div.sk-parallel-item:first-child::after {align-self: flex-end;width: 50%;}#sk-container-id-4 div.sk-parallel-item:last-child::after {align-self: flex-start;width: 50%;}#sk-container-id-4 div.sk-parallel-item:only-child::after {width: 0;}#sk-container-id-4 div.sk-dashed-wrapped {border: 1px dashed gray;margin: 0 0.4em 0.5em 0.4em;box-sizing: border-box;padding-bottom: 0.4em;background-color: white;}#sk-container-id-4 div.sk-label label {font-family: monospace;font-weight: bold;display: inline-block;line-height: 1.2em;}#sk-container-id-4 div.sk-label-container {text-align: center;}#sk-container-id-4 div.sk-container {/* jupyter's `normalize.less` sets `[hidden] { display: none; }` but bootstrap.min.css set `[hidden] { display: none !important; }` so we also need the `!important` here to be able to override the default hidden behavior on the sphinx rendered scikit-learn.org. See: https://github.com/scikit-learn/scikit-learn/issues/21755 */display: inline-block !important;position: relative;}#sk-container-id-4 div.sk-text-repr-fallback {display: none;}</style><div id=\"sk-container-id-4\" class=\"sk-top-container\"><div class=\"sk-text-repr-fallback\"><pre>SVC(probability=True, random_state=42)</pre><b>In a Jupyter environment, please rerun this cell to show the HTML representation or trust the notebook. <br />On GitHub, the HTML representation is unable to render, please try loading this page with nbviewer.org.</b></div><div class=\"sk-container\" hidden><div class=\"sk-item\"><div class=\"sk-estimator sk-toggleable\"><input class=\"sk-toggleable__control sk-hidden--visually\" id=\"sk-estimator-id-4\" type=\"checkbox\" checked><label for=\"sk-estimator-id-4\" class=\"sk-toggleable__label sk-toggleable__label-arrow\">SVC</label><div class=\"sk-toggleable__content\"><pre>SVC(probability=True, random_state=42)</pre></div></div></div></div></div>"
      ],
      "text/plain": [
       "SVC(probability=True, random_state=42)"
      ]
     },
     "execution_count": 35,
     "metadata": {},
     "output_type": "execute_result"
    }
   ],
   "source": [
    "# Train svc\n",
    "svc = SVC(probability=True, random_state=42)\n",
    "svc.fit(X_prep, y_prep)"
   ]
  },
  {
   "cell_type": "code",
   "execution_count": 36,
   "id": "6ca6b99b",
   "metadata": {},
   "outputs": [
    {
     "name": "stdout",
     "output_type": "stream",
     "text": [
      "======\n",
      "Accuracy: 0.8825581395348837\n",
      "ROC AUC : 0.9891274574960862\n",
      "======\n"
     ]
    }
   ],
   "source": [
    "# Evaluate training\n",
    "report(svc)"
   ]
  },
  {
   "cell_type": "code",
   "execution_count": 37,
   "id": "b11b4f4f",
   "metadata": {},
   "outputs": [
    {
     "data": {
      "text/plain": [
       "0.6402337704147287"
      ]
     },
     "execution_count": 37,
     "metadata": {},
     "output_type": "execute_result"
    }
   ],
   "source": [
    "# K-fold cross validation on the model\n",
    "cross_validate(svc)"
   ]
  },
  {
   "cell_type": "markdown",
   "id": "569d070a",
   "metadata": {},
   "source": [
    "#### Decision Tree"
   ]
  },
  {
   "cell_type": "code",
   "execution_count": 38,
   "id": "d32b28d8",
   "metadata": {},
   "outputs": [
    {
     "data": {
      "text/html": [
       "<style>#sk-container-id-5 {color: black;background-color: white;}#sk-container-id-5 pre{padding: 0;}#sk-container-id-5 div.sk-toggleable {background-color: white;}#sk-container-id-5 label.sk-toggleable__label {cursor: pointer;display: block;width: 100%;margin-bottom: 0;padding: 0.3em;box-sizing: border-box;text-align: center;}#sk-container-id-5 label.sk-toggleable__label-arrow:before {content: \"▸\";float: left;margin-right: 0.25em;color: #696969;}#sk-container-id-5 label.sk-toggleable__label-arrow:hover:before {color: black;}#sk-container-id-5 div.sk-estimator:hover label.sk-toggleable__label-arrow:before {color: black;}#sk-container-id-5 div.sk-toggleable__content {max-height: 0;max-width: 0;overflow: hidden;text-align: left;background-color: #f0f8ff;}#sk-container-id-5 div.sk-toggleable__content pre {margin: 0.2em;color: black;border-radius: 0.25em;background-color: #f0f8ff;}#sk-container-id-5 input.sk-toggleable__control:checked~div.sk-toggleable__content {max-height: 200px;max-width: 100%;overflow: auto;}#sk-container-id-5 input.sk-toggleable__control:checked~label.sk-toggleable__label-arrow:before {content: \"▾\";}#sk-container-id-5 div.sk-estimator input.sk-toggleable__control:checked~label.sk-toggleable__label {background-color: #d4ebff;}#sk-container-id-5 div.sk-label input.sk-toggleable__control:checked~label.sk-toggleable__label {background-color: #d4ebff;}#sk-container-id-5 input.sk-hidden--visually {border: 0;clip: rect(1px 1px 1px 1px);clip: rect(1px, 1px, 1px, 1px);height: 1px;margin: -1px;overflow: hidden;padding: 0;position: absolute;width: 1px;}#sk-container-id-5 div.sk-estimator {font-family: monospace;background-color: #f0f8ff;border: 1px dotted black;border-radius: 0.25em;box-sizing: border-box;margin-bottom: 0.5em;}#sk-container-id-5 div.sk-estimator:hover {background-color: #d4ebff;}#sk-container-id-5 div.sk-parallel-item::after {content: \"\";width: 100%;border-bottom: 1px solid gray;flex-grow: 1;}#sk-container-id-5 div.sk-label:hover label.sk-toggleable__label {background-color: #d4ebff;}#sk-container-id-5 div.sk-serial::before {content: \"\";position: absolute;border-left: 1px solid gray;box-sizing: border-box;top: 0;bottom: 0;left: 50%;z-index: 0;}#sk-container-id-5 div.sk-serial {display: flex;flex-direction: column;align-items: center;background-color: white;padding-right: 0.2em;padding-left: 0.2em;position: relative;}#sk-container-id-5 div.sk-item {position: relative;z-index: 1;}#sk-container-id-5 div.sk-parallel {display: flex;align-items: stretch;justify-content: center;background-color: white;position: relative;}#sk-container-id-5 div.sk-item::before, #sk-container-id-5 div.sk-parallel-item::before {content: \"\";position: absolute;border-left: 1px solid gray;box-sizing: border-box;top: 0;bottom: 0;left: 50%;z-index: -1;}#sk-container-id-5 div.sk-parallel-item {display: flex;flex-direction: column;z-index: 1;position: relative;background-color: white;}#sk-container-id-5 div.sk-parallel-item:first-child::after {align-self: flex-end;width: 50%;}#sk-container-id-5 div.sk-parallel-item:last-child::after {align-self: flex-start;width: 50%;}#sk-container-id-5 div.sk-parallel-item:only-child::after {width: 0;}#sk-container-id-5 div.sk-dashed-wrapped {border: 1px dashed gray;margin: 0 0.4em 0.5em 0.4em;box-sizing: border-box;padding-bottom: 0.4em;background-color: white;}#sk-container-id-5 div.sk-label label {font-family: monospace;font-weight: bold;display: inline-block;line-height: 1.2em;}#sk-container-id-5 div.sk-label-container {text-align: center;}#sk-container-id-5 div.sk-container {/* jupyter's `normalize.less` sets `[hidden] { display: none; }` but bootstrap.min.css set `[hidden] { display: none !important; }` so we also need the `!important` here to be able to override the default hidden behavior on the sphinx rendered scikit-learn.org. See: https://github.com/scikit-learn/scikit-learn/issues/21755 */display: inline-block !important;position: relative;}#sk-container-id-5 div.sk-text-repr-fallback {display: none;}</style><div id=\"sk-container-id-5\" class=\"sk-top-container\"><div class=\"sk-text-repr-fallback\"><pre>DecisionTreeClassifier(max_depth=10, random_state=42)</pre><b>In a Jupyter environment, please rerun this cell to show the HTML representation or trust the notebook. <br />On GitHub, the HTML representation is unable to render, please try loading this page with nbviewer.org.</b></div><div class=\"sk-container\" hidden><div class=\"sk-item\"><div class=\"sk-estimator sk-toggleable\"><input class=\"sk-toggleable__control sk-hidden--visually\" id=\"sk-estimator-id-5\" type=\"checkbox\" checked><label for=\"sk-estimator-id-5\" class=\"sk-toggleable__label sk-toggleable__label-arrow\">DecisionTreeClassifier</label><div class=\"sk-toggleable__content\"><pre>DecisionTreeClassifier(max_depth=10, random_state=42)</pre></div></div></div></div></div>"
      ],
      "text/plain": [
       "DecisionTreeClassifier(max_depth=10, random_state=42)"
      ]
     },
     "execution_count": 38,
     "metadata": {},
     "output_type": "execute_result"
    }
   ],
   "source": [
    "# Train decision tree\n",
    "tree_clf = DecisionTreeClassifier(max_depth=10, random_state=42)\n",
    "tree_clf.fit(X_prep, y_prep)"
   ]
  },
  {
   "cell_type": "code",
   "execution_count": 39,
   "id": "e9ac4215",
   "metadata": {},
   "outputs": [
    {
     "name": "stdout",
     "output_type": "stream",
     "text": [
      "======\n",
      "Accuracy: 0.9244186046511628\n",
      "ROC AUC : 0.9808540410727377\n",
      "======\n"
     ]
    }
   ],
   "source": [
    "# Evaluate training\n",
    "report(tree_clf)"
   ]
  },
  {
   "cell_type": "code",
   "execution_count": 40,
   "id": "c0d6c4c5",
   "metadata": {},
   "outputs": [
    {
     "data": {
      "text/plain": [
       "0.5572019589238886"
      ]
     },
     "execution_count": 40,
     "metadata": {},
     "output_type": "execute_result"
    }
   ],
   "source": [
    "# K-fold cross validation on the model\n",
    "cross_validate(tree_clf)"
   ]
  },
  {
   "cell_type": "code",
   "execution_count": 41,
   "id": "3f783930",
   "metadata": {},
   "outputs": [
    {
     "data": {
      "text/plain": [
       "array([0.00925434, 0.00418649, 0.00293789, 0.03876008, 0.01403982,\n",
       "       0.02051275, 0.01127566, 0.01307069, 0.00899983, 0.00758954,\n",
       "       0.01221059, 0.00587577, 0.00433688, 0.01186234, 0.00220342,\n",
       "       0.0079323 , 0.00426912, 0.00763327, 0.0135074 , 0.00220342,\n",
       "       0.00837298, 0.00220342, 0.00963734, 0.00352546, 0.00220342,\n",
       "       0.00801242, 0.00352546, 0.01109928, 0.00724106, 0.01226957,\n",
       "       0.00896826, 0.0051413 , 0.00899828, 0.0145266 , 0.00330512,\n",
       "       0.00762726, 0.01008675, 0.00803855, 0.01214806, 0.00741149,\n",
       "       0.01285132, 0.01035929, 0.00587577, 0.00293789, 0.00855326,\n",
       "       0.01041901, 0.01694298, 0.00352546, 0.00792406, 0.00584067,\n",
       "       0.01459291, 0.00293789, 0.01008063, 0.01249826, 0.00781211,\n",
       "       0.00428442, 0.00330512, 0.00377728, 0.00396615, 0.0040396 ,\n",
       "       0.01982649, 0.0051413 , 0.00685507, 0.00396615, 0.01246766,\n",
       "       0.06220863, 0.00293789, 0.00979296, 0.00837236, 0.00769406,\n",
       "       0.00846803, 0.00396615, 0.02147712, 0.00396615, 0.00705093,\n",
       "       0.01189648, 0.01050483, 0.00220342, 0.00396615, 0.00818421,\n",
       "       0.00859332, 0.00440683, 0.00842194, 0.0103948 , 0.01138996,\n",
       "       0.00400621, 0.00791401, 0.00867807, 0.00620561, 0.01196478,\n",
       "       0.01079674, 0.00881366, 0.00826281, 0.00748667, 0.01352546,\n",
       "       0.01579584, 0.02256963, 0.00396615, 0.00929472, 0.00661025,\n",
       "       0.00807919, 0.01016961, 0.01057184, 0.00367236, 0.00881366,\n",
       "       0.00789235, 0.00352546, 0.0157152 , 0.0119891 ])"
      ]
     },
     "execution_count": 41,
     "metadata": {},
     "output_type": "execute_result"
    }
   ],
   "source": [
    "# Measure importance of features\n",
    "tree_clf.feature_importances_[np.where(tree_clf.feature_importances_ > 0.0)[0]] # 109 features"
   ]
  },
  {
   "cell_type": "code",
   "execution_count": 44,
   "id": "ae1462e2",
   "metadata": {},
   "outputs": [
    {
     "name": "stdout",
     "output_type": "stream",
     "text": [
      "======\n",
      "Accuracy: 0.41511627906976745\n",
      "ROC AUC : 0.8957467746921649\n",
      "======\n"
     ]
    }
   ],
   "source": [
    "# Tran a linear SVC with tree-important features\n",
    "X_prep_signify = X_prep[:, np.where(tree_clf.feature_importances_ > 0.0)[0]]\n",
    "svc_tree = SVC(probability=True, C=0.001, random_state=42)\n",
    "svc_tree.fit(X_prep_signify, y_prep)\n",
    "report(svc_tree, X_train=X_prep_signify)"
   ]
  },
  {
   "cell_type": "code",
   "execution_count": 45,
   "id": "9151f529",
   "metadata": {},
   "outputs": [
    {
     "data": {
      "text/plain": [
       "0.6502591707257948"
      ]
     },
     "execution_count": 45,
     "metadata": {},
     "output_type": "execute_result"
    }
   ],
   "source": [
    "# Evaluate the model trained on tree-important features\n",
    "cross_validate(svc_tree, X_train=X_prep_signify)"
   ]
  },
  {
   "cell_type": "markdown",
   "id": "be17079c",
   "metadata": {},
   "source": [
    "#### Random Forest"
   ]
  },
  {
   "cell_type": "code",
   "execution_count": 46,
   "id": "d64f039b",
   "metadata": {},
   "outputs": [
    {
     "data": {
      "text/html": [
       "<style>#sk-container-id-6 {color: black;background-color: white;}#sk-container-id-6 pre{padding: 0;}#sk-container-id-6 div.sk-toggleable {background-color: white;}#sk-container-id-6 label.sk-toggleable__label {cursor: pointer;display: block;width: 100%;margin-bottom: 0;padding: 0.3em;box-sizing: border-box;text-align: center;}#sk-container-id-6 label.sk-toggleable__label-arrow:before {content: \"▸\";float: left;margin-right: 0.25em;color: #696969;}#sk-container-id-6 label.sk-toggleable__label-arrow:hover:before {color: black;}#sk-container-id-6 div.sk-estimator:hover label.sk-toggleable__label-arrow:before {color: black;}#sk-container-id-6 div.sk-toggleable__content {max-height: 0;max-width: 0;overflow: hidden;text-align: left;background-color: #f0f8ff;}#sk-container-id-6 div.sk-toggleable__content pre {margin: 0.2em;color: black;border-radius: 0.25em;background-color: #f0f8ff;}#sk-container-id-6 input.sk-toggleable__control:checked~div.sk-toggleable__content {max-height: 200px;max-width: 100%;overflow: auto;}#sk-container-id-6 input.sk-toggleable__control:checked~label.sk-toggleable__label-arrow:before {content: \"▾\";}#sk-container-id-6 div.sk-estimator input.sk-toggleable__control:checked~label.sk-toggleable__label {background-color: #d4ebff;}#sk-container-id-6 div.sk-label input.sk-toggleable__control:checked~label.sk-toggleable__label {background-color: #d4ebff;}#sk-container-id-6 input.sk-hidden--visually {border: 0;clip: rect(1px 1px 1px 1px);clip: rect(1px, 1px, 1px, 1px);height: 1px;margin: -1px;overflow: hidden;padding: 0;position: absolute;width: 1px;}#sk-container-id-6 div.sk-estimator {font-family: monospace;background-color: #f0f8ff;border: 1px dotted black;border-radius: 0.25em;box-sizing: border-box;margin-bottom: 0.5em;}#sk-container-id-6 div.sk-estimator:hover {background-color: #d4ebff;}#sk-container-id-6 div.sk-parallel-item::after {content: \"\";width: 100%;border-bottom: 1px solid gray;flex-grow: 1;}#sk-container-id-6 div.sk-label:hover label.sk-toggleable__label {background-color: #d4ebff;}#sk-container-id-6 div.sk-serial::before {content: \"\";position: absolute;border-left: 1px solid gray;box-sizing: border-box;top: 0;bottom: 0;left: 50%;z-index: 0;}#sk-container-id-6 div.sk-serial {display: flex;flex-direction: column;align-items: center;background-color: white;padding-right: 0.2em;padding-left: 0.2em;position: relative;}#sk-container-id-6 div.sk-item {position: relative;z-index: 1;}#sk-container-id-6 div.sk-parallel {display: flex;align-items: stretch;justify-content: center;background-color: white;position: relative;}#sk-container-id-6 div.sk-item::before, #sk-container-id-6 div.sk-parallel-item::before {content: \"\";position: absolute;border-left: 1px solid gray;box-sizing: border-box;top: 0;bottom: 0;left: 50%;z-index: -1;}#sk-container-id-6 div.sk-parallel-item {display: flex;flex-direction: column;z-index: 1;position: relative;background-color: white;}#sk-container-id-6 div.sk-parallel-item:first-child::after {align-self: flex-end;width: 50%;}#sk-container-id-6 div.sk-parallel-item:last-child::after {align-self: flex-start;width: 50%;}#sk-container-id-6 div.sk-parallel-item:only-child::after {width: 0;}#sk-container-id-6 div.sk-dashed-wrapped {border: 1px dashed gray;margin: 0 0.4em 0.5em 0.4em;box-sizing: border-box;padding-bottom: 0.4em;background-color: white;}#sk-container-id-6 div.sk-label label {font-family: monospace;font-weight: bold;display: inline-block;line-height: 1.2em;}#sk-container-id-6 div.sk-label-container {text-align: center;}#sk-container-id-6 div.sk-container {/* jupyter's `normalize.less` sets `[hidden] { display: none; }` but bootstrap.min.css set `[hidden] { display: none !important; }` so we also need the `!important` here to be able to override the default hidden behavior on the sphinx rendered scikit-learn.org. See: https://github.com/scikit-learn/scikit-learn/issues/21755 */display: inline-block !important;position: relative;}#sk-container-id-6 div.sk-text-repr-fallback {display: none;}</style><div id=\"sk-container-id-6\" class=\"sk-top-container\"><div class=\"sk-text-repr-fallback\"><pre>RandomForestClassifier(random_state=42)</pre><b>In a Jupyter environment, please rerun this cell to show the HTML representation or trust the notebook. <br />On GitHub, the HTML representation is unable to render, please try loading this page with nbviewer.org.</b></div><div class=\"sk-container\" hidden><div class=\"sk-item\"><div class=\"sk-estimator sk-toggleable\"><input class=\"sk-toggleable__control sk-hidden--visually\" id=\"sk-estimator-id-6\" type=\"checkbox\" checked><label for=\"sk-estimator-id-6\" class=\"sk-toggleable__label sk-toggleable__label-arrow\">RandomForestClassifier</label><div class=\"sk-toggleable__content\"><pre>RandomForestClassifier(random_state=42)</pre></div></div></div></div></div>"
      ],
      "text/plain": [
       "RandomForestClassifier(random_state=42)"
      ]
     },
     "execution_count": 46,
     "metadata": {},
     "output_type": "execute_result"
    }
   ],
   "source": [
    "# Train random forest\n",
    "rand_forest = RandomForestClassifier(random_state=42)\n",
    "rand_forest.fit(X_prep, y_prep)"
   ]
  },
  {
   "cell_type": "code",
   "execution_count": 47,
   "id": "80d230f0",
   "metadata": {},
   "outputs": [
    {
     "name": "stdout",
     "output_type": "stream",
     "text": [
      "======\n",
      "Accuracy: 1.0\n",
      "ROC AUC : 1.0\n",
      "======\n"
     ]
    }
   ],
   "source": [
    "# Evaluate training\n",
    "report(rand_forest)"
   ]
  },
  {
   "cell_type": "code",
   "execution_count": 48,
   "id": "bc95f1cc",
   "metadata": {},
   "outputs": [
    {
     "data": {
      "text/plain": [
       "0.6348500683089926"
      ]
     },
     "execution_count": 48,
     "metadata": {},
     "output_type": "execute_result"
    }
   ],
   "source": [
    "# Measure importance of features\n",
    "cross_validate(rand_forest)"
   ]
  },
  {
   "cell_type": "markdown",
   "id": "e7cbf5a2",
   "metadata": {},
   "source": [
    "#### AdaBoost"
   ]
  },
  {
   "cell_type": "code",
   "execution_count": 49,
   "id": "f138bc62",
   "metadata": {},
   "outputs": [
    {
     "data": {
      "text/html": [
       "<style>#sk-container-id-7 {color: black;background-color: white;}#sk-container-id-7 pre{padding: 0;}#sk-container-id-7 div.sk-toggleable {background-color: white;}#sk-container-id-7 label.sk-toggleable__label {cursor: pointer;display: block;width: 100%;margin-bottom: 0;padding: 0.3em;box-sizing: border-box;text-align: center;}#sk-container-id-7 label.sk-toggleable__label-arrow:before {content: \"▸\";float: left;margin-right: 0.25em;color: #696969;}#sk-container-id-7 label.sk-toggleable__label-arrow:hover:before {color: black;}#sk-container-id-7 div.sk-estimator:hover label.sk-toggleable__label-arrow:before {color: black;}#sk-container-id-7 div.sk-toggleable__content {max-height: 0;max-width: 0;overflow: hidden;text-align: left;background-color: #f0f8ff;}#sk-container-id-7 div.sk-toggleable__content pre {margin: 0.2em;color: black;border-radius: 0.25em;background-color: #f0f8ff;}#sk-container-id-7 input.sk-toggleable__control:checked~div.sk-toggleable__content {max-height: 200px;max-width: 100%;overflow: auto;}#sk-container-id-7 input.sk-toggleable__control:checked~label.sk-toggleable__label-arrow:before {content: \"▾\";}#sk-container-id-7 div.sk-estimator input.sk-toggleable__control:checked~label.sk-toggleable__label {background-color: #d4ebff;}#sk-container-id-7 div.sk-label input.sk-toggleable__control:checked~label.sk-toggleable__label {background-color: #d4ebff;}#sk-container-id-7 input.sk-hidden--visually {border: 0;clip: rect(1px 1px 1px 1px);clip: rect(1px, 1px, 1px, 1px);height: 1px;margin: -1px;overflow: hidden;padding: 0;position: absolute;width: 1px;}#sk-container-id-7 div.sk-estimator {font-family: monospace;background-color: #f0f8ff;border: 1px dotted black;border-radius: 0.25em;box-sizing: border-box;margin-bottom: 0.5em;}#sk-container-id-7 div.sk-estimator:hover {background-color: #d4ebff;}#sk-container-id-7 div.sk-parallel-item::after {content: \"\";width: 100%;border-bottom: 1px solid gray;flex-grow: 1;}#sk-container-id-7 div.sk-label:hover label.sk-toggleable__label {background-color: #d4ebff;}#sk-container-id-7 div.sk-serial::before {content: \"\";position: absolute;border-left: 1px solid gray;box-sizing: border-box;top: 0;bottom: 0;left: 50%;z-index: 0;}#sk-container-id-7 div.sk-serial {display: flex;flex-direction: column;align-items: center;background-color: white;padding-right: 0.2em;padding-left: 0.2em;position: relative;}#sk-container-id-7 div.sk-item {position: relative;z-index: 1;}#sk-container-id-7 div.sk-parallel {display: flex;align-items: stretch;justify-content: center;background-color: white;position: relative;}#sk-container-id-7 div.sk-item::before, #sk-container-id-7 div.sk-parallel-item::before {content: \"\";position: absolute;border-left: 1px solid gray;box-sizing: border-box;top: 0;bottom: 0;left: 50%;z-index: -1;}#sk-container-id-7 div.sk-parallel-item {display: flex;flex-direction: column;z-index: 1;position: relative;background-color: white;}#sk-container-id-7 div.sk-parallel-item:first-child::after {align-self: flex-end;width: 50%;}#sk-container-id-7 div.sk-parallel-item:last-child::after {align-self: flex-start;width: 50%;}#sk-container-id-7 div.sk-parallel-item:only-child::after {width: 0;}#sk-container-id-7 div.sk-dashed-wrapped {border: 1px dashed gray;margin: 0 0.4em 0.5em 0.4em;box-sizing: border-box;padding-bottom: 0.4em;background-color: white;}#sk-container-id-7 div.sk-label label {font-family: monospace;font-weight: bold;display: inline-block;line-height: 1.2em;}#sk-container-id-7 div.sk-label-container {text-align: center;}#sk-container-id-7 div.sk-container {/* jupyter's `normalize.less` sets `[hidden] { display: none; }` but bootstrap.min.css set `[hidden] { display: none !important; }` so we also need the `!important` here to be able to override the default hidden behavior on the sphinx rendered scikit-learn.org. See: https://github.com/scikit-learn/scikit-learn/issues/21755 */display: inline-block !important;position: relative;}#sk-container-id-7 div.sk-text-repr-fallback {display: none;}</style><div id=\"sk-container-id-7\" class=\"sk-top-container\"><div class=\"sk-text-repr-fallback\"><pre>AdaBoostClassifier(learning_rate=0.7, n_estimators=100)</pre><b>In a Jupyter environment, please rerun this cell to show the HTML representation or trust the notebook. <br />On GitHub, the HTML representation is unable to render, please try loading this page with nbviewer.org.</b></div><div class=\"sk-container\" hidden><div class=\"sk-item\"><div class=\"sk-estimator sk-toggleable\"><input class=\"sk-toggleable__control sk-hidden--visually\" id=\"sk-estimator-id-7\" type=\"checkbox\" checked><label for=\"sk-estimator-id-7\" class=\"sk-toggleable__label sk-toggleable__label-arrow\">AdaBoostClassifier</label><div class=\"sk-toggleable__content\"><pre>AdaBoostClassifier(learning_rate=0.7, n_estimators=100)</pre></div></div></div></div></div>"
      ],
      "text/plain": [
       "AdaBoostClassifier(learning_rate=0.7, n_estimators=100)"
      ]
     },
     "execution_count": 49,
     "metadata": {},
     "output_type": "execute_result"
    }
   ],
   "source": [
    "# Train ada boosting\n",
    "ada_clf = AdaBoostClassifier(learning_rate=0.7, n_estimators=100)\n",
    "ada_clf.fit(X_prep, y_prep)"
   ]
  },
  {
   "cell_type": "code",
   "execution_count": 50,
   "id": "26a09e4f",
   "metadata": {},
   "outputs": [
    {
     "name": "stdout",
     "output_type": "stream",
     "text": [
      "======\n",
      "Accuracy: 0.7523255813953489\n",
      "ROC AUC : 0.873429753045773\n",
      "======\n"
     ]
    }
   ],
   "source": [
    "# Evaluate training\n",
    "report(ada_clf)"
   ]
  },
  {
   "cell_type": "code",
   "execution_count": 51,
   "id": "24fc281c",
   "metadata": {},
   "outputs": [
    {
     "data": {
      "text/plain": [
       "0.5916090005100083"
      ]
     },
     "execution_count": 51,
     "metadata": {},
     "output_type": "execute_result"
    }
   ],
   "source": [
    "# K-fold cross validation on the model\n",
    "cross_validate(ada_clf)"
   ]
  },
  {
   "cell_type": "markdown",
   "id": "345d35b1",
   "metadata": {},
   "source": [
    "#### Gradient Boosting"
   ]
  },
  {
   "cell_type": "code",
   "execution_count": 52,
   "id": "d0860574",
   "metadata": {},
   "outputs": [
    {
     "data": {
      "text/html": [
       "<style>#sk-container-id-8 {color: black;background-color: white;}#sk-container-id-8 pre{padding: 0;}#sk-container-id-8 div.sk-toggleable {background-color: white;}#sk-container-id-8 label.sk-toggleable__label {cursor: pointer;display: block;width: 100%;margin-bottom: 0;padding: 0.3em;box-sizing: border-box;text-align: center;}#sk-container-id-8 label.sk-toggleable__label-arrow:before {content: \"▸\";float: left;margin-right: 0.25em;color: #696969;}#sk-container-id-8 label.sk-toggleable__label-arrow:hover:before {color: black;}#sk-container-id-8 div.sk-estimator:hover label.sk-toggleable__label-arrow:before {color: black;}#sk-container-id-8 div.sk-toggleable__content {max-height: 0;max-width: 0;overflow: hidden;text-align: left;background-color: #f0f8ff;}#sk-container-id-8 div.sk-toggleable__content pre {margin: 0.2em;color: black;border-radius: 0.25em;background-color: #f0f8ff;}#sk-container-id-8 input.sk-toggleable__control:checked~div.sk-toggleable__content {max-height: 200px;max-width: 100%;overflow: auto;}#sk-container-id-8 input.sk-toggleable__control:checked~label.sk-toggleable__label-arrow:before {content: \"▾\";}#sk-container-id-8 div.sk-estimator input.sk-toggleable__control:checked~label.sk-toggleable__label {background-color: #d4ebff;}#sk-container-id-8 div.sk-label input.sk-toggleable__control:checked~label.sk-toggleable__label {background-color: #d4ebff;}#sk-container-id-8 input.sk-hidden--visually {border: 0;clip: rect(1px 1px 1px 1px);clip: rect(1px, 1px, 1px, 1px);height: 1px;margin: -1px;overflow: hidden;padding: 0;position: absolute;width: 1px;}#sk-container-id-8 div.sk-estimator {font-family: monospace;background-color: #f0f8ff;border: 1px dotted black;border-radius: 0.25em;box-sizing: border-box;margin-bottom: 0.5em;}#sk-container-id-8 div.sk-estimator:hover {background-color: #d4ebff;}#sk-container-id-8 div.sk-parallel-item::after {content: \"\";width: 100%;border-bottom: 1px solid gray;flex-grow: 1;}#sk-container-id-8 div.sk-label:hover label.sk-toggleable__label {background-color: #d4ebff;}#sk-container-id-8 div.sk-serial::before {content: \"\";position: absolute;border-left: 1px solid gray;box-sizing: border-box;top: 0;bottom: 0;left: 50%;z-index: 0;}#sk-container-id-8 div.sk-serial {display: flex;flex-direction: column;align-items: center;background-color: white;padding-right: 0.2em;padding-left: 0.2em;position: relative;}#sk-container-id-8 div.sk-item {position: relative;z-index: 1;}#sk-container-id-8 div.sk-parallel {display: flex;align-items: stretch;justify-content: center;background-color: white;position: relative;}#sk-container-id-8 div.sk-item::before, #sk-container-id-8 div.sk-parallel-item::before {content: \"\";position: absolute;border-left: 1px solid gray;box-sizing: border-box;top: 0;bottom: 0;left: 50%;z-index: -1;}#sk-container-id-8 div.sk-parallel-item {display: flex;flex-direction: column;z-index: 1;position: relative;background-color: white;}#sk-container-id-8 div.sk-parallel-item:first-child::after {align-self: flex-end;width: 50%;}#sk-container-id-8 div.sk-parallel-item:last-child::after {align-self: flex-start;width: 50%;}#sk-container-id-8 div.sk-parallel-item:only-child::after {width: 0;}#sk-container-id-8 div.sk-dashed-wrapped {border: 1px dashed gray;margin: 0 0.4em 0.5em 0.4em;box-sizing: border-box;padding-bottom: 0.4em;background-color: white;}#sk-container-id-8 div.sk-label label {font-family: monospace;font-weight: bold;display: inline-block;line-height: 1.2em;}#sk-container-id-8 div.sk-label-container {text-align: center;}#sk-container-id-8 div.sk-container {/* jupyter's `normalize.less` sets `[hidden] { display: none; }` but bootstrap.min.css set `[hidden] { display: none !important; }` so we also need the `!important` here to be able to override the default hidden behavior on the sphinx rendered scikit-learn.org. See: https://github.com/scikit-learn/scikit-learn/issues/21755 */display: inline-block !important;position: relative;}#sk-container-id-8 div.sk-text-repr-fallback {display: none;}</style><div id=\"sk-container-id-8\" class=\"sk-top-container\"><div class=\"sk-text-repr-fallback\"><pre>GradientBoostingClassifier(learning_rate=0.7, random_state=42)</pre><b>In a Jupyter environment, please rerun this cell to show the HTML representation or trust the notebook. <br />On GitHub, the HTML representation is unable to render, please try loading this page with nbviewer.org.</b></div><div class=\"sk-container\" hidden><div class=\"sk-item\"><div class=\"sk-estimator sk-toggleable\"><input class=\"sk-toggleable__control sk-hidden--visually\" id=\"sk-estimator-id-8\" type=\"checkbox\" checked><label for=\"sk-estimator-id-8\" class=\"sk-toggleable__label sk-toggleable__label-arrow\">GradientBoostingClassifier</label><div class=\"sk-toggleable__content\"><pre>GradientBoostingClassifier(learning_rate=0.7, random_state=42)</pre></div></div></div></div></div>"
      ],
      "text/plain": [
       "GradientBoostingClassifier(learning_rate=0.7, random_state=42)"
      ]
     },
     "execution_count": 52,
     "metadata": {},
     "output_type": "execute_result"
    }
   ],
   "source": [
    "# Train gradient boosting\n",
    "grad_clf = GradientBoostingClassifier(learning_rate=0.7, random_state=42)\n",
    "grad_clf.fit(X_prep, y_prep)"
   ]
  },
  {
   "cell_type": "code",
   "execution_count": 53,
   "id": "7266dedb",
   "metadata": {},
   "outputs": [
    {
     "name": "stdout",
     "output_type": "stream",
     "text": [
      "======\n",
      "Accuracy: 1.0\n",
      "ROC AUC : 1.0\n",
      "======\n"
     ]
    }
   ],
   "source": [
    "# Evaluate training\n",
    "report(grad_clf)"
   ]
  },
  {
   "cell_type": "code",
   "execution_count": 54,
   "id": "d340303c",
   "metadata": {},
   "outputs": [
    {
     "data": {
      "text/plain": [
       "0.6106274460572148"
      ]
     },
     "execution_count": 54,
     "metadata": {},
     "output_type": "execute_result"
    }
   ],
   "source": [
    "# K-fold cross validation on the model\n",
    "cross_validate(grad_clf)"
   ]
  },
  {
   "cell_type": "markdown",
   "id": "a59ffbe0",
   "metadata": {},
   "source": [
    "### 2.2 - Fine-tune the Hyperparameters\n",
    "**NOTE:** `BayesSearchCV` is used to tune the hyperparameters of the models."
   ]
  },
  {
   "cell_type": "markdown",
   "id": "105a2639",
   "metadata": {},
   "source": [
    "#### Decision Tree"
   ]
  },
  {
   "cell_type": "code",
   "execution_count": 60,
   "id": "9c2e27a2",
   "metadata": {},
   "outputs": [
    {
     "name": "stdout",
     "output_type": "stream",
     "text": [
      "======\n",
      "Best score : 0.601709239907786\n",
      "Best params: OrderedDict([('max_depth', 19), ('max_features', None), ('max_leaf_nodes', 159), ('min_impurity_decrease', 0.011386093015217117), ('min_samples_split', 20), ('splitter', 'best')])\n",
      "======\n"
     ]
    }
   ],
   "source": [
    "# Perform bayes search\n",
    "tree_param_dist = {\n",
    "    \"max_depth\": (3, 19), # 19 overfits the data\n",
    "    \"splitter\": [\"best\", \"random\"],\n",
    "    \"min_samples_split\": (2, 20),\n",
    "    \"max_features\": [None, \"sqrt\", \"log2\"],\n",
    "    \"max_leaf_nodes\": (20, 159),\n",
    "    \"min_impurity_decrease\": (1e-6, 0.5, \"uniform\")\n",
    "}\n",
    "tree_search = bayes_search(DecisionTreeClassifier(random_state=42), tree_param_dist)"
   ]
  },
  {
   "cell_type": "code",
   "execution_count": 61,
   "id": "2147f462",
   "metadata": {},
   "outputs": [
    {
     "name": "stdout",
     "output_type": "stream",
     "text": [
      "Saving model tree_bayes_search\n"
     ]
    }
   ],
   "source": [
    "# Save the best model\n",
    "save_model(tree_search.best_estimator_, \"tree_bayes_search\")"
   ]
  },
  {
   "cell_type": "markdown",
   "id": "09a6cb31",
   "metadata": {},
   "source": [
    "#### Random Forest"
   ]
  },
  {
   "cell_type": "code",
   "execution_count": 62,
   "id": "e72b7e39",
   "metadata": {},
   "outputs": [
    {
     "name": "stdout",
     "output_type": "stream",
     "text": [
      "======\n",
      "Best score : 0.6527739789678144\n",
      "Best params: OrderedDict([('criterion', 'entropy'), ('max_depth', 10), ('max_features', None), ('max_leaf_nodes', 159), ('max_samples', 0.5), ('min_impurity_decrease', 1e-06), ('min_samples_split', 20), ('n_estimators', 200)])\n",
      "======\n"
     ]
    }
   ],
   "source": [
    "# Perform bayes search\n",
    "forest_param_dist = {\n",
    "    \"n_estimators\": (10, 500), \n",
    "    \"criterion\": [\"gini\", \"entropy\"],\n",
    "    \"max_depth\": (1, 15), # 19 overfits the data\n",
    "    \"min_samples_split\": (2, 50),\n",
    "    \"max_features\": [None, \"sqrt\", \"log2\"],\n",
    "    \"max_leaf_nodes\": (2, 200),\n",
    "    \"min_impurity_decrease\": (1e-6, 0.5, \"uniform\"),\n",
    "    \"max_samples\": (0.25, 1.0, \"uniform\")\n",
    "}\n",
    "forest_search = bayes_search(RandomForestClassifier(random_state=42), forest_param_dist)"
   ]
  },
  {
   "cell_type": "code",
   "execution_count": 63,
   "id": "94497d98",
   "metadata": {},
   "outputs": [
    {
     "name": "stdout",
     "output_type": "stream",
     "text": [
      "Saving model forest_bayes_search\n"
     ]
    }
   ],
   "source": [
    "# Save the best model\n",
    "save_model(forest_search.best_estimator_, \"forest_bayes_search\")"
   ]
  },
  {
   "cell_type": "markdown",
   "id": "3d723c43",
   "metadata": {},
   "source": [
    "#### AdaBoost"
   ]
  },
  {
   "cell_type": "code",
   "execution_count": 64,
   "id": "27991106",
   "metadata": {},
   "outputs": [
    {
     "name": "stdout",
     "output_type": "stream",
     "text": [
      "======\n",
      "Best score : 0.6169811186176355\n",
      "Best params: OrderedDict([('learning_rate', 0.05504257554206666), ('n_estimators', 500)])\n",
      "======\n"
     ]
    }
   ],
   "source": [
    "# Perform bayes search\n",
    "ada_param_dist = {\n",
    "    \"n_estimators\": (2, 500),\n",
    "    \"learning_rate\": Real(low=0.001, high=3,  prior='uniform')\n",
    "}\n",
    "ada_search = bayes_search(AdaBoostClassifier(random_state=42), ada_param_dist)"
   ]
  },
  {
   "cell_type": "code",
   "execution_count": 65,
   "id": "d608a8fb",
   "metadata": {},
   "outputs": [
    {
     "name": "stdout",
     "output_type": "stream",
     "text": [
      "Saving model ada_bayes_search\n"
     ]
    }
   ],
   "source": [
    "# Save the best model\n",
    "save_model(ada_search.best_estimator_, \"ada_bayes_search\")"
   ]
  },
  {
   "cell_type": "markdown",
   "id": "19672254",
   "metadata": {},
   "source": [
    "#### Gradient Boosting"
   ]
  },
  {
   "cell_type": "code",
   "execution_count": 67,
   "id": "ad80bcc0",
   "metadata": {},
   "outputs": [
    {
     "name": "stdout",
     "output_type": "stream",
     "text": [
      "======\n",
      "Best score : 0.6435596396083854\n",
      "Best params: OrderedDict([('criterion', 'friedman_mse'), ('learning_rate', 0.03925902260699544), ('max_depth', 9), ('max_features', 'sqrt'), ('max_leaf_nodes', 14), ('min_impurity_decrease', 0.031512640562430444), ('min_samples_split', 0.024545207590912655), ('n_estimators', 95), ('subsample', 0.8794717017195449)])\n",
      "======\n"
     ]
    }
   ],
   "source": [
    "# Perform bayes search\n",
    "grad_param_dist = {\n",
    "    \"n_estimators\": (2, 100),\n",
    "    \"learning_rate\": Real(low=0.001, high=3, prior=\"uniform\"),\n",
    "    \"subsample\": Real(low=0.05, high=1.0, prior=\"uniform\"),\n",
    "    \"criterion\": [\"friedman_mse\", \"squared_error\"],\n",
    "    \"min_samples_split\": Real(low=1e-6, high=1.0, prior=\"uniform\"),\n",
    "    \"max_depth\": (1, 10),\n",
    "    \"min_impurity_decrease\": Real(low=1e-6, high=0.5, prior=\"uniform\"),\n",
    "    \"max_features\": [None, \"sqrt\", \"log2\"],\n",
    "    \"max_leaf_nodes\": (2, 100),\n",
    "}\n",
    "grad_search = bayes_search(GradientBoostingClassifier(random_state=42), grad_param_dist)"
   ]
  },
  {
   "cell_type": "code",
   "execution_count": 68,
   "id": "d10f8e51",
   "metadata": {},
   "outputs": [
    {
     "name": "stdout",
     "output_type": "stream",
     "text": [
      "Saving model grad_bayes_search\n"
     ]
    }
   ],
   "source": [
    "# Save the best model\n",
    "save_model(grad_search.best_estimator_, \"grad_bayes_search\")"
   ]
  },
  {
   "cell_type": "markdown",
   "id": "c658dbf6",
   "metadata": {},
   "source": [
    "#### SVC"
   ]
  },
  {
   "cell_type": "code",
   "execution_count": 69,
   "id": "66c305cb",
   "metadata": {},
   "outputs": [
    {
     "name": "stdout",
     "output_type": "stream",
     "text": [
      "======\n",
      "Best score : 0.6447276526859074\n",
      "Best params: OrderedDict([('C', 0.0001), ('degree', 30), ('gamma', 'auto'), ('kernel', 'sigmoid')])\n",
      "======\n"
     ]
    }
   ],
   "source": [
    "# Perform bayes search on kernel SVM\n",
    "svc_param_dist = {\n",
    "    \"C\": Real(low=1e-4, high=2, prior=\"uniform\"),\n",
    "    \"kernel\": [\"linear\", \"poly\", \"rbf\", \"sigmoid\"],\n",
    "    \"degree\": (2, 30),\n",
    "    \"gamma\": [\"scale\", \"auto\"]\n",
    "}\n",
    "svc_search = bayes_search(SVC(decision_function_shape=\"ovo\", probability=True, random_state=42), svc_param_dist)"
   ]
  },
  {
   "cell_type": "code",
   "execution_count": 70,
   "id": "dd76efa5",
   "metadata": {},
   "outputs": [
    {
     "name": "stdout",
     "output_type": "stream",
     "text": [
      "Saving model svc_bayes_search\n"
     ]
    }
   ],
   "source": [
    "# Save the best model\n",
    "save_model(svc_search.best_estimator_, \"svc_bayes_search\")"
   ]
  },
  {
   "cell_type": "markdown",
   "id": "225c71fc",
   "metadata": {},
   "source": [
    "## 3 - Post-analyze the Best Models"
   ]
  },
  {
   "cell_type": "code",
   "execution_count": 71,
   "id": "8001fcd8",
   "metadata": {},
   "outputs": [
    {
     "name": "stdout",
     "output_type": "stream",
     "text": [
      "Loading model forest_bayes_search\n"
     ]
    }
   ],
   "source": [
    "# Load the best model - Random forest\n",
    "forest_bayes_search = load_model(\"forest_bayes_search\")"
   ]
  },
  {
   "cell_type": "code",
   "execution_count": 72,
   "id": "236bf028",
   "metadata": {},
   "outputs": [
    {
     "name": "stdout",
     "output_type": "stream",
     "text": [
      "Saving figure feat_importances_mdi\n"
     ]
    },
    {
     "data": {
      "image/png": "[encoded data removed]",
      "text/plain": [
       "<Figure size 2500x1200 with 1 Axes>"
      ]
     },
     "metadata": {},
     "output_type": "display_data"
    }
   ],
   "source": [
    "# Measure feature importance\n",
    "def plot_feature_importances(importances, feat_names):\n",
    "    df_importances = pd.Series(importances, index=feat_names)\n",
    "    fig, ax = plt.subplots(figsize=(25, 12))\n",
    "    df_importances.plot.bar(ax=ax)\n",
    "    ax.set_title(\"Feature Importances using MDI\")\n",
    "    ax.set_ylabel(\"mean decrease in impurity\")\n",
    "    ax.get_xaxis().set_visible(False)\n",
    "    plt.tight_layout()\n",
    "    \n",
    "plot_feature_importances(forest_bayes_search.feature_importances_, X_train.columns)\n",
    "save_fig(\"feat_importances_mdi\")"
   ]
  },
  {
   "cell_type": "code",
   "execution_count": 73,
   "id": "f931e907",
   "metadata": {},
   "outputs": [
    {
     "data": {
      "text/plain": [
       "768"
      ]
     },
     "execution_count": 73,
     "metadata": {},
     "output_type": "execute_result"
    }
   ],
   "source": [
    "# Features that have impact\n",
    "feat_inds = np.where(forest_bayes_search.feature_importances_ > 0.0)[0]\n",
    "len(feat_inds)"
   ]
  },
  {
   "cell_type": "markdown",
   "id": "6a29ebe3",
   "metadata": {},
   "source": [
    "### 3.1 - Feature Selection"
   ]
  },
  {
   "cell_type": "markdown",
   "id": "fcbfd8a2",
   "metadata": {},
   "source": [
    "#### Random Forest"
   ]
  },
  {
   "cell_type": "code",
   "execution_count": 76,
   "id": "8accf3bf",
   "metadata": {},
   "outputs": [
    {
     "name": "stdout",
     "output_type": "stream",
     "text": [
      "======\n",
      "Best score : 0.659795282890198\n",
      "Best params: OrderedDict([('criterion', 'gini'), ('max_depth', 12), ('max_features', 'log2'), ('max_leaf_nodes', 159), ('max_samples', 0.5), ('min_impurity_decrease', 1e-06), ('min_samples_split', 2), ('n_estimators', 500)])\n",
      "======\n"
     ]
    }
   ],
   "source": [
    "# Perform bayes search on reduced features\n",
    "reduced_forest_param_dist = {\n",
    "    \"n_estimators\": (5, 500), \n",
    "    \"criterion\": [\"gini\", \"entropy\"],\n",
    "    \"max_depth\": (1, 19), # 19 overfits the data\n",
    "    \"min_samples_split\": (2, 20),\n",
    "    \"max_features\": [None, \"sqrt\", \"log2\"],\n",
    "    \"max_leaf_nodes\": (2, 159),\n",
    "    \"min_impurity_decrease\": (1e-6, 0.5, \"uniform\"),\n",
    "    \"max_samples\": (0.5, 1.0, \"uniform\")\n",
    "}\n",
    "\n",
    "reduced_forest_search = bayes_search(RandomForestClassifier(random_state=42), reduced_forest_param_dist, X=X_prep[:, feat_inds])"
   ]
  },
  {
   "cell_type": "code",
   "execution_count": 77,
   "id": "f6a1cc94",
   "metadata": {},
   "outputs": [
    {
     "name": "stdout",
     "output_type": "stream",
     "text": [
      "Saving model reduced_forest_bayes_search\n"
     ]
    }
   ],
   "source": [
    "# Save the model\n",
    "save_model(reduced_forest_search.best_estimator_, \"reduced_forest_bayes_search\")"
   ]
  },
  {
   "cell_type": "markdown",
   "id": "d37dd8c7",
   "metadata": {},
   "source": [
    "#### Gradient Boosting"
   ]
  },
  {
   "cell_type": "code",
   "execution_count": 78,
   "id": "0671b9cf",
   "metadata": {},
   "outputs": [
    {
     "name": "stdout",
     "output_type": "stream",
     "text": [
      "======\n",
      "Best score : 0.6453978374111866\n",
      "Best params: OrderedDict([('criterion', 'friedman_mse'), ('learning_rate', 0.011591781032804775), ('max_depth', 4), ('max_features', 'sqrt'), ('max_leaf_nodes', 22), ('min_impurity_decrease', 0.057069549507916414), ('min_samples_split', 0.10304355398481548), ('n_estimators', 64), ('subsample', 0.2766543705601441)])\n",
      "======\n"
     ]
    }
   ],
   "source": [
    "# Perform bayes search on reduced features\n",
    "reduced_grad_param_dist = {\n",
    "    \"n_estimators\": (2, 100),\n",
    "    \"learning_rate\": Real(low=0.001, high=3, prior=\"uniform\"),\n",
    "    \"subsample\": Real(low=0.05, high=1.0, prior=\"uniform\"),\n",
    "    \"criterion\": [\"friedman_mse\", \"squared_error\"],\n",
    "    \"min_samples_split\": Real(low=1e-6, high=1.0, prior=\"uniform\"),\n",
    "    \"max_depth\": (1, 10),\n",
    "    \"min_impurity_decrease\": Real(low=1e-6, high=0.5, prior=\"uniform\"),\n",
    "    \"max_features\": [None, \"sqrt\", \"log2\"],\n",
    "    \"max_leaf_nodes\": (2, 100),\n",
    "}\n",
    "reduced_grad_search = bayes_search(GradientBoostingClassifier(random_state=42), reduced_grad_param_dist, X=X_prep[:, feat_inds])"
   ]
  },
  {
   "cell_type": "code",
   "execution_count": 79,
   "id": "e3f62f4c",
   "metadata": {},
   "outputs": [
    {
     "name": "stdout",
     "output_type": "stream",
     "text": [
      "Saving model reduced_grad_bayes_search\n"
     ]
    }
   ],
   "source": [
    "# Save the model\n",
    "save_model(reduced_grad_search.best_estimator_, \"reduced_grad_bayes_search\")"
   ]
  },
  {
   "cell_type": "markdown",
   "id": "492ff515",
   "metadata": {},
   "source": [
    "#### AdaBoost"
   ]
  },
  {
   "cell_type": "code",
   "execution_count": 80,
   "id": "0291bfa5",
   "metadata": {},
   "outputs": [
    {
     "name": "stdout",
     "output_type": "stream",
     "text": [
      "======\n",
      "Best score : 0.6182839491201121\n",
      "Best params: OrderedDict([('learning_rate', 1.0963281051542808), ('n_estimators', 20)])\n",
      "======\n"
     ]
    }
   ],
   "source": [
    "# Perform bayes search\n",
    "reduced_ada_param_dist = {\n",
    "    \"n_estimators\": (2, 500),\n",
    "    \"learning_rate\": Real(low=0.001, high=3,  prior='uniform')\n",
    "}\n",
    "reduced_ada_search = bayes_search(AdaBoostClassifier(random_state=42), reduced_ada_param_dist, X=X_prep[:, feat_inds])"
   ]
  },
  {
   "cell_type": "code",
   "execution_count": 81,
   "id": "74b4d464",
   "metadata": {},
   "outputs": [
    {
     "name": "stdout",
     "output_type": "stream",
     "text": [
      "Saving model reduced_ada_bayes_search\n"
     ]
    }
   ],
   "source": [
    "# Save the model\n",
    "save_model(reduced_ada_search.best_estimator_, \"reduced_ada_bayes_search\")"
   ]
  },
  {
   "cell_type": "markdown",
   "id": "514ecf6d",
   "metadata": {},
   "source": [
    "#### SVC"
   ]
  },
  {
   "cell_type": "code",
   "execution_count": 84,
   "id": "e8c54053",
   "metadata": {},
   "outputs": [
    {
     "name": "stdout",
     "output_type": "stream",
     "text": [
      "======\n",
      "Best score : 0.6515635313484377\n",
      "Best params: OrderedDict([('C', 0.4035173408201101), ('degree', 2), ('gamma', 'scale'), ('kernel', 'rbf')])\n",
      "======\n"
     ]
    }
   ],
   "source": [
    "# Perform bayes search on kernel SVM\n",
    "reduced_svc_param_dist = {\n",
    "    \"C\": Real(low=1e-6, high=2, prior=\"uniform\"),\n",
    "    \"kernel\": [\"linear\", \"poly\", \"rbf\", \"sigmoid\"],\n",
    "    \"degree\": (2, 30),\n",
    "    \"gamma\": [\"scale\", \"auto\"]\n",
    "}\n",
    "reduced_svc_search = bayes_search(SVC(decision_function_shape=\"ovo\", probability=True, random_state=42), reduced_svc_param_dist, X=X_prep[:, feat_inds])"
   ]
  },
  {
   "cell_type": "code",
   "execution_count": 85,
   "id": "bf220ced",
   "metadata": {},
   "outputs": [
    {
     "name": "stdout",
     "output_type": "stream",
     "text": [
      "Saving model reduced_svc_bayes_search\n"
     ]
    }
   ],
   "source": [
    "# Save the model\n",
    "save_model(reduced_svc_search.best_estimator_, \"reduced_svc_bayes_search\")"
   ]
  },
  {
   "cell_type": "markdown",
   "id": "63d8f65e",
   "metadata": {},
   "source": [
    "### 3.2 - Feature Importances"
   ]
  },
  {
   "cell_type": "code",
   "execution_count": 99,
   "id": "9bd89012",
   "metadata": {},
   "outputs": [
    {
     "data": {
      "text/plain": [
       "teamplay/passes_per_match_15      0.026202\n",
       "teamplay/passes_per_match_1       0.017303\n",
       "defence/clean_sheets_0            0.012693\n",
       "teamplay/passes_per_match_17      0.011883\n",
       "teamplay/passes_per_match_19      0.011204\n",
       "teamplay/passes_15                0.010368\n",
       "teamplay/passes_per_match_3       0.009970\n",
       "teamplay/passes_per_match_21      0.009283\n",
       "teamplay/passes_1                 0.009220\n",
       "teamplay/passes_per_match_16      0.008994\n",
       "defence/goals_conceded_2          0.007630\n",
       "teamplay/passes_21                0.006372\n",
       "teamplay/passes_per_match_6       0.006144\n",
       "teamplay/passes_per_match_4       0.005892\n",
       "defence/clean_sheets_15           0.005824\n",
       "teamplay/passes_per_match_20      0.005695\n",
       "teamplay/accurate_long_balls_1    0.005559\n",
       "defence/goals_conceded_1          0.005217\n",
       "teamplay/passes_2                 0.004563\n",
       "defence/clean_sheets_17           0.004554\n",
       "teamplay/passes_3                 0.004438\n",
       "teamplay/accurate_long_balls_6    0.004378\n",
       "defence/goals_conceded_15         0.004358\n",
       "defence/clean_sheets_14           0.004265\n",
       "defence/tackle_success_%_18       0.004115\n",
       "teamplay/passes_20                0.004026\n",
       "defence/duels_won_16              0.003877\n",
       "teamplay/passes_8                 0.003872\n",
       "teamplay/passes_per_match_7       0.003858\n",
       "defence/tackle_success_%_17       0.003830\n",
       "dtype: float64"
      ]
     },
     "execution_count": 99,
     "metadata": {},
     "output_type": "execute_result"
    }
   ],
   "source": [
    "# Top 30 features contributing to the prediction\n",
    "df_feat_importances = pd.Series(forest_bayes_search.feature_importances_, index=X_train.columns).sort_values(ascending=False)\n",
    "df_top_feats = df_feat_importances.head(30)\n",
    "df_top_feats.head(30)"
   ]
  },
  {
   "cell_type": "code",
   "execution_count": 127,
   "id": "152311d6",
   "metadata": {},
   "outputs": [
    {
     "data": {
      "text/plain": [
       "{'away/df_0': ['teamplay/passes_per_match',\n",
       "  'teamplay/passes',\n",
       "  'defence/clean_sheets',\n",
       "  'defence/goals_conceded'],\n",
       " 'home/df_0': ['teamplay/passes_per_match',\n",
       "  'teamplay/passes',\n",
       "  'teamplay/accurate_long_balls',\n",
       "  'defence/goals_conceded'],\n",
       " 'home/gk_0': ['defence/clean_sheets'],\n",
       " 'away/df_2': ['teamplay/passes_per_match',\n",
       "  'defence/clean_sheets',\n",
       "  'defence/tackle_success_%'],\n",
       " 'away/mf_0': ['teamplay/passes_per_match'],\n",
       " 'home/df_2': ['teamplay/passes_per_match', 'teamplay/passes'],\n",
       " 'away/mf_2': ['teamplay/passes_per_match', 'teamplay/passes'],\n",
       " 'away/df_1': ['teamplay/passes_per_match', 'defence/duels_won'],\n",
       " 'home/df_1': ['defence/goals_conceded', 'teamplay/passes'],\n",
       " 'home/mf_0': ['teamplay/passes_per_match', 'teamplay/accurate_long_balls'],\n",
       " 'home/df_3': ['teamplay/passes_per_match'],\n",
       " 'away/mf_1': ['teamplay/passes_per_match', 'teamplay/passes'],\n",
       " 'away/gk_0': ['defence/clean_sheets'],\n",
       " 'away/df_3': ['defence/tackle_success_%'],\n",
       " 'home/mf_2': ['teamplay/passes'],\n",
       " 'home/mf_1': ['teamplay/passes_per_match']}"
      ]
     },
     "execution_count": 127,
     "metadata": {},
     "output_type": "execute_result"
    }
   ],
   "source": [
    "from collections import defaultdict\n",
    "\n",
    "titles = ['home/gk_0', 'home/df_0', 'home/df_1', 'home/df_2', 'home/df_3',\n",
    "          'home/df_4', 'home/mf_0', 'home/mf_1', 'home/mf_2', 'home/mf_3',\n",
    "          'home/mf_4', 'home/fw_0', 'home/fw_1', 'home/fw_2', 'away/gk_0',\n",
    "          'away/df_0', 'away/df_1', 'away/df_2', 'away/df_3', 'away/mf_0',\n",
    "          'away/mf_1', 'away/mf_2', 'away/mf_3', 'away/mf_4', 'away/fw_0',\n",
    "          'away/fw_1', 'away/fw_2']\n",
    "top_feats = df_top_feats.index.tolist()\n",
    "summary = defaultdict(list)\n",
    "for feat in top_feats:\n",
    "    pos = feat.split(\"_\")[-1]\n",
    "    feat = \"_\".join(feat.split(\"_\")[:-1])\n",
    "    summary[titles[int(pos)]].append(feat)\n",
    "dict(summary)"
   ]
  },
  {
   "cell_type": "markdown",
   "id": "288707a3",
   "metadata": {},
   "source": [
    "**NOTE:** Defenders (1st) of both sides and their `passes_per_match` impacts the most (almost twice) to the result of a match."
   ]
  },
  {
   "cell_type": "code",
   "execution_count": 131,
   "id": "299be5bd",
   "metadata": {},
   "outputs": [
    {
     "data": {
      "text/plain": [
       "away/df_0    0.074417\n",
       "home/df_0    0.065464\n",
       "home/df_2    0.057156\n",
       "away/df_2    0.055704\n",
       "home/mf_0    0.055118\n",
       "away/mf_2    0.055112\n",
       "away/mf_1    0.049681\n",
       "home/mf_2    0.049552\n",
       "home/df_1    0.049405\n",
       "away/mf_3    0.048945\n",
       "away/mf_0    0.047166\n",
       "away/df_1    0.044511\n",
       "home/mf_1    0.041358\n",
       "away/fw_0    0.038146\n",
       "home/fw_0    0.036334\n",
       "home/mf_3    0.032977\n",
       "home/df_3    0.030210\n",
       "home/gk_0    0.030078\n",
       "away/df_3    0.027476\n",
       "away/gk_0    0.024119\n",
       "home/fw_1    0.021809\n",
       "away/fw_1    0.016095\n",
       "home/mf_4    0.015535\n",
       "home/fw_2    0.014948\n",
       "away/mf_4    0.011941\n",
       "away/fw_2    0.006585\n",
       "home/df_4    0.000158\n",
       "dtype: float64"
      ]
     },
     "execution_count": 131,
     "metadata": {},
     "output_type": "execute_result"
    }
   ],
   "source": [
    "# The importance of positions\n",
    "feats = df_feat_importances.index.tolist()\n",
    "summary_all = defaultdict(int)\n",
    "for feat in feats:\n",
    "    pos = feat.split(\"_\")[-1]\n",
    "    summary_all[titles[int(pos)]] += df_feat_importances[feat]\n",
    "pd.Series(summary_all).sort_values(ascending=False)"
   ]
  },
  {
   "cell_type": "markdown",
   "id": "52cb3280",
   "metadata": {},
   "source": [
    "## 4 - Evaluate the Models\n",
    "We will evaluate the versions of `SVC`, `Random Forest`, `Gradient Boosting`."
   ]
  },
  {
   "cell_type": "code",
   "execution_count": 108,
   "id": "671cef7a",
   "metadata": {},
   "outputs": [
    {
     "data": {
      "text/plain": [
       "[array(['draw', 'lose', 'win'], dtype=object)]"
      ]
     },
     "execution_count": 108,
     "metadata": {},
     "output_type": "execute_result"
    }
   ],
   "source": [
    "# Transform the test data\n",
    "X_prep_test = pipe_predictor_preprocess.transform(X_test)\n",
    "y_prep_test = pipe_label_preprocess.transform(y_test.values.reshape(-1, 1))\n",
    "pipe_label_preprocess[\"encoder\"].categories_"
   ]
  },
  {
   "cell_type": "code",
   "execution_count": 109,
   "id": "dd9f5539",
   "metadata": {},
   "outputs": [],
   "source": [
    "# Setup to evaluate the model\n",
    "def evaluate(model, X_train=X_prep, y_train=y_prep, X_test=X_prep_test, y_test=y_prep_test):\n",
    "    y_proba = cross_val_predict(model, X_train, y_train.squeeze(), cv=3, method='predict_proba')\n",
    "    y_proba_test = cross_val_predict(model, X_test, y_test.squeeze(), cv=3, method='predict_proba')\n",
    "    train_score = roc_auc_score(y_train.squeeze(), y_proba, multi_class=\"ovo\", average=\"macro\")\n",
    "    test_score = roc_auc_score(y_test.squeeze(), y_proba_test, multi_class=\"ovo\", average=\"macro\")\n",
    "    print(\"======\")\n",
    "    print(\"Train score:\", train_score)\n",
    "    print(\"Test score :\", test_score)\n",
    "    print(\"======\")\n",
    "    return train_score, test_score"
   ]
  },
  {
   "cell_type": "markdown",
   "id": "36c5cdee",
   "metadata": {},
   "source": [
    "### 4.1 - Test the Models"
   ]
  },
  {
   "cell_type": "markdown",
   "id": "165215e7",
   "metadata": {},
   "source": [
    "#### Random Forest"
   ]
  },
  {
   "cell_type": "code",
   "execution_count": 114,
   "id": "427d9d1b",
   "metadata": {},
   "outputs": [
    {
     "name": "stdout",
     "output_type": "stream",
     "text": [
      "Loading model forest_bayes_search\n",
      "======\n",
      "Train score: 0.6588454472647194\n",
      "Test score : 0.6516915161380266\n",
      "======\n"
     ]
    },
    {
     "data": {
      "text/plain": [
       "(0.6588454472647194, 0.6516915161380266)"
      ]
     },
     "execution_count": 114,
     "metadata": {},
     "output_type": "execute_result"
    }
   ],
   "source": [
    "# Test the model\n",
    "evaluate(load_model(\"forest_bayes_search\"))"
   ]
  },
  {
   "cell_type": "code",
   "execution_count": 115,
   "id": "1af47f91",
   "metadata": {},
   "outputs": [
    {
     "name": "stdout",
     "output_type": "stream",
     "text": [
      "Loading model forest_bayes_search\n",
      "Loading model reduced_forest_bayes_search\n",
      "======\n",
      "Train score: 0.6515265486274101\n",
      "Test score : 0.6286741987505559\n",
      "======\n"
     ]
    },
    {
     "data": {
      "text/plain": [
       "(0.6515265486274101, 0.6286741987505559)"
      ]
     },
     "execution_count": 115,
     "metadata": {},
     "output_type": "execute_result"
    }
   ],
   "source": [
    "# Test the reduced model\n",
    "feat_inds = np.where(load_model(\"forest_bayes_search\").feature_importances_ > 0.0)[0]\n",
    "evaluate(load_model(\"reduced_forest_bayes_search\"), X_train=X_prep[:, feat_inds], X_test=X_prep_test[:, feat_inds])"
   ]
  },
  {
   "cell_type": "markdown",
   "id": "e9b3021f",
   "metadata": {},
   "source": [
    "#### Gradient Boosting"
   ]
  },
  {
   "cell_type": "code",
   "execution_count": 116,
   "id": "8c13c90e",
   "metadata": {},
   "outputs": [
    {
     "name": "stdout",
     "output_type": "stream",
     "text": [
      "Loading model grad_bayes_search\n",
      "======\n",
      "Train score: 0.6571558021785027\n",
      "Test score : 0.6456727254915259\n",
      "======\n"
     ]
    },
    {
     "data": {
      "text/plain": [
       "(0.6571558021785027, 0.6456727254915259)"
      ]
     },
     "execution_count": 116,
     "metadata": {},
     "output_type": "execute_result"
    }
   ],
   "source": [
    "# Test the model\n",
    "evaluate(load_model(\"grad_bayes_search\"))"
   ]
  },
  {
   "cell_type": "code",
   "execution_count": 117,
   "id": "9cd65ba4",
   "metadata": {},
   "outputs": [
    {
     "name": "stdout",
     "output_type": "stream",
     "text": [
      "Loading model forest_bayes_search\n",
      "Loading model reduced_grad_bayes_search\n",
      "======\n",
      "Train score: 0.6514095565921004\n",
      "Test score : 0.6516477139993518\n",
      "======\n"
     ]
    },
    {
     "data": {
      "text/plain": [
       "(0.6514095565921004, 0.6516477139993518)"
      ]
     },
     "execution_count": 117,
     "metadata": {},
     "output_type": "execute_result"
    }
   ],
   "source": [
    "# Test the reduced model\n",
    "feat_inds = np.where(load_model(\"forest_bayes_search\").feature_importances_ > 0.0)[0]\n",
    "evaluate(load_model(\"reduced_grad_bayes_search\"), X_train=X_prep[:, feat_inds], X_test=X_prep_test[:, feat_inds])"
   ]
  },
  {
   "cell_type": "markdown",
   "id": "88edcfb8",
   "metadata": {},
   "source": [
    "#### SVC "
   ]
  },
  {
   "cell_type": "code",
   "execution_count": 120,
   "id": "f03fd2f9",
   "metadata": {},
   "outputs": [
    {
     "name": "stdout",
     "output_type": "stream",
     "text": [
      "Loading model svc_bayes_search\n",
      "======\n",
      "Train score: 0.6472044924690351\n",
      "Test score : 0.6083754399053497\n",
      "======\n"
     ]
    },
    {
     "data": {
      "text/plain": [
       "(0.6472044924690351, 0.6083754399053497)"
      ]
     },
     "execution_count": 120,
     "metadata": {},
     "output_type": "execute_result"
    }
   ],
   "source": [
    "# Test the model\n",
    "evaluate(load_model(\"svc_bayes_search\"))"
   ]
  },
  {
   "cell_type": "code",
   "execution_count": 121,
   "id": "1df1d5cd",
   "metadata": {},
   "outputs": [
    {
     "name": "stdout",
     "output_type": "stream",
     "text": [
      "Loading model forest_bayes_search\n",
      "Loading model reduced_svc_bayes_search\n",
      "======\n",
      "Train score: 0.6583513064437703\n",
      "Test score : 0.6096871491118998\n",
      "======\n"
     ]
    },
    {
     "data": {
      "text/plain": [
       "(0.6583513064437703, 0.6096871491118998)"
      ]
     },
     "execution_count": 121,
     "metadata": {},
     "output_type": "execute_result"
    }
   ],
   "source": [
    "# Test the reduced model\n",
    "feat_inds = np.where(load_model(\"forest_bayes_search\").feature_importances_ > 0.0)[0]\n",
    "evaluate(load_model(\"reduced_svc_bayes_search\"), X_train=X_prep[:, feat_inds], X_test=X_prep_test[:, feat_inds])"
   ]
  },
  {
   "cell_type": "markdown",
   "id": "12969ec2",
   "metadata": {},
   "source": [
    "### 4.2 - Overall Report"
   ]
  },
  {
   "cell_type": "code",
   "execution_count": 125,
   "id": "768fa9a4",
   "metadata": {},
   "outputs": [
    {
     "name": "stdout",
     "output_type": "stream",
     "text": [
      "Loading model forest_bayes_search\n",
      "              precision    recall  f1-score   support\n",
      "\n",
      "        draw       0.50      0.04      0.07        56\n",
      "        lose       0.51      0.70      0.59        71\n",
      "         win       0.58      0.73      0.64        89\n",
      "\n",
      "    accuracy                           0.54       216\n",
      "   macro avg       0.53      0.49      0.43       216\n",
      "weighted avg       0.53      0.54      0.48       216\n",
      "\n"
     ]
    }
   ],
   "source": [
    "# Compute intuitive result of the best model\n",
    "from sklearn.metrics import classification_report\n",
    "final_model = load_model(\"forest_bayes_search\")\n",
    "print(classification_report(y_prep_test, final_model.predict(X_prep_test), target_names=[\"draw\", \"lose\", \"win\"]))"
   ]
  }
 ],
 "metadata": {
  "kernelspec": {
   "display_name": "Python 3 (ipykernel)",
   "language": "python",
   "name": "python3"
  },
  "language_info": {
   "codemirror_mode": {
    "name": "ipython",
    "version": 3
   },
   "file_extension": ".py",
   "mimetype": "text/x-python",
   "name": "python",
   "nbconvert_exporter": "python",
   "pygments_lexer": "ipython3",
   "version": "3.9.13"
  }
 },
 "nbformat": 4,
 "nbformat_minor": 5
}
