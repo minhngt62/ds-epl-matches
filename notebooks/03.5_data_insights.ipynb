{
 "cells": [
  {
   "cell_type": "code",
   "execution_count": 1,
   "metadata": {},
   "outputs": [],
   "source": [
    "# import libraries\n",
    "import pandas as pd\n",
    "import os\n",
    "import matplotlib.pyplot as plt\n",
    "from collections import Counter\n",
    "import numpy as np\n",
    "import regex as re \n",
    "import seaborn as sns"
   ]
  },
  {
   "cell_type": "code",
   "execution_count": 2,
   "metadata": {},
   "outputs": [],
   "source": [
    "pd.set_option(\"display.max_colwidth\", None)"
   ]
  },
  {
   "cell_type": "code",
   "execution_count": 3,
   "metadata": {},
   "outputs": [],
   "source": [
    "PRJ_ROOT_DIR = os.path.dirname(os.path.abspath(''))\n",
    "ROOT_DATA_PATH = os.path.join(PRJ_ROOT_DIR, 'data/tabular/integrate/lda')\n",
    "NOTE_DIR = os.path.join(PRJ_ROOT_DIR, 'notebooks')\n",
    "VIS_PATH = os.path.join(NOTE_DIR, 'images/03.5_data_insights')\n",
    "\n",
    "def save_fig(fig_id, tight_layout=True, fig_extension=\"png\", resolution=300):\n",
    "    path = os.path.join(VIS_PATH, fig_id + \".\" + fig_extension)\n",
    "    print(\"Saving figure\", fig_id)\n",
    "    if tight_layout:\n",
    "        plt.tight_layout()\n",
    "    plt.savefig(path, format=fig_extension, dpi=resolution)"
   ]
  },
  {
   "cell_type": "markdown",
   "metadata": {},
   "source": [
    "# 1. Load data"
   ]
  },
  {
   "cell_type": "code",
   "execution_count": 4,
   "metadata": {},
   "outputs": [],
   "source": [
    "df_matches = pd.read_csv(os.path.join(ROOT_DATA_PATH, \"matches.csv\"))\n",
    "df_id = pd.read_csv(os.path.join(ROOT_DATA_PATH, \"matches_with_playerid.csv\"))\n",
    "df_players = pd.read_csv(os.path.join(ROOT_DATA_PATH, \"players.csv\"))"
   ]
  },
  {
   "cell_type": "code",
   "execution_count": 5,
   "metadata": {},
   "outputs": [],
   "source": [
    "# add away_result column\n",
    "df_id['away_result'] = np.where(df_id['home_result'] == 'win', 'lose',\n",
    "                             np.where(df_id['home_result'] == 'lose', 'win', 'draw'))"
   ]
  },
  {
   "cell_type": "code",
   "execution_count": 6,
   "metadata": {},
   "outputs": [
    {
     "data": {
      "text/html": [
       "<div>\n",
       "<style scoped>\n",
       "    .dataframe tbody tr th:only-of-type {\n",
       "        vertical-align: middle;\n",
       "    }\n",
       "\n",
       "    .dataframe tbody tr th {\n",
       "        vertical-align: top;\n",
       "    }\n",
       "\n",
       "    .dataframe thead th {\n",
       "        text-align: right;\n",
       "    }\n",
       "</style>\n",
       "<table border=\"1\" class=\"dataframe\">\n",
       "  <thead>\n",
       "    <tr style=\"text-align: right;\">\n",
       "      <th></th>\n",
       "      <th>home_result</th>\n",
       "      <th>season</th>\n",
       "      <th>0_0</th>\n",
       "      <th>1_0</th>\n",
       "      <th>2_0</th>\n",
       "      <th>0_1</th>\n",
       "      <th>1_1</th>\n",
       "      <th>2_1</th>\n",
       "      <th>0_2</th>\n",
       "      <th>1_2</th>\n",
       "      <th>...</th>\n",
       "      <th>2_23</th>\n",
       "      <th>0_24</th>\n",
       "      <th>1_24</th>\n",
       "      <th>2_24</th>\n",
       "      <th>0_25</th>\n",
       "      <th>1_25</th>\n",
       "      <th>2_25</th>\n",
       "      <th>0_26</th>\n",
       "      <th>1_26</th>\n",
       "      <th>2_26</th>\n",
       "    </tr>\n",
       "  </thead>\n",
       "  <tbody>\n",
       "    <tr>\n",
       "      <th>0</th>\n",
       "      <td>lose</td>\n",
       "      <td>2019/20</td>\n",
       "      <td>1.286584</td>\n",
       "      <td>7.035507</td>\n",
       "      <td>1.259102</td>\n",
       "      <td>-2.931753</td>\n",
       "      <td>0.062317</td>\n",
       "      <td>-1.631287</td>\n",
       "      <td>-2.707726</td>\n",
       "      <td>-0.607117</td>\n",
       "      <td>...</td>\n",
       "      <td>-100.000000</td>\n",
       "      <td>2.247774</td>\n",
       "      <td>-0.737455</td>\n",
       "      <td>-1.588368</td>\n",
       "      <td>2.059278</td>\n",
       "      <td>-1.289581</td>\n",
       "      <td>-0.214014</td>\n",
       "      <td>-0.025312</td>\n",
       "      <td>-0.479952</td>\n",
       "      <td>1.471758</td>\n",
       "    </tr>\n",
       "    <tr>\n",
       "      <th>1</th>\n",
       "      <td>win</td>\n",
       "      <td>2019/20</td>\n",
       "      <td>0.771112</td>\n",
       "      <td>2.864098</td>\n",
       "      <td>0.136227</td>\n",
       "      <td>-3.137167</td>\n",
       "      <td>-0.522932</td>\n",
       "      <td>-0.568367</td>\n",
       "      <td>-2.725580</td>\n",
       "      <td>-0.359102</td>\n",
       "      <td>...</td>\n",
       "      <td>-0.780148</td>\n",
       "      <td>1.990417</td>\n",
       "      <td>-0.727778</td>\n",
       "      <td>-2.796785</td>\n",
       "      <td>-100.000000</td>\n",
       "      <td>-100.000000</td>\n",
       "      <td>-100.000000</td>\n",
       "      <td>-100.000000</td>\n",
       "      <td>-100.000000</td>\n",
       "      <td>-100.000000</td>\n",
       "    </tr>\n",
       "    <tr>\n",
       "      <th>2</th>\n",
       "      <td>win</td>\n",
       "      <td>2019/20</td>\n",
       "      <td>1.081934</td>\n",
       "      <td>6.476357</td>\n",
       "      <td>1.060024</td>\n",
       "      <td>-3.610155</td>\n",
       "      <td>-0.617447</td>\n",
       "      <td>3.083772</td>\n",
       "      <td>-3.131397</td>\n",
       "      <td>-0.594232</td>\n",
       "      <td>...</td>\n",
       "      <td>2.718124</td>\n",
       "      <td>2.234902</td>\n",
       "      <td>-0.764160</td>\n",
       "      <td>-0.524770</td>\n",
       "      <td>-100.000000</td>\n",
       "      <td>-100.000000</td>\n",
       "      <td>-100.000000</td>\n",
       "      <td>-100.000000</td>\n",
       "      <td>-100.000000</td>\n",
       "      <td>-100.000000</td>\n",
       "    </tr>\n",
       "    <tr>\n",
       "      <th>3</th>\n",
       "      <td>win</td>\n",
       "      <td>2019/20</td>\n",
       "      <td>1.270547</td>\n",
       "      <td>6.125389</td>\n",
       "      <td>0.866984</td>\n",
       "      <td>-3.375562</td>\n",
       "      <td>-0.538387</td>\n",
       "      <td>-1.682440</td>\n",
       "      <td>-3.103326</td>\n",
       "      <td>0.157253</td>\n",
       "      <td>...</td>\n",
       "      <td>-100.000000</td>\n",
       "      <td>1.980681</td>\n",
       "      <td>-0.619516</td>\n",
       "      <td>-1.541976</td>\n",
       "      <td>1.383543</td>\n",
       "      <td>-0.932270</td>\n",
       "      <td>0.070167</td>\n",
       "      <td>1.083550</td>\n",
       "      <td>-0.641444</td>\n",
       "      <td>1.485667</td>\n",
       "    </tr>\n",
       "    <tr>\n",
       "      <th>4</th>\n",
       "      <td>win</td>\n",
       "      <td>2019/20</td>\n",
       "      <td>1.446074</td>\n",
       "      <td>7.081245</td>\n",
       "      <td>1.423544</td>\n",
       "      <td>-3.169787</td>\n",
       "      <td>-0.700700</td>\n",
       "      <td>0.751141</td>\n",
       "      <td>-2.441979</td>\n",
       "      <td>-0.588787</td>\n",
       "      <td>...</td>\n",
       "      <td>0.878456</td>\n",
       "      <td>2.518209</td>\n",
       "      <td>-0.529214</td>\n",
       "      <td>-3.471708</td>\n",
       "      <td>-100.000000</td>\n",
       "      <td>-100.000000</td>\n",
       "      <td>-100.000000</td>\n",
       "      <td>-100.000000</td>\n",
       "      <td>-100.000000</td>\n",
       "      <td>-100.000000</td>\n",
       "    </tr>\n",
       "    <tr>\n",
       "      <th>...</th>\n",
       "      <td>...</td>\n",
       "      <td>...</td>\n",
       "      <td>...</td>\n",
       "      <td>...</td>\n",
       "      <td>...</td>\n",
       "      <td>...</td>\n",
       "      <td>...</td>\n",
       "      <td>...</td>\n",
       "      <td>...</td>\n",
       "      <td>...</td>\n",
       "      <td>...</td>\n",
       "      <td>...</td>\n",
       "      <td>...</td>\n",
       "      <td>...</td>\n",
       "      <td>...</td>\n",
       "      <td>...</td>\n",
       "      <td>...</td>\n",
       "      <td>...</td>\n",
       "      <td>...</td>\n",
       "      <td>...</td>\n",
       "      <td>...</td>\n",
       "    </tr>\n",
       "    <tr>\n",
       "      <th>1135</th>\n",
       "      <td>win</td>\n",
       "      <td>2021/22</td>\n",
       "      <td>1.096860</td>\n",
       "      <td>7.664981</td>\n",
       "      <td>1.030113</td>\n",
       "      <td>-3.110702</td>\n",
       "      <td>-0.419559</td>\n",
       "      <td>0.173017</td>\n",
       "      <td>-2.291735</td>\n",
       "      <td>-0.189176</td>\n",
       "      <td>...</td>\n",
       "      <td>-1.604356</td>\n",
       "      <td>2.068204</td>\n",
       "      <td>-0.881599</td>\n",
       "      <td>-1.226240</td>\n",
       "      <td>-100.000000</td>\n",
       "      <td>-100.000000</td>\n",
       "      <td>-100.000000</td>\n",
       "      <td>-100.000000</td>\n",
       "      <td>-100.000000</td>\n",
       "      <td>-100.000000</td>\n",
       "    </tr>\n",
       "    <tr>\n",
       "      <th>1136</th>\n",
       "      <td>win</td>\n",
       "      <td>2021/22</td>\n",
       "      <td>0.334105</td>\n",
       "      <td>3.979458</td>\n",
       "      <td>0.309591</td>\n",
       "      <td>-3.123301</td>\n",
       "      <td>-0.053396</td>\n",
       "      <td>-0.840144</td>\n",
       "      <td>-2.975121</td>\n",
       "      <td>-0.110232</td>\n",
       "      <td>...</td>\n",
       "      <td>-0.690187</td>\n",
       "      <td>2.041043</td>\n",
       "      <td>-1.006175</td>\n",
       "      <td>-3.622045</td>\n",
       "      <td>1.180349</td>\n",
       "      <td>-0.571187</td>\n",
       "      <td>-1.254287</td>\n",
       "      <td>-100.000000</td>\n",
       "      <td>-100.000000</td>\n",
       "      <td>-100.000000</td>\n",
       "    </tr>\n",
       "    <tr>\n",
       "      <th>1137</th>\n",
       "      <td>lose</td>\n",
       "      <td>2021/22</td>\n",
       "      <td>0.935548</td>\n",
       "      <td>6.279345</td>\n",
       "      <td>0.752885</td>\n",
       "      <td>-2.725118</td>\n",
       "      <td>-0.222117</td>\n",
       "      <td>-0.084760</td>\n",
       "      <td>-2.359624</td>\n",
       "      <td>-0.233390</td>\n",
       "      <td>...</td>\n",
       "      <td>-100.000000</td>\n",
       "      <td>2.089158</td>\n",
       "      <td>-0.930276</td>\n",
       "      <td>-3.477027</td>\n",
       "      <td>1.293585</td>\n",
       "      <td>-1.183664</td>\n",
       "      <td>2.243419</td>\n",
       "      <td>1.281312</td>\n",
       "      <td>-0.590887</td>\n",
       "      <td>0.282728</td>\n",
       "    </tr>\n",
       "    <tr>\n",
       "      <th>1138</th>\n",
       "      <td>win</td>\n",
       "      <td>2021/22</td>\n",
       "      <td>1.182444</td>\n",
       "      <td>7.042481</td>\n",
       "      <td>0.819191</td>\n",
       "      <td>-2.873911</td>\n",
       "      <td>-0.669088</td>\n",
       "      <td>0.491676</td>\n",
       "      <td>-2.763736</td>\n",
       "      <td>-0.132193</td>\n",
       "      <td>...</td>\n",
       "      <td>0.762411</td>\n",
       "      <td>1.627330</td>\n",
       "      <td>-1.141200</td>\n",
       "      <td>-1.083433</td>\n",
       "      <td>-100.000000</td>\n",
       "      <td>-100.000000</td>\n",
       "      <td>-100.000000</td>\n",
       "      <td>-100.000000</td>\n",
       "      <td>-100.000000</td>\n",
       "      <td>-100.000000</td>\n",
       "    </tr>\n",
       "    <tr>\n",
       "      <th>1139</th>\n",
       "      <td>lose</td>\n",
       "      <td>2021/22</td>\n",
       "      <td>1.031642</td>\n",
       "      <td>6.347971</td>\n",
       "      <td>0.806500</td>\n",
       "      <td>-2.044447</td>\n",
       "      <td>-0.824669</td>\n",
       "      <td>0.954626</td>\n",
       "      <td>-1.981579</td>\n",
       "      <td>0.210358</td>\n",
       "      <td>...</td>\n",
       "      <td>0.064083</td>\n",
       "      <td>1.891796</td>\n",
       "      <td>-0.965173</td>\n",
       "      <td>0.234975</td>\n",
       "      <td>-100.000000</td>\n",
       "      <td>-100.000000</td>\n",
       "      <td>-100.000000</td>\n",
       "      <td>-100.000000</td>\n",
       "      <td>-100.000000</td>\n",
       "      <td>-100.000000</td>\n",
       "    </tr>\n",
       "  </tbody>\n",
       "</table>\n",
       "<p>1140 rows × 83 columns</p>\n",
       "</div>"
      ],
      "text/plain": [
       "     home_result   season       0_0       1_0       2_0       0_1       1_1  \\\n",
       "0           lose  2019/20  1.286584  7.035507  1.259102 -2.931753  0.062317   \n",
       "1            win  2019/20  0.771112  2.864098  0.136227 -3.137167 -0.522932   \n",
       "2            win  2019/20  1.081934  6.476357  1.060024 -3.610155 -0.617447   \n",
       "3            win  2019/20  1.270547  6.125389  0.866984 -3.375562 -0.538387   \n",
       "4            win  2019/20  1.446074  7.081245  1.423544 -3.169787 -0.700700   \n",
       "...          ...      ...       ...       ...       ...       ...       ...   \n",
       "1135         win  2021/22  1.096860  7.664981  1.030113 -3.110702 -0.419559   \n",
       "1136         win  2021/22  0.334105  3.979458  0.309591 -3.123301 -0.053396   \n",
       "1137        lose  2021/22  0.935548  6.279345  0.752885 -2.725118 -0.222117   \n",
       "1138         win  2021/22  1.182444  7.042481  0.819191 -2.873911 -0.669088   \n",
       "1139        lose  2021/22  1.031642  6.347971  0.806500 -2.044447 -0.824669   \n",
       "\n",
       "           2_1       0_2       1_2  ...        2_23      0_24      1_24  \\\n",
       "0    -1.631287 -2.707726 -0.607117  ... -100.000000  2.247774 -0.737455   \n",
       "1    -0.568367 -2.725580 -0.359102  ...   -0.780148  1.990417 -0.727778   \n",
       "2     3.083772 -3.131397 -0.594232  ...    2.718124  2.234902 -0.764160   \n",
       "3    -1.682440 -3.103326  0.157253  ... -100.000000  1.980681 -0.619516   \n",
       "4     0.751141 -2.441979 -0.588787  ...    0.878456  2.518209 -0.529214   \n",
       "...        ...       ...       ...  ...         ...       ...       ...   \n",
       "1135  0.173017 -2.291735 -0.189176  ...   -1.604356  2.068204 -0.881599   \n",
       "1136 -0.840144 -2.975121 -0.110232  ...   -0.690187  2.041043 -1.006175   \n",
       "1137 -0.084760 -2.359624 -0.233390  ... -100.000000  2.089158 -0.930276   \n",
       "1138  0.491676 -2.763736 -0.132193  ...    0.762411  1.627330 -1.141200   \n",
       "1139  0.954626 -1.981579  0.210358  ...    0.064083  1.891796 -0.965173   \n",
       "\n",
       "          2_24        0_25        1_25        2_25        0_26        1_26  \\\n",
       "0    -1.588368    2.059278   -1.289581   -0.214014   -0.025312   -0.479952   \n",
       "1    -2.796785 -100.000000 -100.000000 -100.000000 -100.000000 -100.000000   \n",
       "2    -0.524770 -100.000000 -100.000000 -100.000000 -100.000000 -100.000000   \n",
       "3    -1.541976    1.383543   -0.932270    0.070167    1.083550   -0.641444   \n",
       "4    -3.471708 -100.000000 -100.000000 -100.000000 -100.000000 -100.000000   \n",
       "...        ...         ...         ...         ...         ...         ...   \n",
       "1135 -1.226240 -100.000000 -100.000000 -100.000000 -100.000000 -100.000000   \n",
       "1136 -3.622045    1.180349   -0.571187   -1.254287 -100.000000 -100.000000   \n",
       "1137 -3.477027    1.293585   -1.183664    2.243419    1.281312   -0.590887   \n",
       "1138 -1.083433 -100.000000 -100.000000 -100.000000 -100.000000 -100.000000   \n",
       "1139  0.234975 -100.000000 -100.000000 -100.000000 -100.000000 -100.000000   \n",
       "\n",
       "            2_26  \n",
       "0       1.471758  \n",
       "1    -100.000000  \n",
       "2    -100.000000  \n",
       "3       1.485667  \n",
       "4    -100.000000  \n",
       "...          ...  \n",
       "1135 -100.000000  \n",
       "1136 -100.000000  \n",
       "1137    0.282728  \n",
       "1138 -100.000000  \n",
       "1139 -100.000000  \n",
       "\n",
       "[1140 rows x 83 columns]"
      ]
     },
     "execution_count": 6,
     "metadata": {},
     "output_type": "execute_result"
    }
   ],
   "source": [
    "df_matches "
   ]
  },
  {
   "cell_type": "code",
   "execution_count": 7,
   "metadata": {},
   "outputs": [
    {
     "data": {
      "text/html": [
       "<div>\n",
       "<style scoped>\n",
       "    .dataframe tbody tr th:only-of-type {\n",
       "        vertical-align: middle;\n",
       "    }\n",
       "\n",
       "    .dataframe tbody tr th {\n",
       "        vertical-align: top;\n",
       "    }\n",
       "\n",
       "    .dataframe thead th {\n",
       "        text-align: right;\n",
       "    }\n",
       "</style>\n",
       "<table border=\"1\" class=\"dataframe\">\n",
       "  <thead>\n",
       "    <tr style=\"text-align: right;\">\n",
       "      <th></th>\n",
       "      <th>home/gk_0</th>\n",
       "      <th>home/df_0</th>\n",
       "      <th>home/df_1</th>\n",
       "      <th>home/df_2</th>\n",
       "      <th>home/df_3</th>\n",
       "      <th>home/df_4</th>\n",
       "      <th>home/mf_0</th>\n",
       "      <th>home/mf_1</th>\n",
       "      <th>home/mf_2</th>\n",
       "      <th>home/mf_3</th>\n",
       "      <th>...</th>\n",
       "      <th>id_24</th>\n",
       "      <th>0_25</th>\n",
       "      <th>1_25</th>\n",
       "      <th>2_25</th>\n",
       "      <th>id_25</th>\n",
       "      <th>0_26</th>\n",
       "      <th>1_26</th>\n",
       "      <th>2_26</th>\n",
       "      <th>id_26</th>\n",
       "      <th>away_result</th>\n",
       "    </tr>\n",
       "  </thead>\n",
       "  <tbody>\n",
       "    <tr>\n",
       "      <th>0</th>\n",
       "      <td>37096.0</td>\n",
       "      <td>219924.0</td>\n",
       "      <td>81012.0</td>\n",
       "      <td>55459.0</td>\n",
       "      <td>166640.0</td>\n",
       "      <td>-1.0</td>\n",
       "      <td>204480.0</td>\n",
       "      <td>101537.0</td>\n",
       "      <td>57531.0</td>\n",
       "      <td>86934.0</td>\n",
       "      <td>...</td>\n",
       "      <td>205651</td>\n",
       "      <td>2.059278</td>\n",
       "      <td>-1.289581</td>\n",
       "      <td>-0.214014</td>\n",
       "      <td>103955</td>\n",
       "      <td>-0.025312</td>\n",
       "      <td>-0.479952</td>\n",
       "      <td>1.471758</td>\n",
       "      <td>103025</td>\n",
       "      <td>win</td>\n",
       "    </tr>\n",
       "    <tr>\n",
       "      <th>1</th>\n",
       "      <td>37915.0</td>\n",
       "      <td>55605.0</td>\n",
       "      <td>173904.0</td>\n",
       "      <td>158534.0</td>\n",
       "      <td>38290.0</td>\n",
       "      <td>-1.0</td>\n",
       "      <td>62974.0</td>\n",
       "      <td>231372.0</td>\n",
       "      <td>157668.0</td>\n",
       "      <td>45268.0</td>\n",
       "      <td>...</td>\n",
       "      <td>213345</td>\n",
       "      <td>-100.000000</td>\n",
       "      <td>-100.000000</td>\n",
       "      <td>-100.000000</td>\n",
       "      <td>-1</td>\n",
       "      <td>-100.000000</td>\n",
       "      <td>-100.000000</td>\n",
       "      <td>-100.000000</td>\n",
       "      <td>-1</td>\n",
       "      <td>lose</td>\n",
       "    </tr>\n",
       "    <tr>\n",
       "      <th>2</th>\n",
       "      <td>116535.0</td>\n",
       "      <td>169187.0</td>\n",
       "      <td>122798.0</td>\n",
       "      <td>97032.0</td>\n",
       "      <td>171287.0</td>\n",
       "      <td>-1.0</td>\n",
       "      <td>56979.0</td>\n",
       "      <td>116643.0</td>\n",
       "      <td>41733.0</td>\n",
       "      <td>-1.0</td>\n",
       "      <td>...</td>\n",
       "      <td>57127</td>\n",
       "      <td>-100.000000</td>\n",
       "      <td>-100.000000</td>\n",
       "      <td>-100.000000</td>\n",
       "      <td>-1</td>\n",
       "      <td>-100.000000</td>\n",
       "      <td>-100.000000</td>\n",
       "      <td>-100.000000</td>\n",
       "      <td>-1</td>\n",
       "      <td>lose</td>\n",
       "    </tr>\n",
       "    <tr>\n",
       "      <th>3</th>\n",
       "      <td>98747.0</td>\n",
       "      <td>17761.0</td>\n",
       "      <td>51927.0</td>\n",
       "      <td>68983.0</td>\n",
       "      <td>39487.0</td>\n",
       "      <td>-1.0</td>\n",
       "      <td>433154.0</td>\n",
       "      <td>60551.0</td>\n",
       "      <td>40145.0</td>\n",
       "      <td>60586.0</td>\n",
       "      <td>...</td>\n",
       "      <td>200439</td>\n",
       "      <td>1.383543</td>\n",
       "      <td>-0.932270</td>\n",
       "      <td>0.070167</td>\n",
       "      <td>84939</td>\n",
       "      <td>1.083550</td>\n",
       "      <td>-0.641444</td>\n",
       "      <td>1.485667</td>\n",
       "      <td>83283</td>\n",
       "      <td>lose</td>\n",
       "    </tr>\n",
       "    <tr>\n",
       "      <th>4</th>\n",
       "      <td>51940.0</td>\n",
       "      <td>214590.0</td>\n",
       "      <td>95658.0</td>\n",
       "      <td>184667.0</td>\n",
       "      <td>106760.0</td>\n",
       "      <td>-1.0</td>\n",
       "      <td>109322.0</td>\n",
       "      <td>156689.0</td>\n",
       "      <td>176297.0</td>\n",
       "      <td>195851.0</td>\n",
       "      <td>...</td>\n",
       "      <td>173879</td>\n",
       "      <td>-100.000000</td>\n",
       "      <td>-100.000000</td>\n",
       "      <td>-100.000000</td>\n",
       "      <td>-1</td>\n",
       "      <td>-100.000000</td>\n",
       "      <td>-100.000000</td>\n",
       "      <td>-100.000000</td>\n",
       "      <td>-1</td>\n",
       "      <td>lose</td>\n",
       "    </tr>\n",
       "    <tr>\n",
       "      <th>...</th>\n",
       "      <td>...</td>\n",
       "      <td>...</td>\n",
       "      <td>...</td>\n",
       "      <td>...</td>\n",
       "      <td>...</td>\n",
       "      <td>...</td>\n",
       "      <td>...</td>\n",
       "      <td>...</td>\n",
       "      <td>...</td>\n",
       "      <td>...</td>\n",
       "      <td>...</td>\n",
       "      <td>...</td>\n",
       "      <td>...</td>\n",
       "      <td>...</td>\n",
       "      <td>...</td>\n",
       "      <td>...</td>\n",
       "      <td>...</td>\n",
       "      <td>...</td>\n",
       "      <td>...</td>\n",
       "      <td>...</td>\n",
       "      <td>...</td>\n",
       "    </tr>\n",
       "    <tr>\n",
       "      <th>1135</th>\n",
       "      <td>37096.0</td>\n",
       "      <td>55459.0</td>\n",
       "      <td>164555.0</td>\n",
       "      <td>60232.0</td>\n",
       "      <td>219924.0</td>\n",
       "      <td>-1.0</td>\n",
       "      <td>180151.0</td>\n",
       "      <td>86934.0</td>\n",
       "      <td>178186.0</td>\n",
       "      <td>204480.0</td>\n",
       "      <td>...</td>\n",
       "      <td>57127</td>\n",
       "      <td>-100.000000</td>\n",
       "      <td>-100.000000</td>\n",
       "      <td>-100.000000</td>\n",
       "      <td>-1</td>\n",
       "      <td>-100.000000</td>\n",
       "      <td>-100.000000</td>\n",
       "      <td>-100.000000</td>\n",
       "      <td>-1</td>\n",
       "      <td>lose</td>\n",
       "    </tr>\n",
       "    <tr>\n",
       "      <th>1136</th>\n",
       "      <td>40383.0</td>\n",
       "      <td>171771.0</td>\n",
       "      <td>450527.0</td>\n",
       "      <td>212721.0</td>\n",
       "      <td>-1.0</td>\n",
       "      <td>-1.0</td>\n",
       "      <td>203389.0</td>\n",
       "      <td>240143.0</td>\n",
       "      <td>78056.0</td>\n",
       "      <td>244560.0</td>\n",
       "      <td>...</td>\n",
       "      <td>144485</td>\n",
       "      <td>1.180349</td>\n",
       "      <td>-0.571187</td>\n",
       "      <td>-1.254287</td>\n",
       "      <td>446008</td>\n",
       "      <td>-100.000000</td>\n",
       "      <td>-100.000000</td>\n",
       "      <td>-100.000000</td>\n",
       "      <td>-1</td>\n",
       "      <td>lose</td>\n",
       "    </tr>\n",
       "    <tr>\n",
       "      <th>1137</th>\n",
       "      <td>51940.0</td>\n",
       "      <td>214590.0</td>\n",
       "      <td>90152.0</td>\n",
       "      <td>106760.0</td>\n",
       "      <td>76359.0</td>\n",
       "      <td>-1.0</td>\n",
       "      <td>195851.0</td>\n",
       "      <td>62398.0</td>\n",
       "      <td>209243.0</td>\n",
       "      <td>220688.0</td>\n",
       "      <td>...</td>\n",
       "      <td>102057</td>\n",
       "      <td>1.293585</td>\n",
       "      <td>-1.183664</td>\n",
       "      <td>2.243419</td>\n",
       "      <td>200600</td>\n",
       "      <td>1.281312</td>\n",
       "      <td>-0.590887</td>\n",
       "      <td>0.282728</td>\n",
       "      <td>222564</td>\n",
       "      <td>win</td>\n",
       "    </tr>\n",
       "    <tr>\n",
       "      <th>1138</th>\n",
       "      <td>116535.0</td>\n",
       "      <td>60914.0</td>\n",
       "      <td>122798.0</td>\n",
       "      <td>97032.0</td>\n",
       "      <td>169187.0</td>\n",
       "      <td>-1.0</td>\n",
       "      <td>206915.0</td>\n",
       "      <td>61558.0</td>\n",
       "      <td>116643.0</td>\n",
       "      <td>-1.0</td>\n",
       "      <td>...</td>\n",
       "      <td>200617</td>\n",
       "      <td>-100.000000</td>\n",
       "      <td>-100.000000</td>\n",
       "      <td>-100.000000</td>\n",
       "      <td>-1</td>\n",
       "      <td>-100.000000</td>\n",
       "      <td>-100.000000</td>\n",
       "      <td>-100.000000</td>\n",
       "      <td>-1</td>\n",
       "      <td>lose</td>\n",
       "    </tr>\n",
       "    <tr>\n",
       "      <th>1139</th>\n",
       "      <td>67089.0</td>\n",
       "      <td>58845.0</td>\n",
       "      <td>101148.0</td>\n",
       "      <td>56983.0</td>\n",
       "      <td>114243.0</td>\n",
       "      <td>-1.0</td>\n",
       "      <td>180974.0</td>\n",
       "      <td>179018.0</td>\n",
       "      <td>200089.0</td>\n",
       "      <td>90105.0</td>\n",
       "      <td>...</td>\n",
       "      <td>205651</td>\n",
       "      <td>-100.000000</td>\n",
       "      <td>-100.000000</td>\n",
       "      <td>-100.000000</td>\n",
       "      <td>-1</td>\n",
       "      <td>-100.000000</td>\n",
       "      <td>-100.000000</td>\n",
       "      <td>-100.000000</td>\n",
       "      <td>-1</td>\n",
       "      <td>win</td>\n",
       "    </tr>\n",
       "  </tbody>\n",
       "</table>\n",
       "<p>1140 rows × 140 columns</p>\n",
       "</div>"
      ],
      "text/plain": [
       "      home/gk_0  home/df_0  home/df_1  home/df_2  home/df_3  home/df_4  \\\n",
       "0       37096.0   219924.0    81012.0    55459.0   166640.0       -1.0   \n",
       "1       37915.0    55605.0   173904.0   158534.0    38290.0       -1.0   \n",
       "2      116535.0   169187.0   122798.0    97032.0   171287.0       -1.0   \n",
       "3       98747.0    17761.0    51927.0    68983.0    39487.0       -1.0   \n",
       "4       51940.0   214590.0    95658.0   184667.0   106760.0       -1.0   \n",
       "...         ...        ...        ...        ...        ...        ...   \n",
       "1135    37096.0    55459.0   164555.0    60232.0   219924.0       -1.0   \n",
       "1136    40383.0   171771.0   450527.0   212721.0       -1.0       -1.0   \n",
       "1137    51940.0   214590.0    90152.0   106760.0    76359.0       -1.0   \n",
       "1138   116535.0    60914.0   122798.0    97032.0   169187.0       -1.0   \n",
       "1139    67089.0    58845.0   101148.0    56983.0   114243.0       -1.0   \n",
       "\n",
       "      home/mf_0  home/mf_1  home/mf_2  home/mf_3  ...   id_24        0_25  \\\n",
       "0      204480.0   101537.0    57531.0    86934.0  ...  205651    2.059278   \n",
       "1       62974.0   231372.0   157668.0    45268.0  ...  213345 -100.000000   \n",
       "2       56979.0   116643.0    41733.0       -1.0  ...   57127 -100.000000   \n",
       "3      433154.0    60551.0    40145.0    60586.0  ...  200439    1.383543   \n",
       "4      109322.0   156689.0   176297.0   195851.0  ...  173879 -100.000000   \n",
       "...         ...        ...        ...        ...  ...     ...         ...   \n",
       "1135   180151.0    86934.0   178186.0   204480.0  ...   57127 -100.000000   \n",
       "1136   203389.0   240143.0    78056.0   244560.0  ...  144485    1.180349   \n",
       "1137   195851.0    62398.0   209243.0   220688.0  ...  102057    1.293585   \n",
       "1138   206915.0    61558.0   116643.0       -1.0  ...  200617 -100.000000   \n",
       "1139   180974.0   179018.0   200089.0    90105.0  ...  205651 -100.000000   \n",
       "\n",
       "            1_25        2_25   id_25        0_26        1_26        2_26  \\\n",
       "0      -1.289581   -0.214014  103955   -0.025312   -0.479952    1.471758   \n",
       "1    -100.000000 -100.000000      -1 -100.000000 -100.000000 -100.000000   \n",
       "2    -100.000000 -100.000000      -1 -100.000000 -100.000000 -100.000000   \n",
       "3      -0.932270    0.070167   84939    1.083550   -0.641444    1.485667   \n",
       "4    -100.000000 -100.000000      -1 -100.000000 -100.000000 -100.000000   \n",
       "...          ...         ...     ...         ...         ...         ...   \n",
       "1135 -100.000000 -100.000000      -1 -100.000000 -100.000000 -100.000000   \n",
       "1136   -0.571187   -1.254287  446008 -100.000000 -100.000000 -100.000000   \n",
       "1137   -1.183664    2.243419  200600    1.281312   -0.590887    0.282728   \n",
       "1138 -100.000000 -100.000000      -1 -100.000000 -100.000000 -100.000000   \n",
       "1139 -100.000000 -100.000000      -1 -100.000000 -100.000000 -100.000000   \n",
       "\n",
       "       id_26  away_result  \n",
       "0     103025          win  \n",
       "1         -1         lose  \n",
       "2         -1         lose  \n",
       "3      83283         lose  \n",
       "4         -1         lose  \n",
       "...      ...          ...  \n",
       "1135      -1         lose  \n",
       "1136      -1         lose  \n",
       "1137  222564          win  \n",
       "1138      -1         lose  \n",
       "1139      -1          win  \n",
       "\n",
       "[1140 rows x 140 columns]"
      ]
     },
     "execution_count": 7,
     "metadata": {},
     "output_type": "execute_result"
    }
   ],
   "source": [
    "df_id"
   ]
  },
  {
   "cell_type": "markdown",
   "metadata": {},
   "source": [
    "# 2. EDA"
   ]
  },
  {
   "cell_type": "code",
   "execution_count": null,
   "metadata": {},
   "outputs": [],
   "source": [
    "num_player_by_pos = {}\n",
    "num_player_by_pos['gk'] = len(set(zip(df_id['home/gk_0'])))\n",
    "num_player_by_pos['df'] = len(set(zip(df_id['home/df_0'],df_id['home/df_1'],df_id['home/df_2'],df_id['home/df_3'],df_id['home/df_4'])))\n",
    "num_player_by_pos['mf'] = len(set(zip(df_id['home/mf_0'],df_id['home/mf_1'],df_id['home/mf_2'],df_id['home/mf_3'],df_id['home/mf_4'])))\n",
    "num_player_by_pos['fw'] = len(set(zip(df_id['home/fw_0'],df_id['home/fw_1'],df_id['home/fw_2'])))\n",
    "\n",
    "num_player_by_pos_df = pd.DataFrame(list(num_player_by_pos.items()), columns=['position', 'no_players'])"
   ]
  },
  {
   "cell_type": "code",
   "execution_count": null,
   "metadata": {},
   "outputs": [
    {
     "data": {
      "image/png": "[encoded data removed]",
      "text/plain": [
       "<Figure size 432x288 with 1 Axes>"
      ]
     },
     "metadata": {},
     "output_type": "display_data"
    },
    {
     "name": "stdout",
     "output_type": "stream",
     "text": [
      "Saving figure no_players_pos\n"
     ]
    },
    {
     "data": {
      "text/plain": [
       "<Figure size 432x288 with 0 Axes>"
      ]
     },
     "metadata": {},
     "output_type": "display_data"
    }
   ],
   "source": [
    "sns.barplot(x='position', y='no_players', data=num_player_by_pos_df)\n",
    "plt.show()\n",
    "save_fig(\"no_players_pos\")"
   ]
  },
  {
   "cell_type": "markdown",
   "metadata": {},
   "source": [
    "### Season 2019/2020"
   ]
  },
  {
   "cell_type": "code",
   "execution_count": 8,
   "metadata": {},
   "outputs": [
    {
     "data": {
      "text/html": [
       "<div>\n",
       "<style scoped>\n",
       "    .dataframe tbody tr th:only-of-type {\n",
       "        vertical-align: middle;\n",
       "    }\n",
       "\n",
       "    .dataframe tbody tr th {\n",
       "        vertical-align: top;\n",
       "    }\n",
       "\n",
       "    .dataframe thead th {\n",
       "        text-align: right;\n",
       "    }\n",
       "</style>\n",
       "<table border=\"1\" class=\"dataframe\">\n",
       "  <thead>\n",
       "    <tr style=\"text-align: right;\">\n",
       "      <th></th>\n",
       "      <th>home/gk_0</th>\n",
       "      <th>home/df_0</th>\n",
       "      <th>home/df_1</th>\n",
       "      <th>home/df_2</th>\n",
       "      <th>home/df_3</th>\n",
       "      <th>home/df_4</th>\n",
       "      <th>home/mf_0</th>\n",
       "      <th>home/mf_1</th>\n",
       "      <th>home/mf_2</th>\n",
       "      <th>home/mf_3</th>\n",
       "      <th>...</th>\n",
       "      <th>id_24</th>\n",
       "      <th>0_25</th>\n",
       "      <th>1_25</th>\n",
       "      <th>2_25</th>\n",
       "      <th>id_25</th>\n",
       "      <th>0_26</th>\n",
       "      <th>1_26</th>\n",
       "      <th>2_26</th>\n",
       "      <th>id_26</th>\n",
       "      <th>away_result</th>\n",
       "    </tr>\n",
       "  </thead>\n",
       "  <tbody>\n",
       "    <tr>\n",
       "      <th>0</th>\n",
       "      <td>37096.0</td>\n",
       "      <td>219924.0</td>\n",
       "      <td>81012.0</td>\n",
       "      <td>55459.0</td>\n",
       "      <td>166640.0</td>\n",
       "      <td>-1.0</td>\n",
       "      <td>204480.0</td>\n",
       "      <td>101537.0</td>\n",
       "      <td>57531.0</td>\n",
       "      <td>86934.0</td>\n",
       "      <td>...</td>\n",
       "      <td>205651</td>\n",
       "      <td>2.059278</td>\n",
       "      <td>-1.289581</td>\n",
       "      <td>-0.214014</td>\n",
       "      <td>103955</td>\n",
       "      <td>-0.025312</td>\n",
       "      <td>-0.479952</td>\n",
       "      <td>1.471758</td>\n",
       "      <td>103025</td>\n",
       "      <td>win</td>\n",
       "    </tr>\n",
       "    <tr>\n",
       "      <th>1</th>\n",
       "      <td>37915.0</td>\n",
       "      <td>55605.0</td>\n",
       "      <td>173904.0</td>\n",
       "      <td>158534.0</td>\n",
       "      <td>38290.0</td>\n",
       "      <td>-1.0</td>\n",
       "      <td>62974.0</td>\n",
       "      <td>231372.0</td>\n",
       "      <td>157668.0</td>\n",
       "      <td>45268.0</td>\n",
       "      <td>...</td>\n",
       "      <td>213345</td>\n",
       "      <td>-100.000000</td>\n",
       "      <td>-100.000000</td>\n",
       "      <td>-100.000000</td>\n",
       "      <td>-1</td>\n",
       "      <td>-100.000000</td>\n",
       "      <td>-100.000000</td>\n",
       "      <td>-100.000000</td>\n",
       "      <td>-1</td>\n",
       "      <td>lose</td>\n",
       "    </tr>\n",
       "    <tr>\n",
       "      <th>2</th>\n",
       "      <td>116535.0</td>\n",
       "      <td>169187.0</td>\n",
       "      <td>122798.0</td>\n",
       "      <td>97032.0</td>\n",
       "      <td>171287.0</td>\n",
       "      <td>-1.0</td>\n",
       "      <td>56979.0</td>\n",
       "      <td>116643.0</td>\n",
       "      <td>41733.0</td>\n",
       "      <td>-1.0</td>\n",
       "      <td>...</td>\n",
       "      <td>57127</td>\n",
       "      <td>-100.000000</td>\n",
       "      <td>-100.000000</td>\n",
       "      <td>-100.000000</td>\n",
       "      <td>-1</td>\n",
       "      <td>-100.000000</td>\n",
       "      <td>-100.000000</td>\n",
       "      <td>-100.000000</td>\n",
       "      <td>-1</td>\n",
       "      <td>lose</td>\n",
       "    </tr>\n",
       "    <tr>\n",
       "      <th>3</th>\n",
       "      <td>98747.0</td>\n",
       "      <td>17761.0</td>\n",
       "      <td>51927.0</td>\n",
       "      <td>68983.0</td>\n",
       "      <td>39487.0</td>\n",
       "      <td>-1.0</td>\n",
       "      <td>433154.0</td>\n",
       "      <td>60551.0</td>\n",
       "      <td>40145.0</td>\n",
       "      <td>60586.0</td>\n",
       "      <td>...</td>\n",
       "      <td>200439</td>\n",
       "      <td>1.383543</td>\n",
       "      <td>-0.932270</td>\n",
       "      <td>0.070167</td>\n",
       "      <td>84939</td>\n",
       "      <td>1.083550</td>\n",
       "      <td>-0.641444</td>\n",
       "      <td>1.485667</td>\n",
       "      <td>83283</td>\n",
       "      <td>lose</td>\n",
       "    </tr>\n",
       "    <tr>\n",
       "      <th>4</th>\n",
       "      <td>51940.0</td>\n",
       "      <td>214590.0</td>\n",
       "      <td>95658.0</td>\n",
       "      <td>184667.0</td>\n",
       "      <td>106760.0</td>\n",
       "      <td>-1.0</td>\n",
       "      <td>109322.0</td>\n",
       "      <td>156689.0</td>\n",
       "      <td>176297.0</td>\n",
       "      <td>195851.0</td>\n",
       "      <td>...</td>\n",
       "      <td>173879</td>\n",
       "      <td>-100.000000</td>\n",
       "      <td>-100.000000</td>\n",
       "      <td>-100.000000</td>\n",
       "      <td>-1</td>\n",
       "      <td>-100.000000</td>\n",
       "      <td>-100.000000</td>\n",
       "      <td>-100.000000</td>\n",
       "      <td>-1</td>\n",
       "      <td>lose</td>\n",
       "    </tr>\n",
       "    <tr>\n",
       "      <th>...</th>\n",
       "      <td>...</td>\n",
       "      <td>...</td>\n",
       "      <td>...</td>\n",
       "      <td>...</td>\n",
       "      <td>...</td>\n",
       "      <td>...</td>\n",
       "      <td>...</td>\n",
       "      <td>...</td>\n",
       "      <td>...</td>\n",
       "      <td>...</td>\n",
       "      <td>...</td>\n",
       "      <td>...</td>\n",
       "      <td>...</td>\n",
       "      <td>...</td>\n",
       "      <td>...</td>\n",
       "      <td>...</td>\n",
       "      <td>...</td>\n",
       "      <td>...</td>\n",
       "      <td>...</td>\n",
       "      <td>...</td>\n",
       "      <td>...</td>\n",
       "    </tr>\n",
       "    <tr>\n",
       "      <th>375</th>\n",
       "      <td>121160.0</td>\n",
       "      <td>121145.0</td>\n",
       "      <td>58621.0</td>\n",
       "      <td>146941.0</td>\n",
       "      <td>432656.0</td>\n",
       "      <td>-1.0</td>\n",
       "      <td>220566.0</td>\n",
       "      <td>61366.0</td>\n",
       "      <td>20664.0</td>\n",
       "      <td>-1.0</td>\n",
       "      <td>...</td>\n",
       "      <td>57127</td>\n",
       "      <td>-100.000000</td>\n",
       "      <td>-100.000000</td>\n",
       "      <td>-100.000000</td>\n",
       "      <td>-1</td>\n",
       "      <td>-100.000000</td>\n",
       "      <td>-100.000000</td>\n",
       "      <td>-100.000000</td>\n",
       "      <td>-1</td>\n",
       "      <td>lose</td>\n",
       "    </tr>\n",
       "    <tr>\n",
       "      <th>376</th>\n",
       "      <td>67089.0</td>\n",
       "      <td>57145.0</td>\n",
       "      <td>109528.0</td>\n",
       "      <td>38290.0</td>\n",
       "      <td>-1.0</td>\n",
       "      <td>-1.0</td>\n",
       "      <td>56983.0</td>\n",
       "      <td>50232.0</td>\n",
       "      <td>179018.0</td>\n",
       "      <td>116543.0</td>\n",
       "      <td>...</td>\n",
       "      <td>152760</td>\n",
       "      <td>1.174299</td>\n",
       "      <td>-1.113883</td>\n",
       "      <td>1.427079</td>\n",
       "      <td>81880</td>\n",
       "      <td>-0.078340</td>\n",
       "      <td>-2.250698</td>\n",
       "      <td>1.454779</td>\n",
       "      <td>157882</td>\n",
       "      <td>win</td>\n",
       "    </tr>\n",
       "    <tr>\n",
       "      <th>377</th>\n",
       "      <td>58376.0</td>\n",
       "      <td>88900.0</td>\n",
       "      <td>93100.0</td>\n",
       "      <td>40146.0</td>\n",
       "      <td>158534.0</td>\n",
       "      <td>-1.0</td>\n",
       "      <td>91047.0</td>\n",
       "      <td>78056.0</td>\n",
       "      <td>83283.0</td>\n",
       "      <td>101178.0</td>\n",
       "      <td>...</td>\n",
       "      <td>18867</td>\n",
       "      <td>1.435788</td>\n",
       "      <td>-0.799341</td>\n",
       "      <td>-1.009852</td>\n",
       "      <td>169432</td>\n",
       "      <td>-100.000000</td>\n",
       "      <td>-100.000000</td>\n",
       "      <td>-100.000000</td>\n",
       "      <td>-1</td>\n",
       "      <td>lose</td>\n",
       "    </tr>\n",
       "    <tr>\n",
       "      <th>378</th>\n",
       "      <td>37096.0</td>\n",
       "      <td>219924.0</td>\n",
       "      <td>40669.0</td>\n",
       "      <td>81012.0</td>\n",
       "      <td>222018.0</td>\n",
       "      <td>-1.0</td>\n",
       "      <td>204480.0</td>\n",
       "      <td>217593.0</td>\n",
       "      <td>18073.0</td>\n",
       "      <td>215439.0</td>\n",
       "      <td>...</td>\n",
       "      <td>217487</td>\n",
       "      <td>-100.000000</td>\n",
       "      <td>-100.000000</td>\n",
       "      <td>-100.000000</td>\n",
       "      <td>-1</td>\n",
       "      <td>-100.000000</td>\n",
       "      <td>-100.000000</td>\n",
       "      <td>-100.000000</td>\n",
       "      <td>-1</td>\n",
       "      <td>draw</td>\n",
       "    </tr>\n",
       "    <tr>\n",
       "      <th>379</th>\n",
       "      <td>102884.0</td>\n",
       "      <td>80226.0</td>\n",
       "      <td>55605.0</td>\n",
       "      <td>173904.0</td>\n",
       "      <td>39194.0</td>\n",
       "      <td>-1.0</td>\n",
       "      <td>95715.0</td>\n",
       "      <td>85971.0</td>\n",
       "      <td>45268.0</td>\n",
       "      <td>108823.0</td>\n",
       "      <td>...</td>\n",
       "      <td>60689</td>\n",
       "      <td>2.156005</td>\n",
       "      <td>-0.583055</td>\n",
       "      <td>-3.138467</td>\n",
       "      <td>44683</td>\n",
       "      <td>-100.000000</td>\n",
       "      <td>-100.000000</td>\n",
       "      <td>-100.000000</td>\n",
       "      <td>-1</td>\n",
       "      <td>lose</td>\n",
       "    </tr>\n",
       "  </tbody>\n",
       "</table>\n",
       "<p>380 rows × 140 columns</p>\n",
       "</div>"
      ],
      "text/plain": [
       "     home/gk_0  home/df_0  home/df_1  home/df_2  home/df_3  home/df_4  \\\n",
       "0      37096.0   219924.0    81012.0    55459.0   166640.0       -1.0   \n",
       "1      37915.0    55605.0   173904.0   158534.0    38290.0       -1.0   \n",
       "2     116535.0   169187.0   122798.0    97032.0   171287.0       -1.0   \n",
       "3      98747.0    17761.0    51927.0    68983.0    39487.0       -1.0   \n",
       "4      51940.0   214590.0    95658.0   184667.0   106760.0       -1.0   \n",
       "..         ...        ...        ...        ...        ...        ...   \n",
       "375   121160.0   121145.0    58621.0   146941.0   432656.0       -1.0   \n",
       "376    67089.0    57145.0   109528.0    38290.0       -1.0       -1.0   \n",
       "377    58376.0    88900.0    93100.0    40146.0   158534.0       -1.0   \n",
       "378    37096.0   219924.0    40669.0    81012.0   222018.0       -1.0   \n",
       "379   102884.0    80226.0    55605.0   173904.0    39194.0       -1.0   \n",
       "\n",
       "     home/mf_0  home/mf_1  home/mf_2  home/mf_3  ...   id_24        0_25  \\\n",
       "0     204480.0   101537.0    57531.0    86934.0  ...  205651    2.059278   \n",
       "1      62974.0   231372.0   157668.0    45268.0  ...  213345 -100.000000   \n",
       "2      56979.0   116643.0    41733.0       -1.0  ...   57127 -100.000000   \n",
       "3     433154.0    60551.0    40145.0    60586.0  ...  200439    1.383543   \n",
       "4     109322.0   156689.0   176297.0   195851.0  ...  173879 -100.000000   \n",
       "..         ...        ...        ...        ...  ...     ...         ...   \n",
       "375   220566.0    61366.0    20664.0       -1.0  ...   57127 -100.000000   \n",
       "376    56983.0    50232.0   179018.0   116543.0  ...  152760    1.174299   \n",
       "377    91047.0    78056.0    83283.0   101178.0  ...   18867    1.435788   \n",
       "378   204480.0   217593.0    18073.0   215439.0  ...  217487 -100.000000   \n",
       "379    95715.0    85971.0    45268.0   108823.0  ...   60689    2.156005   \n",
       "\n",
       "           1_25        2_25   id_25        0_26        1_26        2_26  \\\n",
       "0     -1.289581   -0.214014  103955   -0.025312   -0.479952    1.471758   \n",
       "1   -100.000000 -100.000000      -1 -100.000000 -100.000000 -100.000000   \n",
       "2   -100.000000 -100.000000      -1 -100.000000 -100.000000 -100.000000   \n",
       "3     -0.932270    0.070167   84939    1.083550   -0.641444    1.485667   \n",
       "4   -100.000000 -100.000000      -1 -100.000000 -100.000000 -100.000000   \n",
       "..          ...         ...     ...         ...         ...         ...   \n",
       "375 -100.000000 -100.000000      -1 -100.000000 -100.000000 -100.000000   \n",
       "376   -1.113883    1.427079   81880   -0.078340   -2.250698    1.454779   \n",
       "377   -0.799341   -1.009852  169432 -100.000000 -100.000000 -100.000000   \n",
       "378 -100.000000 -100.000000      -1 -100.000000 -100.000000 -100.000000   \n",
       "379   -0.583055   -3.138467   44683 -100.000000 -100.000000 -100.000000   \n",
       "\n",
       "      id_26  away_result  \n",
       "0    103025          win  \n",
       "1        -1         lose  \n",
       "2        -1         lose  \n",
       "3     83283         lose  \n",
       "4        -1         lose  \n",
       "..      ...          ...  \n",
       "375      -1         lose  \n",
       "376  157882          win  \n",
       "377      -1         lose  \n",
       "378      -1         draw  \n",
       "379      -1         lose  \n",
       "\n",
       "[380 rows x 140 columns]"
      ]
     },
     "execution_count": 8,
     "metadata": {},
     "output_type": "execute_result"
    }
   ],
   "source": [
    "df_1920 = df_id[df_id['season']=='2019/20']\n",
    "df_1920"
   ]
  },
  {
   "cell_type": "code",
   "execution_count": 9,
   "metadata": {},
   "outputs": [
    {
     "name": "stdout",
     "output_type": "stream",
     "text": [
      "Total number of players showed up in the season:  470\n"
     ]
    }
   ],
   "source": [
    "# get the id of all players played in the season\n",
    "df_1920_ids = df_1920.loc[:,['id_0', 'id_1', 'id_2', 'id_3', 'id_4', 'id_5', 'id_6', 'id_7', 'id_8', 'id_9', 'id_10', 'id_11', 'id_12', 'id_13', 'id_14', 'id_15', 'id_16', 'id_17', 'id_18', 'id_19', 'id_20', 'id_21', 'id_22', 'id_23', 'id_24', 'id_25', 'id_26']]\n",
    "ids = list()\n",
    "ids_unique = list()\n",
    "for col in df_1920_ids:\n",
    "    ids_unique.append(df_1920_ids[col].unique())\n",
    "    ids.append(df_1920_ids[col])\n",
    "ids_unique = [i for sub in ids_unique for i in sub if i!= -1]\n",
    "ids = [i for sub in ids for i in sub if i!=-1]\n",
    "ids_unique = list(set(ids_unique))\n",
    "print(\"Total number of players showed up in the season: \", len(ids_unique))"
   ]
  },
  {
   "cell_type": "code",
   "execution_count": 10,
   "metadata": {},
   "outputs": [
    {
     "name": "stdout",
     "output_type": "stream",
     "text": [
      "Mean frequency:  17.74468085106383\n",
      "Max matches played by a player:  38\n",
      "Min matches played by a player:  1\n"
     ]
    },
    {
     "data": {
      "image/png": "[encoded data removed]",
      "text/plain": [
       "<Figure size 960x560 with 1 Axes>"
      ]
     },
     "metadata": {
      "needs_background": "light"
     },
     "output_type": "display_data"
    },
    {
     "name": "stdout",
     "output_type": "stream",
     "text": [
      "Saving figure freq_appeances_1920\n"
     ]
    },
    {
     "data": {
      "text/plain": [
       "<Figure size 432x288 with 0 Axes>"
      ]
     },
     "metadata": {},
     "output_type": "display_data"
    }
   ],
   "source": [
    "# get frequency of players occurances\n",
    "tup = list(Counter(ids).items())\n",
    "appear_1920 = dict(tup) # dict of number of appearances of players in the 19/20 season\n",
    "ind = [i[0] for i in tup]\n",
    "freq = np.array([i[1] for i in tup])\n",
    "print(\"Mean frequency: \", freq.mean())\n",
    "print(\"Max matches played by a player: \", freq.max())\n",
    "print(\"Min matches played by a player: \", freq.min())\n",
    "\n",
    "plt.figure(figsize=(12, 7), dpi=80)\n",
    "plt.hist(freq, bins=np.arange(freq.min(), freq.max()+1))\n",
    "plt.xticks(freq)\n",
    "plt.title(\"Frequency of player appearances in season 2019/20\")\n",
    "plt.show()\n",
    "save_fig(\"freq_appeances_1920\")"
   ]
  },
  {
   "cell_type": "code",
   "execution_count": 11,
   "metadata": {},
   "outputs": [
    {
     "name": "stdout",
     "output_type": "stream",
     "text": [
      "Saving figure freq_appearances_1920_boxplot\n"
     ]
    },
    {
     "data": {
      "image/png": "[encoded data removed]",
      "text/plain": [
       "<Figure size 432x288 with 1 Axes>"
      ]
     },
     "metadata": {
      "needs_background": "light"
     },
     "output_type": "display_data"
    }
   ],
   "source": [
    "plt.boxplot(freq)\n",
    "plt.title(\"Box plot for frequency of player appearances in season 2019/20\")\n",
    "save_fig(\"freq_appearances_1920_boxplot\")"
   ]
  },
  {
   "cell_type": "markdown",
   "metadata": {},
   "source": [
    "**NOTE:** The *2019/20* season have `470` different players, where a player can appear in upto 38 matches and at least 0 match. For this dataset, we only consider player that appear at least one time.\n",
    "\n",
    "Statiscally (proved in the Report), a player must appear in at least `18 matches` to have a statistically significant comparison at an 80% confidence level with an error margin of 5%.\n",
    "Therefore, to find the player with highest win/lose/draw ratio, we only consider players with over 18 appearances in the *2019/20* season."
   ]
  },
  {
   "cell_type": "markdown",
   "metadata": {},
   "source": [
    "### Season 2020/2021"
   ]
  },
  {
   "cell_type": "code",
   "execution_count": 12,
   "metadata": {},
   "outputs": [
    {
     "name": "stdout",
     "output_type": "stream",
     "text": [
      "Total number of players showed up in the season:  472\n"
     ]
    }
   ],
   "source": [
    "df_2021 = df_id[df_id['season']=='2020/21']\n",
    "df_2021\n",
    "\n",
    "# get the id of all players played in the season\n",
    "df_2021_ids = df_2021.loc[:,['id_0', 'id_1', 'id_2', 'id_3', 'id_4', 'id_5', 'id_6', 'id_7', 'id_8', 'id_9', 'id_10', 'id_11', 'id_12', 'id_13', 'id_14', 'id_15', 'id_16', 'id_17', 'id_18', 'id_19', 'id_20', 'id_21', 'id_22', 'id_23', 'id_24', 'id_25', 'id_26']]\n",
    "ids = list()\n",
    "ids_unique = list()\n",
    "for col in df_2021_ids:\n",
    "    ids_unique.append(df_2021_ids[col].unique())\n",
    "    ids.append(df_2021_ids[col])\n",
    "ids_unique = [i for sub in ids_unique for i in sub if i!= -1]\n",
    "ids = [i for sub in ids for i in sub if i!=-1]\n",
    "ids_unique = list(set(ids_unique))\n",
    "print(\"Total number of players showed up in the season: \", len(ids_unique))"
   ]
  },
  {
   "cell_type": "code",
   "execution_count": 13,
   "metadata": {},
   "outputs": [
    {
     "name": "stdout",
     "output_type": "stream",
     "text": [
      "Mean frequency:  17.658898305084747\n",
      "Max matches played by a player:  38\n",
      "Min matches played by a player:  1\n"
     ]
    },
    {
     "data": {
      "image/png": "[encoded data removed]",
      "text/plain": [
       "<Figure size 960x560 with 1 Axes>"
      ]
     },
     "metadata": {
      "needs_background": "light"
     },
     "output_type": "display_data"
    },
    {
     "name": "stdout",
     "output_type": "stream",
     "text": [
      "Saving figure freq_appeances_2021\n"
     ]
    },
    {
     "data": {
      "text/plain": [
       "<Figure size 432x288 with 0 Axes>"
      ]
     },
     "metadata": {},
     "output_type": "display_data"
    }
   ],
   "source": [
    "# get frequency of players occurances\n",
    "tup = list(Counter(ids).items())\n",
    "appear_2021 = dict(tup) # dict of number of appearances of players in the 20/21 season\n",
    "\n",
    "ind = [i[0] for i in tup]\n",
    "freq = np.array([i[1] for i in tup])\n",
    "print(\"Mean frequency: \", freq.mean())\n",
    "print(\"Max matches played by a player: \", freq.max())\n",
    "print(\"Min matches played by a player: \", freq.min())\n",
    "\n",
    "plt.figure(figsize=(12, 7), dpi=80)\n",
    "plt.hist(freq, bins=np.arange(freq.min(), freq.max()+1))\n",
    "plt.xticks(freq)\n",
    "\n",
    "plt.title(\"Frequency of player appearances in season 2020/21\")\n",
    "plt.show()\n",
    "save_fig(\"freq_appeances_2021\")"
   ]
  },
  {
   "cell_type": "code",
   "execution_count": 14,
   "metadata": {},
   "outputs": [
    {
     "name": "stdout",
     "output_type": "stream",
     "text": [
      "Saving figure freq_appearances_2021_boxplot\n"
     ]
    },
    {
     "data": {
      "image/png": "[encoded data removed]",
      "text/plain": [
       "<Figure size 432x288 with 1 Axes>"
      ]
     },
     "metadata": {
      "needs_background": "light"
     },
     "output_type": "display_data"
    }
   ],
   "source": [
    "plt.boxplot(freq)\n",
    "plt.title(\"Box plot for frequency of player appearances in season 2020/21\")\n",
    "save_fig(\"freq_appearances_2021_boxplot\")"
   ]
  },
  {
   "cell_type": "markdown",
   "metadata": {},
   "source": [
    "**NOTE:** The *2020/21* season have `472` different players, where a player can appear in upto 38 matches and at least 0 match. For this dataset, we only consider player that appear at least one time.\n",
    "\n",
    "Statiscally (proved in the Report), a player must appear in at least `19 matches` to have a statistically significant comparison at an 80% confidence level with an error margin of 5%.\n",
    "Therefore, to find the player with highest win/lose/draw ratio, we only consider players with over 19 appearances in the *2020/21* season."
   ]
  },
  {
   "cell_type": "markdown",
   "metadata": {},
   "source": [
    "### Season 2021/22"
   ]
  },
  {
   "cell_type": "code",
   "execution_count": 15,
   "metadata": {},
   "outputs": [
    {
     "name": "stdout",
     "output_type": "stream",
     "text": [
      "Total number of players showed up in the season:  484\n"
     ]
    }
   ],
   "source": [
    "df_2122 = df_id[df_id['season']=='2021/22']\n",
    "df_2122\n",
    "\n",
    "# get the id of all players played in the season\n",
    "df_2122_ids = df_2122.loc[:,['id_0', 'id_1', 'id_2', 'id_3', 'id_4', 'id_5', 'id_6', 'id_7', 'id_8', 'id_9', 'id_10', 'id_11', 'id_12', 'id_13', 'id_14', 'id_15', 'id_16', 'id_17', 'id_18', 'id_19', 'id_20', 'id_21', 'id_22', 'id_23', 'id_24', 'id_25', 'id_26']]\n",
    "ids = list()\n",
    "ids_unique = list()\n",
    "for col in df_2122_ids:\n",
    "    ids_unique.append(df_2122_ids[col].unique())\n",
    "    ids.append(df_2122_ids[col])\n",
    "ids_unique = [i for sub in ids_unique for i in sub if i!= -1]\n",
    "ids = [i for sub in ids for i in sub if i!=-1]\n",
    "ids_unique = list(set(ids_unique))\n",
    "print(\"Total number of players showed up in the season: \", len(ids_unique))"
   ]
  },
  {
   "cell_type": "code",
   "execution_count": 16,
   "metadata": {},
   "outputs": [
    {
     "name": "stdout",
     "output_type": "stream",
     "text": [
      "Mean frequency:  17.233471074380166\n",
      "Max matches played by a player:  38\n",
      "Min matches played by a player:  1\n"
     ]
    },
    {
     "data": {
      "image/png": "[encoded data removed]",
      "text/plain": [
       "<Figure size 960x560 with 1 Axes>"
      ]
     },
     "metadata": {
      "needs_background": "light"
     },
     "output_type": "display_data"
    },
    {
     "data": {
      "text/plain": [
       "<Figure size 432x288 with 0 Axes>"
      ]
     },
     "metadata": {},
     "output_type": "display_data"
    }
   ],
   "source": [
    "# get frequency of players occurances\n",
    "tup = list(Counter(ids).items())\n",
    "appear_2122 = dict(tup) # dict of number of appearances of players in the 21/22 season\n",
    "\n",
    "ind = [i[0] for i in tup]\n",
    "freq = np.array([i[1] for i in tup])\n",
    "print(\"Mean frequency: \", freq.mean())\n",
    "print(\"Max matches played by a player: \", freq.max())\n",
    "print(\"Min matches played by a player: \", freq.min())\n",
    "\n",
    "plt.figure(figsize=(12, 7), dpi=80)\n",
    "plt.hist(freq, bins=np.arange(freq.min(), freq.max()+1))\n",
    "plt.xticks(freq)\n",
    "\n",
    "plt.title(\"Frequency of player appearances in season 2021/22\")\n",
    "plt.show()\n",
    "plt.savefig(os.path.join(VIS_PATH, \"freq_appeances_2122\"))"
   ]
  },
  {
   "cell_type": "code",
   "execution_count": 17,
   "metadata": {},
   "outputs": [
    {
     "data": {
      "image/png": "[encoded data removed]",
      "text/plain": [
       "<Figure size 432x288 with 1 Axes>"
      ]
     },
     "metadata": {
      "needs_background": "light"
     },
     "output_type": "display_data"
    }
   ],
   "source": [
    "plt.boxplot(freq)\n",
    "plt.title(\"Box plot for frequency of player appearances in season 2021/22\")\n",
    "plt.savefig(os.path.join(VIS_PATH, \"freq_appearances_2122_boxplot\"))"
   ]
  },
  {
   "cell_type": "markdown",
   "metadata": {},
   "source": [
    "**NOTE:** The *2021/22* season have `484` different players, where a player can appear in upto 38 matches and at least 0 match. For this dataset, we only consider player that appear at least one time.\n",
    "\n",
    "Statiscally (proved in the Report), a player must appear in at least `19 matches` to have a statistically significant comparison at an 80% confidence level with an error margin of 5%.\n",
    "Therefore, to find the player with highest win/lose/draw ratio, we only consider players with over 19 appearances in the *2021/22* season."
   ]
  },
  {
   "cell_type": "markdown",
   "metadata": {},
   "source": [
    "### Players that has highest **home** win/lose/draw ratio "
   ]
  },
  {
   "cell_type": "markdown",
   "metadata": {},
   "source": [
    "#### Season 2019/20"
   ]
  },
  {
   "cell_type": "code",
   "execution_count": 18,
   "metadata": {},
   "outputs": [],
   "source": [
    "df_players_1920 = df_players[df_players['season']=='2019/20']\n",
    "df_players_2021 = df_players[df_players['season']=='2020/21']\n",
    "df_players_2122 = df_players[df_players['season']=='2021/22']"
   ]
  },
  {
   "cell_type": "code",
   "execution_count": 19,
   "metadata": {},
   "outputs": [],
   "source": [
    "def get_name_by_id(df, id):\n",
    "    return df['name'][df['id']==id]"
   ]
  },
  {
   "cell_type": "code",
   "execution_count": 20,
   "metadata": {},
   "outputs": [],
   "source": [
    "df_1920_home_result = df_1920.loc[:, ['id_0', 'id_1', 'id_2', 'id_3', 'id_4', 'id_5', 'id_6', 'id_7', 'id_8', 'id_9', 'id_10', 'id_11', 'id_12', 'id_13', 'home_result']]\n",
    "df_1920_away_result = df_1920.loc[:, ['id_14', 'id_15', 'id_16', 'id_17', 'id_18', 'id_19', 'id_20', 'id_21', 'id_22', 'id_23', 'id_24', 'id_25', 'id_26', 'away_result']]"
   ]
  },
  {
   "cell_type": "code",
   "execution_count": 21,
   "metadata": {},
   "outputs": [],
   "source": [
    "ids_1920 = df_players['id'][df_players['season']=='2019/20'].unique()"
   ]
  },
  {
   "cell_type": "code",
   "execution_count": 22,
   "metadata": {},
   "outputs": [],
   "source": [
    "ids_1920 = [int(i) for i in ids_1920]"
   ]
  },
  {
   "cell_type": "code",
   "execution_count": 23,
   "metadata": {},
   "outputs": [],
   "source": [
    "ids_1920_significant = [i for i in ids_1920 if i in appear_1920.keys() and appear_1920[i] >= 18] #only consider players that played more than 18 matches, for significant comparison"
   ]
  },
  {
   "cell_type": "code",
   "execution_count": 24,
   "metadata": {},
   "outputs": [],
   "source": [
    "def create_df_on_home(df_home, id_list):\n",
    "    # count total matches played\n",
    "\n",
    "    appear_dict = {}\n",
    "    win_dict = {}\n",
    "    lose_dict = {}\n",
    "    draw_dict = {}\n",
    "    for id in id_list:\n",
    "        match_played = (df_home.eq(id)).sum().sum()\n",
    "        appear_dict[id] = match_played\n",
    "\n",
    "        win_count = sum((df_home[df_home['home_result'] == 'win'] == id).any(axis=1))\n",
    "        win_dict[id] = win_count\n",
    "\n",
    "        lose_count = sum((df_home[df_home['home_result'] == 'lose'] == id).any(axis=1))\n",
    "        lose_dict[id] = lose_count\n",
    "\n",
    "        draw_count = sum((df_home[df_home['home_result'] == 'win'] == id).any(axis=1))\n",
    "        draw_dict[id] = draw_count\n",
    "\n",
    "\n",
    "    # Convert dictionaries to Series\n",
    "    ser1 = pd.Series(win_dict, name='home_win_count')\n",
    "    ser2 = pd.Series(lose_dict, name='home_lose_count')\n",
    "    ser3 = pd.Series(draw_dict, name='home_draw_count')\n",
    "    ser4 = pd.Series(appear_dict, name='home_played')\n",
    "\n",
    "\n",
    "    # Concatenate the two Series and reset the index\n",
    "    df = pd.concat([ser1, ser2, ser3, ser4], axis=1).reset_index()\n",
    "    df.columns = ['id', 'home_win_count', 'home_lose_count', 'home_draw_count', 'home_played']\n",
    "        \n",
    "    return df\n",
    "\n",
    "\n",
    "def create_df_on_away(df_away, id_list):\n",
    "    win_dict = {}\n",
    "    lose_dict = {}\n",
    "    draw_dict = {}\n",
    "    appear_dict = {}\n",
    "    for id in id_list:\n",
    "        match_played = (df_away.eq(id)).sum().sum()\n",
    "        appear_dict[id] = match_played\n",
    "\n",
    "        win_count = sum((df_away[df_away['away_result'] == 'win'] == id).any(axis=1))\n",
    "        win_dict[id] = win_count\n",
    "\n",
    "        lose_count = sum((df_away[df_away['away_result'] == 'lose'] == id).any(axis=1))\n",
    "        lose_dict[id] = lose_count\n",
    "\n",
    "        draw_count = sum((df_away[df_away['away_result'] == 'win'] == id).any(axis=1))\n",
    "        draw_dict[id] = draw_count\n",
    "\n",
    "    # Convert dictionaries to Series\n",
    "    ser1 = pd.Series(win_dict, name='away_win_count')\n",
    "    ser2 = pd.Series(lose_dict, name='away_lose_count')\n",
    "    ser3 = pd.Series(draw_dict, name='away_draw_count')\n",
    "    ser4 = pd.Series(appear_dict, name=\"away_played\")\n",
    "\n",
    "\n",
    "    # Concatenate the two Series and reset the index\n",
    "    df = pd.concat([ser1, ser2, ser3, ser4], axis=1).reset_index()\n",
    "    df.columns = ['id', 'away_win_count', 'away_lose_count', 'away_draw_count', 'away_played']\n",
    "        \n",
    "    return df"
   ]
  },
  {
   "cell_type": "code",
   "execution_count": 25,
   "metadata": {},
   "outputs": [],
   "source": [
    "def create_id_result_df(df_home, df_away, ids_1920_significant):\n",
    "    df_home = create_df_on_home(df_home, ids_1920_significant)\n",
    "    df_away = create_df_on_away(df_away, ids_1920_significant)\n",
    "\n",
    "    df = df_home.merge(df_away, on='id')\n",
    "    return df"
   ]
  },
  {
   "cell_type": "code",
   "execution_count": 26,
   "metadata": {},
   "outputs": [],
   "source": [
    "id_result_1920 = create_id_result_df(df_1920_home_result, df_1920_away_result, ids_1920_significant)"
   ]
  },
  {
   "cell_type": "code",
   "execution_count": 27,
   "metadata": {},
   "outputs": [
    {
     "data": {
      "text/html": [
       "<div>\n",
       "<style scoped>\n",
       "    .dataframe tbody tr th:only-of-type {\n",
       "        vertical-align: middle;\n",
       "    }\n",
       "\n",
       "    .dataframe tbody tr th {\n",
       "        vertical-align: top;\n",
       "    }\n",
       "\n",
       "    .dataframe thead th {\n",
       "        text-align: right;\n",
       "    }\n",
       "</style>\n",
       "<table border=\"1\" class=\"dataframe\">\n",
       "  <thead>\n",
       "    <tr style=\"text-align: right;\">\n",
       "      <th></th>\n",
       "      <th>id</th>\n",
       "      <th>home_win_count</th>\n",
       "      <th>home_lose_count</th>\n",
       "      <th>home_draw_count</th>\n",
       "      <th>home_played</th>\n",
       "      <th>away_win_count</th>\n",
       "      <th>away_lose_count</th>\n",
       "      <th>away_draw_count</th>\n",
       "      <th>away_played</th>\n",
       "    </tr>\n",
       "  </thead>\n",
       "  <tbody>\n",
       "    <tr>\n",
       "      <th>0</th>\n",
       "      <td>110735</td>\n",
       "      <td>4</td>\n",
       "      <td>5</td>\n",
       "      <td>4</td>\n",
       "      <td>14</td>\n",
       "      <td>3</td>\n",
       "      <td>7</td>\n",
       "      <td>3</td>\n",
       "      <td>17</td>\n",
       "    </tr>\n",
       "    <tr>\n",
       "      <th>1</th>\n",
       "      <td>116216</td>\n",
       "      <td>2</td>\n",
       "      <td>6</td>\n",
       "      <td>2</td>\n",
       "      <td>14</td>\n",
       "      <td>1</td>\n",
       "      <td>3</td>\n",
       "      <td>1</td>\n",
       "      <td>8</td>\n",
       "    </tr>\n",
       "    <tr>\n",
       "      <th>2</th>\n",
       "      <td>148508</td>\n",
       "      <td>5</td>\n",
       "      <td>3</td>\n",
       "      <td>5</td>\n",
       "      <td>8</td>\n",
       "      <td>1</td>\n",
       "      <td>7</td>\n",
       "      <td>1</td>\n",
       "      <td>12</td>\n",
       "    </tr>\n",
       "    <tr>\n",
       "      <th>3</th>\n",
       "      <td>18665</td>\n",
       "      <td>3</td>\n",
       "      <td>9</td>\n",
       "      <td>3</td>\n",
       "      <td>14</td>\n",
       "      <td>1</td>\n",
       "      <td>10</td>\n",
       "      <td>1</td>\n",
       "      <td>14</td>\n",
       "    </tr>\n",
       "    <tr>\n",
       "      <th>4</th>\n",
       "      <td>63426</td>\n",
       "      <td>10</td>\n",
       "      <td>6</td>\n",
       "      <td>10</td>\n",
       "      <td>19</td>\n",
       "      <td>4</td>\n",
       "      <td>6</td>\n",
       "      <td>4</td>\n",
       "      <td>19</td>\n",
       "    </tr>\n",
       "    <tr>\n",
       "      <th>...</th>\n",
       "      <td>...</td>\n",
       "      <td>...</td>\n",
       "      <td>...</td>\n",
       "      <td>...</td>\n",
       "      <td>...</td>\n",
       "      <td>...</td>\n",
       "      <td>...</td>\n",
       "      <td>...</td>\n",
       "      <td>...</td>\n",
       "    </tr>\n",
       "    <tr>\n",
       "      <th>223</th>\n",
       "      <td>173807</td>\n",
       "      <td>2</td>\n",
       "      <td>2</td>\n",
       "      <td>2</td>\n",
       "      <td>10</td>\n",
       "      <td>4</td>\n",
       "      <td>7</td>\n",
       "      <td>4</td>\n",
       "      <td>13</td>\n",
       "    </tr>\n",
       "    <tr>\n",
       "      <th>224</th>\n",
       "      <td>103955</td>\n",
       "      <td>9</td>\n",
       "      <td>2</td>\n",
       "      <td>9</td>\n",
       "      <td>13</td>\n",
       "      <td>9</td>\n",
       "      <td>7</td>\n",
       "      <td>9</td>\n",
       "      <td>17</td>\n",
       "    </tr>\n",
       "    <tr>\n",
       "      <th>225</th>\n",
       "      <td>56979</td>\n",
       "      <td>11</td>\n",
       "      <td>0</td>\n",
       "      <td>11</td>\n",
       "      <td>11</td>\n",
       "      <td>12</td>\n",
       "      <td>1</td>\n",
       "      <td>12</td>\n",
       "      <td>15</td>\n",
       "    </tr>\n",
       "    <tr>\n",
       "      <th>226</th>\n",
       "      <td>102057</td>\n",
       "      <td>8</td>\n",
       "      <td>4</td>\n",
       "      <td>8</td>\n",
       "      <td>19</td>\n",
       "      <td>7</td>\n",
       "      <td>4</td>\n",
       "      <td>7</td>\n",
       "      <td>18</td>\n",
       "    </tr>\n",
       "    <tr>\n",
       "      <th>227</th>\n",
       "      <td>153127</td>\n",
       "      <td>5</td>\n",
       "      <td>3</td>\n",
       "      <td>5</td>\n",
       "      <td>15</td>\n",
       "      <td>4</td>\n",
       "      <td>5</td>\n",
       "      <td>4</td>\n",
       "      <td>11</td>\n",
       "    </tr>\n",
       "  </tbody>\n",
       "</table>\n",
       "<p>228 rows × 9 columns</p>\n",
       "</div>"
      ],
      "text/plain": [
       "         id  home_win_count  home_lose_count  home_draw_count  home_played  \\\n",
       "0    110735               4                5                4           14   \n",
       "1    116216               2                6                2           14   \n",
       "2    148508               5                3                5            8   \n",
       "3     18665               3                9                3           14   \n",
       "4     63426              10                6               10           19   \n",
       "..      ...             ...              ...              ...          ...   \n",
       "223  173807               2                2                2           10   \n",
       "224  103955               9                2                9           13   \n",
       "225   56979              11                0               11           11   \n",
       "226  102057               8                4                8           19   \n",
       "227  153127               5                3                5           15   \n",
       "\n",
       "     away_win_count  away_lose_count  away_draw_count  away_played  \n",
       "0                 3                7                3           17  \n",
       "1                 1                3                1            8  \n",
       "2                 1                7                1           12  \n",
       "3                 1               10                1           14  \n",
       "4                 4                6                4           19  \n",
       "..              ...              ...              ...          ...  \n",
       "223               4                7                4           13  \n",
       "224               9                7                9           17  \n",
       "225              12                1               12           15  \n",
       "226               7                4                7           18  \n",
       "227               4                5                4           11  \n",
       "\n",
       "[228 rows x 9 columns]"
      ]
     },
     "execution_count": 27,
     "metadata": {},
     "output_type": "execute_result"
    }
   ],
   "source": [
    "id_result_1920"
   ]
  },
  {
   "cell_type": "code",
   "execution_count": 28,
   "metadata": {},
   "outputs": [],
   "source": [
    "id_result_1920[\"total_played\"] = id_result_1920[\"home_played\"] + id_result_1920[\"away_played\"]\n",
    "id_result_1920[\"total_win_count\"] = id_result_1920[\"home_win_count\"] + id_result_1920[\"away_win_count\"]\n",
    "id_result_1920[\"total_lose_count\"] = id_result_1920[\"home_lose_count\"] + id_result_1920[\"away_lose_count\"]\n",
    "id_result_1920[\"total_draw_count\"] = id_result_1920[\"home_draw_count\"] + id_result_1920[\"away_draw_count\"]"
   ]
  },
  {
   "cell_type": "code",
   "execution_count": 29,
   "metadata": {},
   "outputs": [
    {
     "name": "stdout",
     "output_type": "stream",
     "text": [
      "         id  home_win_count  home_lose_count  home_draw_count  home_played  \\\n",
      "225   56979              11                0               11           11   \n",
      "89   118748              17                0               17           18   \n",
      "178  171287              11                0               11           12   \n",
      "\n",
      "     away_win_count  away_lose_count  away_draw_count  away_played  \\\n",
      "225              12                1               12           15   \n",
      "89               12                3               12           15   \n",
      "178               8                2                8           10   \n",
      "\n",
      "     total_played  total_win_count  total_lose_count  total_draw_count  \\\n",
      "225            26               23                 1                23   \n",
      "89             33               29                 3                29   \n",
      "178            22               19                 2                19   \n",
      "\n",
      "     total_win_ratio  \n",
      "225         0.884615  \n",
      "89          0.878788  \n",
      "178         0.863636  \n",
      "Saving figure highest_win_1920\n"
     ]
    },
    {
     "data": {
      "image/png": "[encoded data removed]",
      "text/plain": [
       "<Figure size 432x288 with 1 Axes>"
      ]
     },
     "metadata": {
      "needs_background": "light"
     },
     "output_type": "display_data"
    }
   ],
   "source": [
    "# Calculate home win ratio\n",
    "id_result_1920['total_win_ratio'] = id_result_1920.apply(lambda x: x['total_win_count'] / x['total_played'] if x['total_played'] != 0 else 0, axis=1)\n",
    "\n",
    "# Sort by home win ratio\n",
    "id_result_1920.sort_values(by='total_win_ratio', ascending=False, inplace=True)\n",
    "\n",
    "# Select the first 3 players\n",
    "id_result_1920 = id_result_1920.head(3)\n",
    "print(id_result_1920)\n",
    "# plot\n",
    "# fig, ax = plt.plot(figsize=(10, 5))\n",
    "\n",
    "fig = id_result_1920.plot(kind='bar', x='id', y='total_win_ratio', legend=True)\n",
    "fig.set_xlabel(\"id\")\n",
    "fig.set_ylabel(\"total_win_ratio\")\n",
    "fig.set_title(\"Players with highest win ratio in season 2019/20\")\n",
    "save_fig(\"highest_win_1920\")"
   ]
  },
  {
   "cell_type": "code",
   "execution_count": 30,
   "metadata": {},
   "outputs": [
    {
     "name": "stdout",
     "output_type": "stream",
     "text": [
      "Win ratio ranking in season 2019/20\n",
      "1. 3915    Jordan Henderson\n",
      "Name: name, dtype: object\n",
      "2. 2399    Mohamed Salah\n",
      "Name: name, dtype: object\n",
      "3. 3241    Joe Gomez\n",
      "Name: name, dtype: object\n"
     ]
    }
   ],
   "source": [
    "print(\"Win ratio ranking in season 2019/20\")\n",
    "print(f'1. {get_name_by_id(df_players_1920, 56979)}')\n",
    "print(f'2. {get_name_by_id(df_players_1920, 118748)}')\n",
    "print(f'3. {get_name_by_id(df_players_1920, 171287)}')"
   ]
  },
  {
   "cell_type": "code",
   "execution_count": 31,
   "metadata": {},
   "outputs": [
    {
     "name": "stderr",
     "output_type": "stream",
     "text": [
      "/var/folders/pr/blnkzjbd0gsc2w67v8dbtyqc0000gn/T/ipykernel_17822/436145539.py:2: SettingWithCopyWarning: \n",
      "A value is trying to be set on a copy of a slice from a DataFrame.\n",
      "Try using .loc[row_indexer,col_indexer] = value instead\n",
      "\n",
      "See the caveats in the documentation: https://pandas.pydata.org/pandas-docs/stable/user_guide/indexing.html#returning-a-view-versus-a-copy\n",
      "  id_result_1920['home_win_ratio'] = id_result_1920.apply(lambda x: x['home_win_count'] / x['home_played'] if x['home_played'] != 0 else 0, axis=1)\n",
      "/Users/lggvu/opt/anaconda3/lib/python3.9/site-packages/pandas/util/_decorators.py:311: SettingWithCopyWarning: \n",
      "A value is trying to be set on a copy of a slice from a DataFrame\n",
      "\n",
      "See the caveats in the documentation: https://pandas.pydata.org/pandas-docs/stable/user_guide/indexing.html#returning-a-view-versus-a-copy\n",
      "  return func(*args, **kwargs)\n",
      "/var/folders/pr/blnkzjbd0gsc2w67v8dbtyqc0000gn/T/ipykernel_17822/436145539.py:17: SettingWithCopyWarning: \n",
      "A value is trying to be set on a copy of a slice from a DataFrame.\n",
      "Try using .loc[row_indexer,col_indexer] = value instead\n",
      "\n",
      "See the caveats in the documentation: https://pandas.pydata.org/pandas-docs/stable/user_guide/indexing.html#returning-a-view-versus-a-copy\n",
      "  id_result_1920['away_win_ratio'] = id_result_1920.apply(lambda x: x['away_win_count'] / x['away_played'] if x['away_played'] != 0 else 0, axis=1)\n"
     ]
    },
    {
     "data": {
      "image/png": "[encoded data removed]",
      "text/plain": [
       "<Figure size 720x360 with 2 Axes>"
      ]
     },
     "metadata": {
      "needs_background": "light"
     },
     "output_type": "display_data"
    },
    {
     "name": "stdout",
     "output_type": "stream",
     "text": [
      "Saving figure home_away_win_ratio_1920\n"
     ]
    },
    {
     "data": {
      "text/plain": [
       "<Figure size 432x288 with 0 Axes>"
      ]
     },
     "metadata": {},
     "output_type": "display_data"
    }
   ],
   "source": [
    "# Calculate home win ratio\n",
    "id_result_1920['home_win_ratio'] = id_result_1920.apply(lambda x: x['home_win_count'] / x['home_played'] if x['home_played'] != 0 else 0, axis=1)\n",
    "\n",
    "# Sort by home win ratio\n",
    "id_result_1920.sort_values(by='home_win_ratio', ascending=False, inplace=True)\n",
    "\n",
    "# Select the first 3 players\n",
    "id_result_1920 = id_result_1920.head(3)\n",
    "# plot\n",
    "fig, ax = plt.subplots(1, 2, figsize=(10, 5))\n",
    "\n",
    "id_result_1920.plot(kind='bar', x='id', y='home_win_ratio', legend=True, ax=ax[0])\n",
    "ax[0].set_xlabel(\"id\")\n",
    "ax[0].set_ylabel(\"home_win_ratio\")\n",
    "\n",
    "# Calculate away win ratio\n",
    "id_result_1920['away_win_ratio'] = id_result_1920.apply(lambda x: x['away_win_count'] / x['away_played'] if x['away_played'] != 0 else 0, axis=1)\n",
    "\n",
    "# Sort by away win ratio\n",
    "id_result_1920.sort_values(by='away_win_ratio', ascending=False, inplace=True)\n",
    "\n",
    "# Select the first 3 players\n",
    "id_result_1920 = id_result_1920.head(3)\n",
    "\n",
    "id_result_1920.plot(kind='bar', x='id', y='away_win_ratio', legend=True, ax=ax[1])\n",
    "ax[1].set_xlabel(\"id\")\n",
    "ax[1].set_ylabel(\"away_win_ratio\")\n",
    "\n",
    "plt.tight_layout()\n",
    "plt.show()\n",
    "save_fig(\"home_away_win_ratio_1920\")"
   ]
  },
  {
   "cell_type": "code",
   "execution_count": 73,
   "metadata": {},
   "outputs": [
    {
     "name": "stdout",
     "output_type": "stream",
     "text": [
      "Home win ratio ranking in season 2019/20\n",
      "1. 3915    Jordan Henderson\n",
      "Name: name, dtype: object\n",
      "2. 2399    Mohamed Salah\n",
      "Name: name, dtype: object\n",
      "3. 3241    Joe Gomez\n",
      "Name: name, dtype: object\n",
      "\n",
      "Away win ratio ranking in season 2019/20\n",
      "1. 3915    Jordan Henderson\n",
      "Name: name, dtype: object\n",
      "2. 2399    Mohamed Salah\n",
      "Name: name, dtype: object\n",
      "3. 3241    Joe Gomez\n",
      "Name: name, dtype: object\n"
     ]
    }
   ],
   "source": [
    "print(\"Home win ratio ranking in season 2019/20\")\n",
    "print(f'1. {get_name_by_id(df_players_1920, 56979)}')\n",
    "print(f'2. {get_name_by_id(df_players_1920, 118748)}')\n",
    "print(f'3. {get_name_by_id(df_players_1920, 171287)}')\n",
    "\n",
    "print('')\n",
    "print(\"Away win ratio ranking in season 2019/20\")\n",
    "print(f'1. {get_name_by_id(df_players_1920, 56979)}')\n",
    "print(f'2. {get_name_by_id(df_players_1920, 118748)}')\n",
    "print(f'3. {get_name_by_id(df_players_1920, 171287)}')"
   ]
  },
  {
   "cell_type": "markdown",
   "metadata": {},
   "source": [
    "#### Season 2020/21"
   ]
  },
  {
   "cell_type": "code",
   "execution_count": 33,
   "metadata": {},
   "outputs": [],
   "source": [
    "df_2021_home_result = df_2021.loc[:, ['id_0', 'id_1', 'id_2', 'id_3', 'id_4', 'id_5', 'id_6', 'id_7', 'id_8', 'id_9', 'id_10', 'id_11', 'id_12', 'id_13', 'home_result']]\n",
    "df_2021_away_result = df_2021.loc[:, ['id_14', 'id_15', 'id_16', 'id_17', 'id_18', 'id_19', 'id_20', 'id_21', 'id_22', 'id_23', 'id_24', 'id_25', 'id_26', 'away_result']]"
   ]
  },
  {
   "cell_type": "code",
   "execution_count": 34,
   "metadata": {},
   "outputs": [],
   "source": [
    "ids_2021 = df_players['id'][df_players['season']=='2020/21'].unique()"
   ]
  },
  {
   "cell_type": "code",
   "execution_count": 35,
   "metadata": {},
   "outputs": [],
   "source": [
    "ids_2021 = [int(i) for i in ids_2021]"
   ]
  },
  {
   "cell_type": "code",
   "execution_count": 36,
   "metadata": {},
   "outputs": [],
   "source": [
    "ids_2021_significant = [i for i in ids_2021 if i in appear_2021.keys() and appear_2021[i] >= 19]"
   ]
  },
  {
   "cell_type": "code",
   "execution_count": 37,
   "metadata": {},
   "outputs": [],
   "source": [
    "id_result_2021 = create_id_result_df(df_2021_home_result, df_2021_away_result, ids_2021_significant)"
   ]
  },
  {
   "cell_type": "code",
   "execution_count": 38,
   "metadata": {},
   "outputs": [
    {
     "data": {
      "text/html": [
       "<div>\n",
       "<style scoped>\n",
       "    .dataframe tbody tr th:only-of-type {\n",
       "        vertical-align: middle;\n",
       "    }\n",
       "\n",
       "    .dataframe tbody tr th {\n",
       "        vertical-align: top;\n",
       "    }\n",
       "\n",
       "    .dataframe thead th {\n",
       "        text-align: right;\n",
       "    }\n",
       "</style>\n",
       "<table border=\"1\" class=\"dataframe\">\n",
       "  <thead>\n",
       "    <tr style=\"text-align: right;\">\n",
       "      <th></th>\n",
       "      <th>id</th>\n",
       "      <th>home_win_count</th>\n",
       "      <th>home_lose_count</th>\n",
       "      <th>home_draw_count</th>\n",
       "      <th>home_played</th>\n",
       "      <th>away_win_count</th>\n",
       "      <th>away_lose_count</th>\n",
       "      <th>away_draw_count</th>\n",
       "      <th>away_played</th>\n",
       "    </tr>\n",
       "  </thead>\n",
       "  <tbody>\n",
       "    <tr>\n",
       "      <th>0</th>\n",
       "      <td>444463</td>\n",
       "      <td>7</td>\n",
       "      <td>7</td>\n",
       "      <td>7</td>\n",
       "      <td>15</td>\n",
       "      <td>7</td>\n",
       "      <td>3</td>\n",
       "      <td>7</td>\n",
       "      <td>12</td>\n",
       "    </tr>\n",
       "    <tr>\n",
       "      <th>1</th>\n",
       "      <td>165153</td>\n",
       "      <td>9</td>\n",
       "      <td>3</td>\n",
       "      <td>9</td>\n",
       "      <td>14</td>\n",
       "      <td>8</td>\n",
       "      <td>4</td>\n",
       "      <td>8</td>\n",
       "      <td>15</td>\n",
       "    </tr>\n",
       "    <tr>\n",
       "      <th>2</th>\n",
       "      <td>178301</td>\n",
       "      <td>7</td>\n",
       "      <td>8</td>\n",
       "      <td>7</td>\n",
       "      <td>18</td>\n",
       "      <td>9</td>\n",
       "      <td>7</td>\n",
       "      <td>9</td>\n",
       "      <td>19</td>\n",
       "    </tr>\n",
       "    <tr>\n",
       "      <th>3</th>\n",
       "      <td>55494</td>\n",
       "      <td>4</td>\n",
       "      <td>5</td>\n",
       "      <td>4</td>\n",
       "      <td>12</td>\n",
       "      <td>3</td>\n",
       "      <td>7</td>\n",
       "      <td>3</td>\n",
       "      <td>13</td>\n",
       "    </tr>\n",
       "    <tr>\n",
       "      <th>4</th>\n",
       "      <td>111478</td>\n",
       "      <td>3</td>\n",
       "      <td>4</td>\n",
       "      <td>3</td>\n",
       "      <td>15</td>\n",
       "      <td>2</td>\n",
       "      <td>6</td>\n",
       "      <td>2</td>\n",
       "      <td>10</td>\n",
       "    </tr>\n",
       "    <tr>\n",
       "      <th>...</th>\n",
       "      <td>...</td>\n",
       "      <td>...</td>\n",
       "      <td>...</td>\n",
       "      <td>...</td>\n",
       "      <td>...</td>\n",
       "      <td>...</td>\n",
       "      <td>...</td>\n",
       "      <td>...</td>\n",
       "      <td>...</td>\n",
       "    </tr>\n",
       "    <tr>\n",
       "      <th>211</th>\n",
       "      <td>55459</td>\n",
       "      <td>10</td>\n",
       "      <td>4</td>\n",
       "      <td>10</td>\n",
       "      <td>18</td>\n",
       "      <td>9</td>\n",
       "      <td>5</td>\n",
       "      <td>9</td>\n",
       "      <td>18</td>\n",
       "    </tr>\n",
       "    <tr>\n",
       "      <th>212</th>\n",
       "      <td>75115</td>\n",
       "      <td>4</td>\n",
       "      <td>6</td>\n",
       "      <td>4</td>\n",
       "      <td>12</td>\n",
       "      <td>4</td>\n",
       "      <td>5</td>\n",
       "      <td>4</td>\n",
       "      <td>11</td>\n",
       "    </tr>\n",
       "    <tr>\n",
       "      <th>213</th>\n",
       "      <td>151589</td>\n",
       "      <td>5</td>\n",
       "      <td>6</td>\n",
       "      <td>5</td>\n",
       "      <td>14</td>\n",
       "      <td>5</td>\n",
       "      <td>5</td>\n",
       "      <td>5</td>\n",
       "      <td>14</td>\n",
       "    </tr>\n",
       "    <tr>\n",
       "      <th>214</th>\n",
       "      <td>58621</td>\n",
       "      <td>9</td>\n",
       "      <td>1</td>\n",
       "      <td>9</td>\n",
       "      <td>11</td>\n",
       "      <td>7</td>\n",
       "      <td>1</td>\n",
       "      <td>7</td>\n",
       "      <td>11</td>\n",
       "    </tr>\n",
       "    <tr>\n",
       "      <th>215</th>\n",
       "      <td>153127</td>\n",
       "      <td>3</td>\n",
       "      <td>5</td>\n",
       "      <td>3</td>\n",
       "      <td>11</td>\n",
       "      <td>2</td>\n",
       "      <td>7</td>\n",
       "      <td>2</td>\n",
       "      <td>11</td>\n",
       "    </tr>\n",
       "  </tbody>\n",
       "</table>\n",
       "<p>216 rows × 9 columns</p>\n",
       "</div>"
      ],
      "text/plain": [
       "         id  home_win_count  home_lose_count  home_draw_count  home_played  \\\n",
       "0    444463               7                7                7           15   \n",
       "1    165153               9                3                9           14   \n",
       "2    178301               7                8                7           18   \n",
       "3     55494               4                5                4           12   \n",
       "4    111478               3                4                3           15   \n",
       "..      ...             ...              ...              ...          ...   \n",
       "211   55459              10                4               10           18   \n",
       "212   75115               4                6                4           12   \n",
       "213  151589               5                6                5           14   \n",
       "214   58621               9                1                9           11   \n",
       "215  153127               3                5                3           11   \n",
       "\n",
       "     away_win_count  away_lose_count  away_draw_count  away_played  \n",
       "0                 7                3                7           12  \n",
       "1                 8                4                8           15  \n",
       "2                 9                7                9           19  \n",
       "3                 3                7                3           13  \n",
       "4                 2                6                2           10  \n",
       "..              ...              ...              ...          ...  \n",
       "211               9                5                9           18  \n",
       "212               4                5                4           11  \n",
       "213               5                5                5           14  \n",
       "214               7                1                7           11  \n",
       "215               2                7                2           11  \n",
       "\n",
       "[216 rows x 9 columns]"
      ]
     },
     "execution_count": 38,
     "metadata": {},
     "output_type": "execute_result"
    }
   ],
   "source": [
    "id_result_2021"
   ]
  },
  {
   "cell_type": "code",
   "execution_count": 39,
   "metadata": {},
   "outputs": [],
   "source": [
    "id_result_2021[\"total_played\"] = id_result_2021[\"home_played\"] + id_result_2021[\"away_played\"]\n",
    "id_result_2021[\"total_win_count\"] = id_result_2021[\"home_win_count\"] + id_result_2021[\"away_win_count\"]\n",
    "id_result_2021[\"total_lose_count\"] = id_result_2021[\"home_lose_count\"] + id_result_2021[\"away_lose_count\"]\n",
    "id_result_2021[\"total_draw_count\"] = id_result_2021[\"home_draw_count\"] + id_result_2021[\"away_draw_count\"]"
   ]
  },
  {
   "cell_type": "code",
   "execution_count": 40,
   "metadata": {},
   "outputs": [
    {
     "name": "stdout",
     "output_type": "stream",
     "text": [
      "Saving figure highest_win_2021\n"
     ]
    },
    {
     "data": {
      "image/png": "[encoded data removed]",
      "text/plain": [
       "<Figure size 432x288 with 1 Axes>"
      ]
     },
     "metadata": {
      "needs_background": "light"
     },
     "output_type": "display_data"
    }
   ],
   "source": [
    "# Calculate home win ratio\n",
    "id_result_2021['total_win_ratio'] = id_result_2021.apply(lambda x: x['total_win_count'] / x['total_played'] if x['total_played'] != 0 else 0, axis=1)\n",
    "\n",
    "# Sort by home win ratio\n",
    "id_result_2021.sort_values(by='total_win_ratio', ascending=False, inplace=True)\n",
    "\n",
    "# Select the first 3 players\n",
    "id_result_2021 = id_result_2021.head(3)\n",
    "# plot\n",
    "\n",
    "fig = id_result_2021.plot(kind='bar', x='id', y='total_win_ratio', legend=True)\n",
    "fig.set_xlabel(\"id\")\n",
    "fig.set_ylabel(\"total_win_ratio\")\n",
    "fig.set_title(\"Players with highest win ratio in season 2020/21\")\n",
    "save_fig(\"highest_win_2021\")"
   ]
  },
  {
   "cell_type": "code",
   "execution_count": 41,
   "metadata": {},
   "outputs": [
    {
     "name": "stdout",
     "output_type": "stream",
     "text": [
      "Win ratio ranking in season 2020/21\n",
      "1. 3604    Bernardo Silva\n",
      "Name: name, dtype: object\n",
      "2. 2182    John Stones\n",
      "Name: name, dtype: object\n",
      "3. 2574    Ilkay Gündogan\n",
      "Name: name, dtype: object\n"
     ]
    }
   ],
   "source": [
    "print(\"Win ratio ranking in season 2020/21\")\n",
    "print(f'1. {get_name_by_id(df_players_1920, 165809)}')\n",
    "print(f'2. {get_name_by_id(df_players_1920, 97299)}')\n",
    "print(f'3. {get_name_by_id(df_players_1920, 59859)}')"
   ]
  },
  {
   "cell_type": "code",
   "execution_count": 42,
   "metadata": {},
   "outputs": [
    {
     "name": "stdout",
     "output_type": "stream",
     "text": [
      "         id  home_win_count  home_lose_count  home_draw_count  home_played  \\\n",
      "154  165809               9                1                9           10   \n",
      "73    97299               9                2                9           11   \n",
      "67    59859              10                1               10           13   \n",
      "\n",
      "     away_win_count  away_lose_count  away_draw_count  away_played  \\\n",
      "154              11                2               11           14   \n",
      "73                9                1                9           11   \n",
      "67                8                1                8           10   \n",
      "\n",
      "     total_played  total_win_count  total_lose_count  total_draw_count  \\\n",
      "154            24               20                 3                20   \n",
      "73             22               18                 3                18   \n",
      "67             23               18                 2                18   \n",
      "\n",
      "     total_win_ratio  home_win_ratio  \n",
      "154         0.833333        0.900000  \n",
      "73          0.818182        0.818182  \n",
      "67          0.782609        0.769231  \n"
     ]
    },
    {
     "name": "stderr",
     "output_type": "stream",
     "text": [
      "/var/folders/pr/blnkzjbd0gsc2w67v8dbtyqc0000gn/T/ipykernel_17822/3648167300.py:2: SettingWithCopyWarning: \n",
      "A value is trying to be set on a copy of a slice from a DataFrame.\n",
      "Try using .loc[row_indexer,col_indexer] = value instead\n",
      "\n",
      "See the caveats in the documentation: https://pandas.pydata.org/pandas-docs/stable/user_guide/indexing.html#returning-a-view-versus-a-copy\n",
      "  id_result_2021['home_win_ratio'] = id_result_2021.apply(lambda x: x['home_win_count'] / x['home_played'] if x['home_played'] != 0 else 0, axis=1)\n",
      "/Users/lggvu/opt/anaconda3/lib/python3.9/site-packages/pandas/util/_decorators.py:311: SettingWithCopyWarning: \n",
      "A value is trying to be set on a copy of a slice from a DataFrame\n",
      "\n",
      "See the caveats in the documentation: https://pandas.pydata.org/pandas-docs/stable/user_guide/indexing.html#returning-a-view-versus-a-copy\n",
      "  return func(*args, **kwargs)\n",
      "/var/folders/pr/blnkzjbd0gsc2w67v8dbtyqc0000gn/T/ipykernel_17822/3648167300.py:18: SettingWithCopyWarning: \n",
      "A value is trying to be set on a copy of a slice from a DataFrame.\n",
      "Try using .loc[row_indexer,col_indexer] = value instead\n",
      "\n",
      "See the caveats in the documentation: https://pandas.pydata.org/pandas-docs/stable/user_guide/indexing.html#returning-a-view-versus-a-copy\n",
      "  id_result_2021['away_win_ratio'] = id_result_2021.apply(lambda x: x['away_win_count'] / x['away_played'] if x['away_played'] != 0 else 0, axis=1)\n",
      "/Users/lggvu/opt/anaconda3/lib/python3.9/site-packages/pandas/util/_decorators.py:311: SettingWithCopyWarning: \n",
      "A value is trying to be set on a copy of a slice from a DataFrame\n",
      "\n",
      "See the caveats in the documentation: https://pandas.pydata.org/pandas-docs/stable/user_guide/indexing.html#returning-a-view-versus-a-copy\n",
      "  return func(*args, **kwargs)\n"
     ]
    },
    {
     "name": "stdout",
     "output_type": "stream",
     "text": [
      "         id  home_win_count  home_lose_count  home_draw_count  home_played  \\\n",
      "73    97299               9                2                9           11   \n",
      "67    59859              10                1               10           13   \n",
      "154  165809               9                1                9           10   \n",
      "\n",
      "     away_win_count  away_lose_count  away_draw_count  away_played  \\\n",
      "73                9                1                9           11   \n",
      "67                8                1                8           10   \n",
      "154              11                2               11           14   \n",
      "\n",
      "     total_played  total_win_count  total_lose_count  total_draw_count  \\\n",
      "73             22               18                 3                18   \n",
      "67             23               18                 2                18   \n",
      "154            24               20                 3                20   \n",
      "\n",
      "     total_win_ratio  home_win_ratio  away_win_ratio  \n",
      "73          0.818182        0.818182        0.818182  \n",
      "67          0.782609        0.769231        0.800000  \n",
      "154         0.833333        0.900000        0.785714  \n"
     ]
    },
    {
     "data": {
      "image/png": "[encoded data removed]",
      "text/plain": [
       "<Figure size 720x360 with 2 Axes>"
      ]
     },
     "metadata": {
      "needs_background": "light"
     },
     "output_type": "display_data"
    },
    {
     "name": "stdout",
     "output_type": "stream",
     "text": [
      "Saving figure home_away_win_ratio_2021\n"
     ]
    },
    {
     "data": {
      "text/plain": [
       "<Figure size 432x288 with 0 Axes>"
      ]
     },
     "metadata": {},
     "output_type": "display_data"
    }
   ],
   "source": [
    "# Calculate home win ratio\n",
    "id_result_2021['home_win_ratio'] = id_result_2021.apply(lambda x: x['home_win_count'] / x['home_played'] if x['home_played'] != 0 else 0, axis=1)\n",
    "\n",
    "# Sort by home win ratio\n",
    "id_result_2021.sort_values(by='home_win_ratio', ascending=False, inplace=True)\n",
    "\n",
    "# Select the first 3 players\n",
    "id_result_2021 = id_result_2021.head(3)\n",
    "print(id_result_2021)\n",
    "# plot\n",
    "fig, ax = plt.subplots(1, 2, figsize=(10, 5))\n",
    "\n",
    "id_result_2021.plot(kind='bar', x='id', y='home_win_ratio', legend=True, ax=ax[0])\n",
    "ax[0].set_xlabel(\"id\")\n",
    "ax[0].set_ylabel(\"home_win_ratio\")\n",
    "\n",
    "# Calculate away win ratio\n",
    "id_result_2021['away_win_ratio'] = id_result_2021.apply(lambda x: x['away_win_count'] / x['away_played'] if x['away_played'] != 0 else 0, axis=1)\n",
    "\n",
    "# Sort by away win ratio\n",
    "id_result_2021.sort_values(by='away_win_ratio', ascending=False, inplace=True)\n",
    "\n",
    "# Select the first 3 players\n",
    "id_result_2021 = id_result_2021.head(3)\n",
    "print(id_result_2021)\n",
    "\n",
    "id_result_2021.plot(kind='bar', x='id', y='away_win_ratio', legend=True, ax=ax[1])\n",
    "ax[1].set_xlabel(\"id\")\n",
    "ax[1].set_ylabel(\"away_win_ratio\")\n",
    "\n",
    "plt.tight_layout()\n",
    "plt.show()\n",
    "save_fig(\"home_away_win_ratio_2021\")"
   ]
  },
  {
   "cell_type": "code",
   "execution_count": 43,
   "metadata": {},
   "outputs": [
    {
     "name": "stdout",
     "output_type": "stream",
     "text": [
      "Home win ratio ranking in season 2020/21\n",
      "1. 3604    Bernardo Silva\n",
      "Name: name, dtype: object\n",
      "2. 2182    John Stones\n",
      "Name: name, dtype: object\n",
      "3. 2574    Ilkay Gündogan\n",
      "Name: name, dtype: object\n",
      "\n",
      "Away win ratio ranking in season 2020/21\n",
      "1. 2182    John Stones\n",
      "Name: name, dtype: object\n",
      "2. 2574    Ilkay Gündogan\n",
      "Name: name, dtype: object\n",
      "3. 3604    Bernardo Silva\n",
      "Name: name, dtype: object\n"
     ]
    }
   ],
   "source": [
    "print(\"Home win ratio ranking in season 2020/21\")\n",
    "print(f'1. {get_name_by_id(df_players_1920, 165809)}')\n",
    "print(f'2. {get_name_by_id(df_players_1920, 97299)}')\n",
    "print(f'3. {get_name_by_id(df_players_1920, 59859)}')\n",
    "\n",
    "print('')\n",
    "print(\"Away win ratio ranking in season 2020/21\")\n",
    "print(f'1. {get_name_by_id(df_players_1920, 97299)}')\n",
    "print(f'2. {get_name_by_id(df_players_1920, 59859)}')\n",
    "print(f'3. {get_name_by_id(df_players_1920, 165809)}')"
   ]
  },
  {
   "cell_type": "markdown",
   "metadata": {},
   "source": [
    "#### Season 2021/22"
   ]
  },
  {
   "cell_type": "code",
   "execution_count": 44,
   "metadata": {},
   "outputs": [],
   "source": [
    "df_2122_home_result = df_2122.loc[:, ['id_0', 'id_1', 'id_2', 'id_3', 'id_4', 'id_5', 'id_6', 'id_7', 'id_8', 'id_9', 'id_10', 'id_11', 'id_12', 'id_13', 'home_result']]\n",
    "df_2122_away_result = df_2122.loc[:, ['id_14', 'id_15', 'id_16', 'id_17', 'id_18', 'id_19', 'id_20', 'id_21', 'id_22', 'id_23', 'id_24', 'id_25', 'id_26', 'away_result']]"
   ]
  },
  {
   "cell_type": "code",
   "execution_count": 45,
   "metadata": {},
   "outputs": [],
   "source": [
    "ids_2122 = df_players['id'][df_players['season']=='2021/22'].unique()"
   ]
  },
  {
   "cell_type": "code",
   "execution_count": 46,
   "metadata": {},
   "outputs": [],
   "source": [
    "ids_2122 = [int(i) for i in ids_2122]"
   ]
  },
  {
   "cell_type": "code",
   "execution_count": 47,
   "metadata": {},
   "outputs": [],
   "source": [
    "ids_2122_significant = [i for i in ids_2122 if i in appear_2122.keys() and appear_2122[i] >= 18] #only consider players that played more than 18 matches, for significant comparison"
   ]
  },
  {
   "cell_type": "code",
   "execution_count": 48,
   "metadata": {},
   "outputs": [],
   "source": [
    "id_result_2122 = create_id_result_df(df_2122_home_result, df_2122_away_result, ids_2122_significant)"
   ]
  },
  {
   "cell_type": "code",
   "execution_count": 49,
   "metadata": {},
   "outputs": [
    {
     "data": {
      "text/html": [
       "<div>\n",
       "<style scoped>\n",
       "    .dataframe tbody tr th:only-of-type {\n",
       "        vertical-align: middle;\n",
       "    }\n",
       "\n",
       "    .dataframe tbody tr th {\n",
       "        vertical-align: top;\n",
       "    }\n",
       "\n",
       "    .dataframe thead th {\n",
       "        text-align: right;\n",
       "    }\n",
       "</style>\n",
       "<table border=\"1\" class=\"dataframe\">\n",
       "  <thead>\n",
       "    <tr style=\"text-align: right;\">\n",
       "      <th></th>\n",
       "      <th>id</th>\n",
       "      <th>home_win_count</th>\n",
       "      <th>home_lose_count</th>\n",
       "      <th>home_draw_count</th>\n",
       "      <th>home_played</th>\n",
       "      <th>away_win_count</th>\n",
       "      <th>away_lose_count</th>\n",
       "      <th>away_draw_count</th>\n",
       "      <th>away_played</th>\n",
       "    </tr>\n",
       "  </thead>\n",
       "  <tbody>\n",
       "    <tr>\n",
       "      <th>0</th>\n",
       "      <td>90152</td>\n",
       "      <td>4</td>\n",
       "      <td>2</td>\n",
       "      <td>4</td>\n",
       "      <td>11</td>\n",
       "      <td>4</td>\n",
       "      <td>2</td>\n",
       "      <td>4</td>\n",
       "      <td>9</td>\n",
       "    </tr>\n",
       "    <tr>\n",
       "      <th>1</th>\n",
       "      <td>144485</td>\n",
       "      <td>6</td>\n",
       "      <td>8</td>\n",
       "      <td>6</td>\n",
       "      <td>16</td>\n",
       "      <td>6</td>\n",
       "      <td>7</td>\n",
       "      <td>6</td>\n",
       "      <td>16</td>\n",
       "    </tr>\n",
       "    <tr>\n",
       "      <th>2</th>\n",
       "      <td>223723</td>\n",
       "      <td>8</td>\n",
       "      <td>1</td>\n",
       "      <td>8</td>\n",
       "      <td>10</td>\n",
       "      <td>4</td>\n",
       "      <td>5</td>\n",
       "      <td>4</td>\n",
       "      <td>10</td>\n",
       "    </tr>\n",
       "    <tr>\n",
       "      <th>3</th>\n",
       "      <td>162651</td>\n",
       "      <td>0</td>\n",
       "      <td>7</td>\n",
       "      <td>0</td>\n",
       "      <td>8</td>\n",
       "      <td>2</td>\n",
       "      <td>6</td>\n",
       "      <td>2</td>\n",
       "      <td>11</td>\n",
       "    </tr>\n",
       "    <tr>\n",
       "      <th>4</th>\n",
       "      <td>209243</td>\n",
       "      <td>7</td>\n",
       "      <td>1</td>\n",
       "      <td>7</td>\n",
       "      <td>10</td>\n",
       "      <td>3</td>\n",
       "      <td>5</td>\n",
       "      <td>3</td>\n",
       "      <td>10</td>\n",
       "    </tr>\n",
       "    <tr>\n",
       "      <th>...</th>\n",
       "      <td>...</td>\n",
       "      <td>...</td>\n",
       "      <td>...</td>\n",
       "      <td>...</td>\n",
       "      <td>...</td>\n",
       "      <td>...</td>\n",
       "      <td>...</td>\n",
       "      <td>...</td>\n",
       "      <td>...</td>\n",
       "    </tr>\n",
       "    <tr>\n",
       "      <th>225</th>\n",
       "      <td>174874</td>\n",
       "      <td>6</td>\n",
       "      <td>3</td>\n",
       "      <td>6</td>\n",
       "      <td>16</td>\n",
       "      <td>4</td>\n",
       "      <td>5</td>\n",
       "      <td>4</td>\n",
       "      <td>15</td>\n",
       "    </tr>\n",
       "    <tr>\n",
       "      <th>226</th>\n",
       "      <td>66588</td>\n",
       "      <td>2</td>\n",
       "      <td>7</td>\n",
       "      <td>2</td>\n",
       "      <td>12</td>\n",
       "      <td>3</td>\n",
       "      <td>7</td>\n",
       "      <td>3</td>\n",
       "      <td>14</td>\n",
       "    </tr>\n",
       "    <tr>\n",
       "      <th>227</th>\n",
       "      <td>232185</td>\n",
       "      <td>2</td>\n",
       "      <td>7</td>\n",
       "      <td>2</td>\n",
       "      <td>10</td>\n",
       "      <td>3</td>\n",
       "      <td>7</td>\n",
       "      <td>3</td>\n",
       "      <td>11</td>\n",
       "    </tr>\n",
       "    <tr>\n",
       "      <th>228</th>\n",
       "      <td>151589</td>\n",
       "      <td>3</td>\n",
       "      <td>5</td>\n",
       "      <td>3</td>\n",
       "      <td>10</td>\n",
       "      <td>5</td>\n",
       "      <td>4</td>\n",
       "      <td>5</td>\n",
       "      <td>11</td>\n",
       "    </tr>\n",
       "    <tr>\n",
       "      <th>229</th>\n",
       "      <td>56979</td>\n",
       "      <td>11</td>\n",
       "      <td>0</td>\n",
       "      <td>11</td>\n",
       "      <td>15</td>\n",
       "      <td>9</td>\n",
       "      <td>2</td>\n",
       "      <td>9</td>\n",
       "      <td>14</td>\n",
       "    </tr>\n",
       "  </tbody>\n",
       "</table>\n",
       "<p>230 rows × 9 columns</p>\n",
       "</div>"
      ],
      "text/plain": [
       "         id  home_win_count  home_lose_count  home_draw_count  home_played  \\\n",
       "0     90152               4                2                4           11   \n",
       "1    144485               6                8                6           16   \n",
       "2    223723               8                1                8           10   \n",
       "3    162651               0                7                0            8   \n",
       "4    209243               7                1                7           10   \n",
       "..      ...             ...              ...              ...          ...   \n",
       "225  174874               6                3                6           16   \n",
       "226   66588               2                7                2           12   \n",
       "227  232185               2                7                2           10   \n",
       "228  151589               3                5                3           10   \n",
       "229   56979              11                0               11           15   \n",
       "\n",
       "     away_win_count  away_lose_count  away_draw_count  away_played  \n",
       "0                 4                2                4            9  \n",
       "1                 6                7                6           16  \n",
       "2                 4                5                4           10  \n",
       "3                 2                6                2           11  \n",
       "4                 3                5                3           10  \n",
       "..              ...              ...              ...          ...  \n",
       "225               4                5                4           15  \n",
       "226               3                7                3           14  \n",
       "227               3                7                3           11  \n",
       "228               5                4                5           11  \n",
       "229               9                2                9           14  \n",
       "\n",
       "[230 rows x 9 columns]"
      ]
     },
     "execution_count": 49,
     "metadata": {},
     "output_type": "execute_result"
    }
   ],
   "source": [
    "id_result_2122"
   ]
  },
  {
   "cell_type": "code",
   "execution_count": 50,
   "metadata": {},
   "outputs": [],
   "source": [
    "id_result_2122[\"total_played\"] = id_result_2122[\"home_played\"] + id_result_2122[\"away_played\"]\n",
    "id_result_2122[\"total_win_count\"] = id_result_2122[\"home_win_count\"] + id_result_2122[\"away_win_count\"]\n",
    "id_result_2122[\"total_lose_count\"] = id_result_2122[\"home_lose_count\"] + id_result_2122[\"away_lose_count\"]\n",
    "id_result_2122[\"total_draw_count\"] = id_result_2122[\"home_draw_count\"] + id_result_2122[\"away_draw_count\"]"
   ]
  },
  {
   "cell_type": "code",
   "execution_count": 51,
   "metadata": {},
   "outputs": [
    {
     "name": "stdout",
     "output_type": "stream",
     "text": [
      "Saving figure highest_win_2122\n"
     ]
    },
    {
     "data": {
      "image/png": "[encoded data removed]",
      "text/plain": [
       "<Figure size 432x288 with 1 Axes>"
      ]
     },
     "metadata": {
      "needs_background": "light"
     },
     "output_type": "display_data"
    }
   ],
   "source": [
    "# Calculate home win ratio\n",
    "id_result_2122['total_win_ratio'] = id_result_2122.apply(lambda x: x['total_win_count'] / x['total_played'] if x['total_played'] != 0 else 0, axis=1)\n",
    "\n",
    "# Sort by home win ratio\n",
    "id_result_2122.sort_values(by='total_win_ratio', ascending=False, inplace=True)\n",
    "\n",
    "# Select the first 3 players\n",
    "id_result_2122 = id_result_2122.head(3)\n",
    "# plot\n",
    "\n",
    "fig = id_result_2122.plot(kind='bar', x='id', y='total_win_ratio', legend=True)\n",
    "fig.set_xlabel(\"id\")\n",
    "fig.set_ylabel(\"total_win_ratio\")\n",
    "fig.set_title(\"Players with highest win ratio in season 2021/22\")\n",
    "save_fig(\"highest_win_2122\")"
   ]
  },
  {
   "cell_type": "code",
   "execution_count": 52,
   "metadata": {},
   "outputs": [
    {
     "name": "stdout",
     "output_type": "stream",
     "text": [
      "Win ratio ranking in season 2021/22\n",
      "1. 2574    Ilkay Gündogan\n",
      "Name: name, dtype: object\n",
      "2. 2145    Aymeric Laporte\n",
      "Name: name, dtype: object\n",
      "3. 544    Rodri\n",
      "Name: name, dtype: object\n"
     ]
    }
   ],
   "source": [
    "print(\"Win ratio ranking in season 2021/22\")\n",
    "print(f'1. {get_name_by_id(df_players_1920, 59859)}')\n",
    "print(f'2. {get_name_by_id(df_players_1920, 146941)}')\n",
    "print(f'3. {get_name_by_id(df_players_1920, 220566)}')"
   ]
  },
  {
   "cell_type": "code",
   "execution_count": 53,
   "metadata": {},
   "outputs": [
    {
     "name": "stdout",
     "output_type": "stream",
     "text": [
      "         id  home_win_count  home_lose_count  home_draw_count  home_played  \\\n",
      "123  146941              15                2               15           18   \n",
      "58   220566              14                2               14           17   \n",
      "126   59859               8                1                8           10   \n",
      "\n",
      "     away_win_count  away_lose_count  away_draw_count  away_played  \\\n",
      "123              11                0               11           15   \n",
      "58               12                0               12           16   \n",
      "126               9                1                9           10   \n",
      "\n",
      "     total_played  total_win_count  total_lose_count  total_draw_count  \\\n",
      "123            33               26                 2                26   \n",
      "58             33               26                 2                26   \n",
      "126            20               17                 2                17   \n",
      "\n",
      "     total_win_ratio  home_win_ratio  \n",
      "123         0.787879        0.833333  \n",
      "58          0.787879        0.823529  \n",
      "126         0.850000        0.800000  \n",
      "         id  home_win_count  home_lose_count  home_draw_count  home_played  \\\n",
      "126   59859               8                1                8           10   \n",
      "58   220566              14                2               14           17   \n",
      "123  146941              15                2               15           18   \n",
      "\n",
      "     away_win_count  away_lose_count  away_draw_count  away_played  \\\n",
      "126               9                1                9           10   \n",
      "58               12                0               12           16   \n",
      "123              11                0               11           15   \n",
      "\n",
      "     total_played  total_win_count  total_lose_count  total_draw_count  \\\n",
      "126            20               17                 2                17   \n",
      "58             33               26                 2                26   \n",
      "123            33               26                 2                26   \n",
      "\n",
      "     total_win_ratio  home_win_ratio  away_win_ratio  \n",
      "126         0.850000        0.800000        0.900000  \n",
      "58          0.787879        0.823529        0.750000  \n",
      "123         0.787879        0.833333        0.733333  \n"
     ]
    },
    {
     "name": "stderr",
     "output_type": "stream",
     "text": [
      "/var/folders/pr/blnkzjbd0gsc2w67v8dbtyqc0000gn/T/ipykernel_17822/2118021407.py:2: SettingWithCopyWarning: \n",
      "A value is trying to be set on a copy of a slice from a DataFrame.\n",
      "Try using .loc[row_indexer,col_indexer] = value instead\n",
      "\n",
      "See the caveats in the documentation: https://pandas.pydata.org/pandas-docs/stable/user_guide/indexing.html#returning-a-view-versus-a-copy\n",
      "  id_result_2122['home_win_ratio'] = id_result_2122.apply(lambda x: x['home_win_count'] / x['home_played'] if x['home_played'] != 0 else 0, axis=1)\n",
      "/Users/lggvu/opt/anaconda3/lib/python3.9/site-packages/pandas/util/_decorators.py:311: SettingWithCopyWarning: \n",
      "A value is trying to be set on a copy of a slice from a DataFrame\n",
      "\n",
      "See the caveats in the documentation: https://pandas.pydata.org/pandas-docs/stable/user_guide/indexing.html#returning-a-view-versus-a-copy\n",
      "  return func(*args, **kwargs)\n",
      "/var/folders/pr/blnkzjbd0gsc2w67v8dbtyqc0000gn/T/ipykernel_17822/2118021407.py:18: SettingWithCopyWarning: \n",
      "A value is trying to be set on a copy of a slice from a DataFrame.\n",
      "Try using .loc[row_indexer,col_indexer] = value instead\n",
      "\n",
      "See the caveats in the documentation: https://pandas.pydata.org/pandas-docs/stable/user_guide/indexing.html#returning-a-view-versus-a-copy\n",
      "  id_result_2122['away_win_ratio'] = id_result_2122.apply(lambda x: x['away_win_count'] / x['away_played'] if x['away_played'] != 0 else 0, axis=1)\n",
      "/Users/lggvu/opt/anaconda3/lib/python3.9/site-packages/pandas/util/_decorators.py:311: SettingWithCopyWarning: \n",
      "A value is trying to be set on a copy of a slice from a DataFrame\n",
      "\n",
      "See the caveats in the documentation: https://pandas.pydata.org/pandas-docs/stable/user_guide/indexing.html#returning-a-view-versus-a-copy\n",
      "  return func(*args, **kwargs)\n"
     ]
    },
    {
     "data": {
      "image/png": "[encoded data removed]",
      "text/plain": [
       "<Figure size 720x360 with 2 Axes>"
      ]
     },
     "metadata": {
      "needs_background": "light"
     },
     "output_type": "display_data"
    },
    {
     "name": "stdout",
     "output_type": "stream",
     "text": [
      "Saving figure home_away_win_ratio_2122\n"
     ]
    },
    {
     "data": {
      "text/plain": [
       "<Figure size 432x288 with 0 Axes>"
      ]
     },
     "metadata": {},
     "output_type": "display_data"
    }
   ],
   "source": [
    "# Calculate home win ratio\n",
    "id_result_2122['home_win_ratio'] = id_result_2122.apply(lambda x: x['home_win_count'] / x['home_played'] if x['home_played'] != 0 else 0, axis=1)\n",
    "\n",
    "# Sort by home win ratio\n",
    "id_result_2122.sort_values(by='home_win_ratio', ascending=False, inplace=True)\n",
    "\n",
    "# Select the first 3 players\n",
    "id_result_2122 = id_result_2122.head(3)\n",
    "print(id_result_2122)\n",
    "# plot\n",
    "fig, ax = plt.subplots(1, 2, figsize=(10, 5))\n",
    "\n",
    "id_result_2122.plot(kind='bar', x='id', y='home_win_ratio', legend=True, ax=ax[0])\n",
    "ax[0].set_xlabel(\"id\")\n",
    "ax[0].set_ylabel(\"home_win_ratio\")\n",
    "\n",
    "# Calculate away win ratio\n",
    "id_result_2122['away_win_ratio'] = id_result_2122.apply(lambda x: x['away_win_count'] / x['away_played'] if x['away_played'] != 0 else 0, axis=1)\n",
    "\n",
    "# Sort by away win ratio\n",
    "id_result_2122.sort_values(by='away_win_ratio', ascending=False, inplace=True)\n",
    "\n",
    "# Select the first 3 players\n",
    "id_result_2122 = id_result_2122.head(3)\n",
    "print(id_result_2122)\n",
    "\n",
    "id_result_2122.plot(kind='bar', x='id', y='away_win_ratio', legend=True, ax=ax[1])\n",
    "ax[1].set_xlabel(\"id\")\n",
    "ax[1].set_ylabel(\"away_win_ratio\")\n",
    "\n",
    "plt.tight_layout()\n",
    "plt.show()\n",
    "save_fig(\"home_away_win_ratio_2122\")"
   ]
  },
  {
   "cell_type": "code",
   "execution_count": 74,
   "metadata": {},
   "outputs": [
    {
     "name": "stdout",
     "output_type": "stream",
     "text": [
      "Home win ratio ranking in season 2021/22\n",
      "1. 2145    Aymeric Laporte\n",
      "Name: name, dtype: object\n",
      "2. 544    Rodri\n",
      "Name: name, dtype: object\n",
      "3. 2574    Ilkay Gündogan\n",
      "Name: name, dtype: object\n",
      "\n",
      "Away win ratio ranking in season 2021/22\n",
      "1. 2574    Ilkay Gündogan\n",
      "Name: name, dtype: object\n",
      "2. 544    Rodri\n",
      "Name: name, dtype: object\n",
      "3. 2145    Aymeric Laporte\n",
      "Name: name, dtype: object\n"
     ]
    }
   ],
   "source": [
    "print(\"Home win ratio ranking in season 2021/22\")\n",
    "print(f'1. {get_name_by_id(df_players_1920, 146941)}')\n",
    "print(f'2. {get_name_by_id(df_players_1920, 220566)}')\n",
    "print(f'3. {get_name_by_id(df_players_1920, 59859)}')\n",
    "\n",
    "print('')\n",
    "print(\"Away win ratio ranking in season 2021/22\")\n",
    "print(f'1. {get_name_by_id(df_players_1920, 59859)}')\n",
    "print(f'2. {get_name_by_id(df_players_1920, 220566)}')\n",
    "print(f'3. {get_name_by_id(df_players_1920, 146941)}')"
   ]
  },
  {
   "cell_type": "markdown",
   "metadata": {},
   "source": [
    "### Number of appearances by positions"
   ]
  },
  {
   "cell_type": "markdown",
   "metadata": {},
   "source": [
    "#### Season 19/20"
   ]
  },
  {
   "cell_type": "code",
   "execution_count": 55,
   "metadata": {},
   "outputs": [],
   "source": [
    "# 2019/20\n",
    "from collections import defaultdict\n",
    "\n",
    "def pos_id_and_id_pos(appear_season, df_season):\n",
    "    id_pos = {}\n",
    "    for i in appear_season.keys():\n",
    "        id_pos[i] = df_season.columns[df_season.isin([i]).any()][0]\n",
    "    id_pos = {k:re.search(r\"/(.*?)_\", id_pos[k]).group(1) for k in id_pos} # for example, 30900: gk, 30000: fw\n",
    "\n",
    "    pos_id = defaultdict(list)\n",
    "    for key, value in id_pos.items():\n",
    "        pos_id[value].append(key)\n",
    "    pos_id = dict(pos_id)  # for example, 'gk': [100, 200], 'mf': [300,400]\n",
    "\n",
    "    return id_pos, pos_id"
   ]
  },
  {
   "cell_type": "code",
   "execution_count": 56,
   "metadata": {},
   "outputs": [],
   "source": [
    "_, pos_id_1920 = pos_id_and_id_pos(appear_1920, df_1920)"
   ]
  },
  {
   "cell_type": "code",
   "execution_count": 57,
   "metadata": {},
   "outputs": [],
   "source": [
    "def appearances_by_pos(pos, pos_id, appear_season):\n",
    "    pos_appearances = {}\n",
    "    for id in pos_id[pos]:\n",
    "        pos_appearances[id] = appear_season[id] \n",
    "    return pos_appearances"
   ]
  },
  {
   "cell_type": "code",
   "execution_count": 58,
   "metadata": {},
   "outputs": [
    {
     "data": {
      "image/png": "[encoded data removed]",
      "text/plain": [
       "<Figure size 432x288 with 1 Axes>"
      ]
     },
     "metadata": {
      "needs_background": "light"
     },
     "output_type": "display_data"
    },
    {
     "data": {
      "text/plain": [
       "<Figure size 432x288 with 0 Axes>"
      ]
     },
     "metadata": {},
     "output_type": "display_data"
    }
   ],
   "source": [
    "data_1920 = {'gk': list(appearances_by_pos('gk', pos_id_1920,appear_1920).values()), \n",
    "        'df': list(appearances_by_pos('df', pos_id_1920, appear_1920).values()),\n",
    "        'mf': list(appearances_by_pos('mf', pos_id_1920, appear_1920).values()),\n",
    "        'fw': list(appearances_by_pos('fw', pos_id_1920, appear_1920).values())}\n",
    "\n",
    "for key in data_1920:\n",
    "    sns.kdeplot(data_1920[key], label=key, cut=0)\n",
    "\n",
    "plt.legend()\n",
    "plt.title(\"Distribution of appearances by position in 2019/20 season\")\n",
    "plt.show()\n",
    "plt.savefig(os.path.join(VIS_PATH, 'appearance_dist_by_pos_1920.png'))"
   ]
  },
  {
   "cell_type": "markdown",
   "metadata": {},
   "source": [
    "#### Season 20/21"
   ]
  },
  {
   "cell_type": "code",
   "execution_count": 59,
   "metadata": {},
   "outputs": [
    {
     "data": {
      "image/png": "[encoded data removed]",
      "text/plain": [
       "<Figure size 432x288 with 1 Axes>"
      ]
     },
     "metadata": {
      "needs_background": "light"
     },
     "output_type": "display_data"
    },
    {
     "data": {
      "text/plain": [
       "<Figure size 432x288 with 0 Axes>"
      ]
     },
     "metadata": {},
     "output_type": "display_data"
    }
   ],
   "source": [
    "_, pos_id_2021 = pos_id_and_id_pos(appear_2021, df_2021)\n",
    "\n",
    "data_2021 = {'gk': list(appearances_by_pos('gk', pos_id_2021, appear_2021).values()), \n",
    "        'df': list(appearances_by_pos('df', pos_id_2021, appear_2021).values()),\n",
    "        'mf': list(appearances_by_pos('mf', pos_id_2021, appear_2021).values()),\n",
    "        'fw': list(appearances_by_pos('fw', pos_id_2021, appear_2021).values())}\n",
    "\n",
    "for key in data_2021:\n",
    "    sns.kdeplot(data_2021[key], label=key, cut=0)\n",
    "\n",
    "plt.legend()\n",
    "plt.title(\"Distribution of appearances by position in 2020/21 season\")\n",
    "plt.show()\n",
    "plt.savefig(os.path.join(VIS_PATH, 'appearance_dist_by_pos_2021.png'))"
   ]
  },
  {
   "cell_type": "markdown",
   "metadata": {},
   "source": [
    "#### Season 21/22"
   ]
  },
  {
   "cell_type": "code",
   "execution_count": 60,
   "metadata": {},
   "outputs": [
    {
     "data": {
      "image/png": "[encoded data removed]",
      "text/plain": [
       "<Figure size 432x288 with 1 Axes>"
      ]
     },
     "metadata": {
      "needs_background": "light"
     },
     "output_type": "display_data"
    },
    {
     "data": {
      "text/plain": [
       "<Figure size 432x288 with 0 Axes>"
      ]
     },
     "metadata": {},
     "output_type": "display_data"
    }
   ],
   "source": [
    "_, pos_id_2122 = pos_id_and_id_pos(appear_2122, df_2122)\n",
    "\n",
    "data_2122 = {'gk': list(appearances_by_pos('gk', pos_id_2122, appear_2122).values()), \n",
    "        'df': list(appearances_by_pos('df', pos_id_2122, appear_2122).values()),\n",
    "        'mf': list(appearances_by_pos('mf', pos_id_2122, appear_2122).values()),\n",
    "        'fw': list(appearances_by_pos('fw', pos_id_2122, appear_2122).values())}\n",
    "\n",
    "for key in data_2122:\n",
    "    sns.kdeplot(data_2122[key], label=key, cut=0)\n",
    "\n",
    "plt.legend()\n",
    "plt.title(\"Distribution of appearances by position in 2021/22 season\")\n",
    "plt.show()\n",
    "plt.savefig(os.path.join(VIS_PATH, 'appearance_dist_by_pos_2122.png'))"
   ]
  },
  {
   "cell_type": "markdown",
   "metadata": {},
   "source": [
    "**NOTE:** It is clearly shown that goalkeepers tend to attend more matches than any other positions. Mostly, goalkeepers attend most of the club's matches throughout the seasons."
   ]
  },
  {
   "cell_type": "markdown",
   "metadata": {},
   "source": [
    "## Most common lineups"
   ]
  },
  {
   "cell_type": "markdown",
   "metadata": {},
   "source": [
    "### All three seasons"
   ]
  },
  {
   "cell_type": "code",
   "execution_count": 61,
   "metadata": {},
   "outputs": [],
   "source": [
    "# yield lineup from the df\n",
    "df_lineups = df_id\n",
    "\n",
    "df_lineups['num_df_home'] = (df_lineups.loc[: ,['home/df_0','home/df_1','home/df_2','home/df_3','home/df_4']] != -1.0).sum(axis=1)\n",
    "df_lineups['num_df_away'] = (df_lineups.loc[: ,['away/df_0','away/df_1','away/df_2','away/df_3']] != -1.0).sum(axis=1)\n",
    "df_lineups['num_mf_home'] = (df_lineups.loc[: ,['home/mf_0','home/mf_1','home/mf_2','home/mf_3','home/mf_4']] != -1.0).sum(axis=1)\n",
    "df_lineups['num_mf_away'] = (df_lineups.loc[: ,['away/mf_0','away/mf_1','away/mf_2','away/mf_3','away/mf_4']] != -1.0).sum(axis=1)\n",
    "df_lineups['num_fw_home'] = (df_lineups.loc[: ,['home/fw_0','home/fw_1','home/fw_2']] != -1.0).sum(axis=1)\n",
    "df_lineups['num_fw_away'] = (df_lineups.loc[: ,['away/fw_0','away/fw_1','away/fw_2']] != -1.0).sum(axis=1)\n",
    "\n",
    "# ['home/gk_0','home/df_0','home/df_1','home/df_2','home/df_3','home/df_4','home/mf_0','home/mf_1','home/mf_2','home/mf_3','home/mf_4','home/fw_0','home/fw_1','home/fw_2','away/gk_0','away/df_0','away/df_1','away/df_2','away/df_3','away/mf_0','away/mf_1','away/mf_2','away/mf_3','away/mf_4','away/fw_0','away/fw_1','away/fw_2']\n",
    "\n",
    "df_lineups[\"home/lineup\"] = df_lineups[\"num_df_home\"].astype(str) + \"-\" + df_lineups[\"num_mf_home\"].astype(str) + \"-\" + df_lineups[\"num_fw_home\"].astype(str)\n",
    "df_lineups[\"away/lineup\"] = df_lineups[\"num_df_away\"].astype(str) + \"-\" + df_lineups[\"num_mf_away\"].astype(str) + \"-\" + df_lineups[\"num_fw_away\"].astype(str)"
   ]
  },
  {
   "cell_type": "code",
   "execution_count": 62,
   "metadata": {},
   "outputs": [
    {
     "name": "stdout",
     "output_type": "stream",
     "text": [
      "Number of distinct lineups used by home teams:  7\n",
      "Number of distinct lineups used by away teams:  7\n"
     ]
    }
   ],
   "source": [
    "print(\"Number of distinct lineups used by home teams: \", df_lineups['home/lineup'].nunique())\n",
    "print(\"Number of distinct lineups used by away teams: \", df_lineups['away/lineup'].nunique())"
   ]
  },
  {
   "cell_type": "code",
   "execution_count": 63,
   "metadata": {},
   "outputs": [
    {
     "name": "stdout",
     "output_type": "stream",
     "text": [
      "Home lineups:  ['4-5-1' '4-4-2' '4-3-3' '3-4-3' '3-5-2' '5-4-1' '5-3-2']\n",
      "Away lineups:  ['4-3-3' '4-5-1' '3-4-3' '3-5-2' '4-4-2' '4-4-1' '4-3-2']\n"
     ]
    }
   ],
   "source": [
    "print(\"Home lineups: \", df_lineups['home/lineup'].unique())\n",
    "print(\"Away lineups: \", df_lineups['away/lineup'].unique())"
   ]
  },
  {
   "cell_type": "code",
   "execution_count": 64,
   "metadata": {},
   "outputs": [
    {
     "name": "stdout",
     "output_type": "stream",
     "text": [
      "Most common lineups used by home teams:  4-5-1\n",
      "Most common lineups used by away teams:  4-5-1\n"
     ]
    }
   ],
   "source": [
    "print(\"Most common lineups used by home teams: \", df_lineups['home/lineup'].mode().values[0])\n",
    "print(\"Most common lineups used by away teams: \", df_lineups['away/lineup'].mode().values[0])"
   ]
  },
  {
   "cell_type": "code",
   "execution_count": 65,
   "metadata": {},
   "outputs": [],
   "source": [
    "# Get the count of each unique value in the 'home/lineup' column\n",
    "home_counts = df_lineups['home/lineup'].value_counts().reset_index()\n",
    "\n",
    "# Rename the columns for clarity\n",
    "home_counts.columns = ['lineup', 'occurrences']\n",
    "\n",
    "# Repeat the process for the 'away/lineup' column\n",
    "away_counts = df_lineups['away/lineup'].value_counts().reset_index()\n",
    "away_counts.columns = ['lineup', 'occurrences']\n",
    "\n",
    "# Combine the two dataframes into one\n",
    "lineups_occurence = pd.concat([home_counts, away_counts])\n",
    "\n",
    "# Group the data by lineup and sum the occurrences\n",
    "lineups_occurence = lineups_occurence.groupby('lineup').sum().reset_index()"
   ]
  },
  {
   "cell_type": "code",
   "execution_count": 66,
   "metadata": {},
   "outputs": [
    {
     "data": {
      "image/png": "[encoded data removed]",
      "text/plain": [
       "<Figure size 432x288 with 1 Axes>"
      ]
     },
     "metadata": {
      "needs_background": "light"
     },
     "output_type": "display_data"
    },
    {
     "data": {
      "text/plain": [
       "<Figure size 432x288 with 0 Axes>"
      ]
     },
     "metadata": {},
     "output_type": "display_data"
    }
   ],
   "source": [
    "# Plot the bar chart using seaborn\n",
    "sns.barplot(x='lineup', y='occurrences', data=lineups_occurence)\n",
    "\n",
    "# Add a title and labels to the plot\n",
    "plt.title('Lineup Occurrences')\n",
    "plt.xlabel('Lineup')\n",
    "plt.ylabel('Occurrences')\n",
    "\n",
    "# Show the plot\n",
    "plt.show()\n",
    "plt.savefig(os.path.join(VIS_PATH, \"lineup_occurence.png\"))"
   ]
  },
  {
   "cell_type": "markdown",
   "metadata": {},
   "source": [
    "**NOTE:** It can be seen that teams prefer to play with a dense midfield. Also, it is also shown that midfielders play a vital role in the victory of a team. (shown in **Section 4**, file `02_exploratory_data_analysis.ipynb`"
   ]
  },
  {
   "cell_type": "markdown",
   "metadata": {},
   "source": [
    "## Most effective lineups"
   ]
  },
  {
   "cell_type": "markdown",
   "metadata": {},
   "source": [
    "### All three seasons"
   ]
  },
  {
   "cell_type": "code",
   "execution_count": 67,
   "metadata": {},
   "outputs": [],
   "source": [
    "df_lineups['away_result'] = np.where(df_lineups['home_result'] == 'win', 'lose',\n",
    "                             np.where(df_lineups['home_result'] == 'lose', 'win', 'draw'))"
   ]
  },
  {
   "cell_type": "code",
   "execution_count": 68,
   "metadata": {},
   "outputs": [
    {
     "name": "stdout",
     "output_type": "stream",
     "text": [
      "  home/lineup home_result away/lineup away_result\n",
      "0       4-5-1        lose       4-3-3         win\n",
      "1       4-4-2         win       4-5-1        lose\n",
      "2       4-3-3         win       4-5-1        lose\n",
      "3       4-4-2         win       3-4-3        lose\n",
      "4       4-5-1         win       4-5-1        lose\n",
      "5       4-5-1        draw       3-5-2        draw\n",
      "6       3-4-3        draw       3-5-2        draw\n",
      "7       4-4-2        lose       3-4-3         win\n",
      "8       4-4-2        draw       4-5-1        draw\n",
      "9       3-5-2        lose       4-5-1         win\n"
     ]
    }
   ],
   "source": [
    "print(df_lineups.loc[:, ['home/lineup', 'home_result', 'away/lineup', 'away_result']].head(10))"
   ]
  },
  {
   "cell_type": "code",
   "execution_count": 69,
   "metadata": {},
   "outputs": [
    {
     "name": "stdout",
     "output_type": "stream",
     "text": [
      "['5-3-2', '4-3-3', '3-5-2', '5-4-1', '4-3-2', '4-4-2', '4-5-1', '3-4-3', '4-4-1']\n"
     ]
    }
   ],
   "source": [
    "print(list(set(['4-5-1', '4-4-2', '4-3-3', '3-4-3', '3-5-2', '5-4-1', '5-3-2','4-3-3', '4-5-1', '3-4-3', '3-5-2', '4-4-2', '4-4-1', '4-3-2'])))"
   ]
  },
  {
   "cell_type": "code",
   "execution_count": 70,
   "metadata": {},
   "outputs": [],
   "source": [
    "#df_loss_count\n",
    "#df_wins_count\n",
    "#df_draw_count\n",
    "results = ['win', 'lose', 'draw']\n",
    "lineups = ['4-3-2', '5-3-2', '5-4-1', '3-4-3', '3-5-2', '4-4-1', '4-4-2', '4-3-3', '4-5-1']\n",
    "\n",
    "# create win_df, counting the number of matches win by each lineup\n",
    "win_counts = {lineup: 0 for lineup in lineups}\n",
    "\n",
    "for index, row in df_lineups.iterrows():\n",
    "    if row['home_result'] == 'win':\n",
    "        win_counts[row['home/lineup']] += 1\n",
    "    elif row['away_result'] == 'win':\n",
    "        win_counts[row['away/lineup']] += 1\n",
    "\n",
    "win_df = pd.DataFrame({'lineup': list(win_counts.keys()), 'count': list(win_counts.values())})\n",
    "\n",
    "# create lose_df\n",
    "lose_counts = {lineup: 0 for lineup in lineups}\n",
    "\n",
    "for index, row in df_lineups.iterrows():\n",
    "    if row['home_result'] == 'lose':\n",
    "        lose_counts[row['home/lineup']] += 1\n",
    "    elif row['away_result'] == 'lose':\n",
    "        lose_counts[row['away/lineup']] += 1\n",
    "\n",
    "lose_df = pd.DataFrame({'lineup': list(lose_counts.keys()), 'count': list(lose_counts.values())})\n",
    "\n",
    "\n",
    "# create draw_df\n",
    "draw_counts = {lineup: 0 for lineup in lineups}\n",
    "\n",
    "for index, row in df_lineups.iterrows():\n",
    "    if row['home_result'] == 'draw':\n",
    "        draw_counts[row['home/lineup']] += 1\n",
    "    elif row['away_result'] == 'draw':\n",
    "        draw_counts[row['away/lineup']] += 1\n",
    "\n",
    "draw_df = pd.DataFrame({'lineup': list(draw_counts.keys()), 'count': list(draw_counts.values())})\n"
   ]
  },
  {
   "cell_type": "code",
   "execution_count": 71,
   "metadata": {},
   "outputs": [],
   "source": [
    "# outer join the three dataframes above\n",
    "lineup_result = pd.merge(win_df, lose_df, on='lineup', how='outer')\n",
    "lineup_result = pd.merge(lineup_result, draw_df, on='lineup', how='outer')\n",
    "lineup_result = lineup_result.fillna(0)\n",
    "lineup_result = lineup_result.rename(columns={'count_x': 'win', 'count_y': 'loss', 'count':'draw'})"
   ]
  },
  {
   "cell_type": "code",
   "execution_count": 72,
   "metadata": {},
   "outputs": [
    {
     "data": {
      "image/png": "[encoded data removed]",
      "text/plain": [
       "<Figure size 1080x360 with 3 Axes>"
      ]
     },
     "metadata": {},
     "output_type": "display_data"
    },
    {
     "data": {
      "text/plain": [
       "<Figure size 432x288 with 0 Axes>"
      ]
     },
     "metadata": {},
     "output_type": "display_data"
    }
   ],
   "source": [
    "# Calculate total wins, losses, and draws\n",
    "total_wins = lineup_result['win'].sum()\n",
    "total_losses = lineup_result['loss'].sum()\n",
    "total_draws = lineup_result['draw'].sum()\n",
    "\n",
    "# Create pie charts for wins, losses, and draws\n",
    "sizes_wins = lineup_result['win'] / total_wins\n",
    "sizes_losses = lineup_result['loss'] / total_losses\n",
    "sizes_draws = lineup_result['draw'] / total_draws\n",
    "\n",
    "# Plot the pie charts\n",
    "fig, axs = plt.subplots(1, 3, figsize=(15, 5))\n",
    "axs[0].pie(sizes_wins, labels=['' for i in range(len(lineup_result))], startangle=90, autopct='%1.1f%%')\n",
    "axs[0].set_title(\"Wins\")\n",
    "\n",
    "axs[1].pie(sizes_losses, labels=['' for i in range(len(lineup_result))], startangle=90, autopct='%1.1f%%')\n",
    "axs[1].set_title(\"Losses\")\n",
    "\n",
    "axs[2].pie(sizes_draws, labels=['' for i in range(len(lineup_result))], startangle=90, autopct='%1.1f%%')\n",
    "axs[2].set_title(\"Draws\")\n",
    "\n",
    "plt.tight_layout()\n",
    "\n",
    "# Create the legend\n",
    "fig.legend(lineup_result['lineup'], loc='lower center', ncol=len(lineup_result))\n",
    "plt.show()\n",
    "plt.savefig(os.path.join(VIS_PATH, 'pie_chart_for_lineup_and_result.png'))"
   ]
  },
  {
   "cell_type": "markdown",
   "metadata": {},
   "source": [
    "**NOTE:** It can be seen that the `4-5-1` lineup accounts for the highest portion in the total number of victories."
   ]
  },
  {
   "cell_type": "code",
   "execution_count": null,
   "metadata": {},
   "outputs": [],
   "source": []
  }
 ],
 "metadata": {
  "interpreter": {
   "hash": "748eec17473f6f376b5c65ae92e7c6a69fed7d579ff08fc656d49a898287f9ac"
  },
  "kernelspec": {
   "display_name": "Python 3.9.7 ('base')",
   "language": "python",
   "name": "python3"
  },
  "language_info": {
   "codemirror_mode": {
    "name": "ipython",
    "version": 3
   },
   "file_extension": ".py",
   "mimetype": "text/x-python",
   "name": "python",
   "nbconvert_exporter": "python",
   "pygments_lexer": "ipython3",
   "version": "3.9.7"
  },
  "orig_nbformat": 4
 },
 "nbformat": 4,
 "nbformat_minor": 2
}
